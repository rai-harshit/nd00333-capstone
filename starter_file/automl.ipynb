{
  "cells": [
    {
      "cell_type": "markdown",
      "source": [
        "# Automated ML\n",
        "\n",
        "TODO: Import Dependencies. In the cell below, import all the dependencies that you will need to complete the project."
      ],
      "metadata": {}
    },
    {
      "cell_type": "code",
      "source": [
        "from azureml.core import Workspace, Experiment\r\n",
        "from azureml.data.dataset_factory import TabularDatasetFactory\r\n",
        "from azureml.train.automl import AutoMLConfig\r\n",
        "import os\r\n",
        "import joblib\r\n",
        "from azureml.core.webservice import AciWebservice, Webservice\r\n",
        "from azureml.core.model import Model\r\n",
        "import requests\r\n",
        "import json"
      ],
      "outputs": [],
      "execution_count": 1,
      "metadata": {
        "gather": {
          "logged": 1612027459305
        },
        "jupyter": {
          "outputs_hidden": false,
          "source_hidden": false
        },
        "nteract": {
          "transient": {
            "deleting": false
          }
        }
      }
    },
    {
      "cell_type": "markdown",
      "source": [
        "## Dataset\n",
        "\n",
        "### Overview\n",
        "The Car Evaluation dataset has been taken from the UCI Machine Learning Repository. This dataset contains various structural and technical details about cars on the basis of which they are classified into different categories. \n",
        "<br>Some of those details are: \n",
        "<br>1. Cost of buying the car (low, med, high, vhigh)\n",
        "<br>2. Maintenance of the car (low, med, high, vhigh)\n",
        "<br>3. Number of doors present in the car (2,3,4,5more)\n",
        "<br>4. Number of passangers the car can accomodate (2, 4, more)\n",
        "<br>5. Luggage space in the car (small, med)\n",
        "<br>5. Safety of the car (low, med, high)\n",
        "<br>The target class has 4 possible values: unacc, acc, good, vgood (ranging the category of car from the worst to the best).\n",
        "<br>The dataset can be accessed from the following link: https://archive.ics.uci.edu/ml/datasets/Car+Evaluation\n",
        "<br><br>We will be performing Classification using AutoML on the above dataset. In this case, we wont be sticking to one single algorithm, but rather leave it up to the Azure AutoML to come up with the best performing model."
      ],
      "metadata": {}
    },
    {
      "cell_type": "code",
      "source": [
        "ws = Workspace.from_config()\n",
        "\n",
        "# choose a name for experiment\n",
        "experiment_name = 'Car_Evaluation_AutoML'\n",
        "\n",
        "experiment=Experiment(ws, experiment_name)"
      ],
      "outputs": [],
      "execution_count": 2,
      "metadata": {
        "gather": {
          "logged": 1612027464024
        },
        "jupyter": {
          "outputs_hidden": false,
          "source_hidden": false
        },
        "nteract": {
          "transient": {
            "deleting": false
          }
        }
      }
    },
    {
      "cell_type": "code",
      "source": [
        "from azureml.core.compute import ComputeTarget, AmlCompute\r\n",
        "\r\n",
        "# TODO: Create compute cluster\r\n",
        "# Use vm_size = \"Standard_D2_V2\" in your provisioning configuration.\r\n",
        "# max_nodes should be no greater than 4.\r\n",
        "\r\n",
        "try:\r\n",
        "    cpu_cluster = ComputeTarget(workspace=ws, name=\"capstone-compute\")\r\n",
        "    print('Found existing cluster, use it.')\r\n",
        "except:\r\n",
        "    compute_config = AmlCompute.provisioning_configuration(vm_size='STANDARD_D2_V2', max_nodes=4)\r\n",
        "    cpu_cluster = ComputeTarget.create(ws,\"project-cluster\", compute_config)\r\n",
        "\r\n",
        "cpu_cluster.wait_for_completion(show_output=True)"
      ],
      "outputs": [
        {
          "output_type": "stream",
          "name": "stdout",
          "text": [
            "Succeeded\n",
            "AmlCompute wait for completion finished\n",
            "\n",
            "Minimum number of nodes requested have been provisioned\n"
          ]
        }
      ],
      "execution_count": 3,
      "metadata": {
        "collapsed": true,
        "jupyter": {
          "source_hidden": false,
          "outputs_hidden": false
        },
        "nteract": {
          "transient": {
            "deleting": false
          }
        },
        "gather": {
          "logged": 1612027464445
        }
      }
    },
    {
      "cell_type": "markdown",
      "source": [
        "## AutoML Configuration\n",
        "\n",
        "For the AutoML run, we use several settings like:\n",
        "<br>1. Experiment Timeout: 30 minutes (since we need to complete this experiment in a limited timeframe).\n",
        "<br>2. Primary Metric: Accuracy (the metric on the basis of which performance of the models is evaluated).\n",
        "<br>3. Enable DNN: True (this allows the AutoML run to look for Deep Neural Network models).\n",
        "<br>4. Enable Early Stopping: True (since we want the training to stop in case the performance of the models starts deteriorating).\n",
        "<br>5. Enable Voting Ensemble & Enable Stack Ensemble: False (since we dont want AutoML to conduct an ensemble of all the models at the end of the run)."
      ],
      "metadata": {}
    },
    {
      "cell_type": "code",
      "source": [
        "ds = TabularDatasetFactory.from_delimited_files(path=\"https://archive.ics.uci.edu/ml/machine-learning-databases/car/car.data\",header=False)"
      ],
      "outputs": [],
      "execution_count": 4,
      "metadata": {
        "collapsed": true,
        "jupyter": {
          "source_hidden": false,
          "outputs_hidden": false
        },
        "nteract": {
          "transient": {
            "deleting": false
          }
        },
        "gather": {
          "logged": 1612027470287
        }
      }
    },
    {
      "cell_type": "code",
      "source": [
        "# TODO: Put your automl settings here\n",
        "automl_settings = {\n",
        "    \"experiment_timeout_minutes\": 30,\n",
        "    \"primary_metric\": 'accuracy',\n",
        "    \"enable_dnn\": True,\n",
        "    \"enable_early_stopping\": True,\n",
        "    \"enable_voting_ensemble\": False,\n",
        "    \"enable_stack_ensemble\": False\n",
        "}\n",
        "\n",
        "# TODO: Put your automl config here\n",
        "automl_config = AutoMLConfig(\n",
        "    task=\"classification\",\n",
        "    compute_target=cpu_cluster,\n",
        "    training_data=ds,\n",
        "    label_column_name=\"Column7\",\n",
        "    **automl_settings\n",
        ")"
      ],
      "outputs": [],
      "execution_count": 5,
      "metadata": {
        "gather": {
          "logged": 1612027470313
        },
        "jupyter": {
          "outputs_hidden": false,
          "source_hidden": false
        },
        "nteract": {
          "transient": {
            "deleting": false
          }
        }
      }
    },
    {
      "cell_type": "code",
      "source": [
        "# TODO: Submit your experiment\n",
        "remote_run = experiment.submit(automl_config,show_output=False)"
      ],
      "outputs": [
        {
          "output_type": "stream",
          "name": "stdout",
          "text": [
            "Running on remote.\n"
          ]
        }
      ],
      "execution_count": 6,
      "metadata": {
        "gather": {
          "logged": 1612027478315
        },
        "jupyter": {
          "outputs_hidden": false,
          "source_hidden": false
        },
        "nteract": {
          "transient": {
            "deleting": false
          }
        }
      }
    },
    {
      "cell_type": "markdown",
      "source": [
        "## Run Details\n",
        "\n",
        "TODO: In the cell below, use the `RunDetails` widget to show the different experiments."
      ],
      "metadata": {}
    },
    {
      "cell_type": "code",
      "source": [
        "from azureml.widgets import RunDetails\r\n",
        "RunDetails(remote_run).show()"
      ],
      "outputs": [
        {
          "output_type": "display_data",
          "data": {
            "text/plain": "_AutoMLWidget(widget_settings={'childWidgetDisplay': 'popup', 'send_telemetry': False, 'log_level': 'INFO', 's…",
            "application/vnd.jupyter.widget-view+json": {
              "version_major": 2,
              "version_minor": 0,
              "model_id": "1fc7c157fd754099a15c544ef4ae715f"
            }
          },
          "metadata": {}
        },
        {
          "output_type": "display_data",
          "data": {
            "application/aml.mini.widget.v1": "{\"status\": \"Completed\", \"workbench_run_details_uri\": \"https://ml.azure.com/experiments/Car_Evaluation_AutoML/runs/AutoML_865b9eff-b5a9-4328-9e4c-d7f5cb1c9293?wsid=/subscriptions/3d1a56d2-7c81-4118-9790-f85d1acf0c77/resourcegroups/aml-quickstarts-136623/workspaces/quick-starts-ws-136623\", \"run_id\": \"AutoML_865b9eff-b5a9-4328-9e4c-d7f5cb1c9293\", \"run_properties\": {\"run_id\": \"AutoML_865b9eff-b5a9-4328-9e4c-d7f5cb1c9293\", \"created_utc\": \"2021-01-30T17:24:36.159561Z\", \"properties\": {\"num_iterations\": \"1000\", \"training_type\": \"TrainFull\", \"acquisition_function\": \"EI\", \"primary_metric\": \"accuracy\", \"train_split\": \"0\", \"acquisition_parameter\": \"0\", \"num_cross_validation\": null, \"target\": \"project-cluster\", \"AMLSettingsJsonString\": \"{\\\"path\\\":null,\\\"name\\\":\\\"Car_Evaluation_AutoML\\\",\\\"subscription_id\\\":\\\"3d1a56d2-7c81-4118-9790-f85d1acf0c77\\\",\\\"resource_group\\\":\\\"aml-quickstarts-136623\\\",\\\"workspace_name\\\":\\\"quick-starts-ws-136623\\\",\\\"region\\\":\\\"southcentralus\\\",\\\"compute_target\\\":\\\"project-cluster\\\",\\\"spark_service\\\":null,\\\"azure_service\\\":\\\"remote\\\",\\\"many_models\\\":false,\\\"pipeline_fetch_max_batch_size\\\":1,\\\"iterations\\\":1000,\\\"primary_metric\\\":\\\"accuracy\\\",\\\"task_type\\\":\\\"classification\\\",\\\"data_script\\\":null,\\\"validation_size\\\":0.0,\\\"n_cross_validations\\\":null,\\\"y_min\\\":null,\\\"y_max\\\":null,\\\"num_classes\\\":null,\\\"featurization\\\":\\\"auto\\\",\\\"_ignore_package_version_incompatibilities\\\":false,\\\"is_timeseries\\\":false,\\\"max_cores_per_iteration\\\":1,\\\"max_concurrent_iterations\\\":1,\\\"iteration_timeout_minutes\\\":null,\\\"mem_in_mb\\\":null,\\\"enforce_time_on_windows\\\":false,\\\"experiment_timeout_minutes\\\":30,\\\"experiment_exit_score\\\":null,\\\"whitelist_models\\\":null,\\\"blacklist_algos\\\":[\\\"TensorFlowLinearClassifier\\\",\\\"TensorFlowDNN\\\"],\\\"supported_models\\\":[\\\"GradientBoosting\\\",\\\"TensorFlowLinearClassifier\\\",\\\"MultinomialNaiveBayes\\\",\\\"SGD\\\",\\\"SVM\\\",\\\"LightGBM\\\",\\\"XGBoostClassifier\\\",\\\"LogisticRegression\\\",\\\"BernoulliNaiveBayes\\\",\\\"LinearSVM\\\",\\\"DecisionTree\\\",\\\"TensorFlowDNN\\\",\\\"RandomForest\\\",\\\"AveragedPerceptronClassifier\\\",\\\"KNN\\\",\\\"ExtremeRandomTrees\\\"],\\\"auto_blacklist\\\":true,\\\"blacklist_samples_reached\\\":false,\\\"exclude_nan_labels\\\":true,\\\"verbosity\\\":20,\\\"_debug_log\\\":\\\"azureml_automl.log\\\",\\\"show_warnings\\\":false,\\\"model_explainability\\\":true,\\\"service_url\\\":null,\\\"sdk_url\\\":null,\\\"sdk_packages\\\":null,\\\"enable_onnx_compatible_models\\\":false,\\\"enable_split_onnx_featurizer_estimator_models\\\":false,\\\"vm_type\\\":\\\"STANDARD_D2_V2\\\",\\\"telemetry_verbosity\\\":20,\\\"send_telemetry\\\":true,\\\"enable_dnn\\\":true,\\\"scenario\\\":\\\"SDK-1.13.0\\\",\\\"environment_label\\\":null,\\\"force_text_dnn\\\":false,\\\"enable_feature_sweeping\\\":true,\\\"enable_early_stopping\\\":true,\\\"early_stopping_n_iters\\\":10,\\\"metrics\\\":null,\\\"enable_ensembling\\\":false,\\\"enable_stack_ensembling\\\":false,\\\"ensemble_iterations\\\":15,\\\"enable_tf\\\":false,\\\"enable_subsampling\\\":null,\\\"subsample_seed\\\":null,\\\"enable_nimbusml\\\":false,\\\"enable_streaming\\\":false,\\\"force_streaming\\\":false,\\\"track_child_runs\\\":true,\\\"allowed_private_models\\\":[],\\\"label_column_name\\\":\\\"Column7\\\",\\\"weight_column_name\\\":null,\\\"cv_split_column_names\\\":null,\\\"enable_local_managed\\\":false,\\\"_local_managed_run_id\\\":null,\\\"cost_mode\\\":1,\\\"lag_length\\\":0,\\\"metric_operation\\\":\\\"maximize\\\",\\\"preprocess\\\":true}\", \"DataPrepJsonString\": \"{\\\\\\\"training_data\\\\\\\": \\\\\\\"{\\\\\\\\\\\\\\\"blocks\\\\\\\\\\\\\\\": [{\\\\\\\\\\\\\\\"id\\\\\\\\\\\\\\\": \\\\\\\\\\\\\\\"4679caec-9608-4d35-a327-dbbe35466cad\\\\\\\\\\\\\\\", \\\\\\\\\\\\\\\"type\\\\\\\\\\\\\\\": \\\\\\\\\\\\\\\"Microsoft.DPrep.GetFilesBlock\\\\\\\\\\\\\\\", \\\\\\\\\\\\\\\"arguments\\\\\\\\\\\\\\\": {\\\\\\\\\\\\\\\"isArchive\\\\\\\\\\\\\\\": false, \\\\\\\\\\\\\\\"path\\\\\\\\\\\\\\\": {\\\\\\\\\\\\\\\"target\\\\\\\\\\\\\\\": 4, \\\\\\\\\\\\\\\"resourceDetails\\\\\\\\\\\\\\\": [{\\\\\\\\\\\\\\\"path\\\\\\\\\\\\\\\": \\\\\\\\\\\\\\\"https://archive.ics.uci.edu/ml/machine-learning-databases/car/car.data\\\\\\\\\\\\\\\"}]}}, \\\\\\\\\\\\\\\"localData\\\\\\\\\\\\\\\": {}, \\\\\\\\\\\\\\\"isEnabled\\\\\\\\\\\\\\\": true, \\\\\\\\\\\\\\\"name\\\\\\\\\\\\\\\": null, \\\\\\\\\\\\\\\"annotation\\\\\\\\\\\\\\\": null}, {\\\\\\\\\\\\\\\"id\\\\\\\\\\\\\\\": \\\\\\\\\\\\\\\"f43ab884-ba51-4a9a-9c14-99e71345ed07\\\\\\\\\\\\\\\", \\\\\\\\\\\\\\\"type\\\\\\\\\\\\\\\": \\\\\\\\\\\\\\\"Microsoft.DPrep.ParseDelimitedBlock\\\\\\\\\\\\\\\", \\\\\\\\\\\\\\\"arguments\\\\\\\\\\\\\\\": {\\\\\\\\\\\\\\\"columnHeadersMode\\\\\\\\\\\\\\\": 0, \\\\\\\\\\\\\\\"fileEncoding\\\\\\\\\\\\\\\": 0, \\\\\\\\\\\\\\\"handleQuotedLineBreaks\\\\\\\\\\\\\\\": false, \\\\\\\\\\\\\\\"preview\\\\\\\\\\\\\\\": false, \\\\\\\\\\\\\\\"separator\\\\\\\\\\\\\\\": \\\\\\\\\\\\\\\",\\\\\\\\\\\\\\\", \\\\\\\\\\\\\\\"skipRows\\\\\\\\\\\\\\\": 0, \\\\\\\\\\\\\\\"skipRowsMode\\\\\\\\\\\\\\\": 0}, \\\\\\\\\\\\\\\"localData\\\\\\\\\\\\\\\": {}, \\\\\\\\\\\\\\\"isEnabled\\\\\\\\\\\\\\\": true, \\\\\\\\\\\\\\\"name\\\\\\\\\\\\\\\": null, \\\\\\\\\\\\\\\"annotation\\\\\\\\\\\\\\\": null}, {\\\\\\\\\\\\\\\"id\\\\\\\\\\\\\\\": \\\\\\\\\\\\\\\"77e21496-97d7-4397-b2e2-badf14d81497\\\\\\\\\\\\\\\", \\\\\\\\\\\\\\\"type\\\\\\\\\\\\\\\": \\\\\\\\\\\\\\\"Microsoft.DPrep.DropColumnsBlock\\\\\\\\\\\\\\\", \\\\\\\\\\\\\\\"arguments\\\\\\\\\\\\\\\": {\\\\\\\\\\\\\\\"columns\\\\\\\\\\\\\\\": {\\\\\\\\\\\\\\\"type\\\\\\\\\\\\\\\": 0, \\\\\\\\\\\\\\\"details\\\\\\\\\\\\\\\": {\\\\\\\\\\\\\\\"selectedColumns\\\\\\\\\\\\\\\": [\\\\\\\\\\\\\\\"Path\\\\\\\\\\\\\\\"]}}}, \\\\\\\\\\\\\\\"localData\\\\\\\\\\\\\\\": {}, \\\\\\\\\\\\\\\"isEnabled\\\\\\\\\\\\\\\": true, \\\\\\\\\\\\\\\"name\\\\\\\\\\\\\\\": null, \\\\\\\\\\\\\\\"annotation\\\\\\\\\\\\\\\": null}, {\\\\\\\\\\\\\\\"id\\\\\\\\\\\\\\\": \\\\\\\\\\\\\\\"bb06c005-2c78-412e-8e5b-8bd568cdf6d1\\\\\\\\\\\\\\\", \\\\\\\\\\\\\\\"type\\\\\\\\\\\\\\\": \\\\\\\\\\\\\\\"Microsoft.DPrep.SetColumnTypesBlock\\\\\\\\\\\\\\\", \\\\\\\\\\\\\\\"arguments\\\\\\\\\\\\\\\": {\\\\\\\\\\\\\\\"columnConversion\\\\\\\\\\\\\\\": [{\\\\\\\\\\\\\\\"column\\\\\\\\\\\\\\\": {\\\\\\\\\\\\\\\"type\\\\\\\\\\\\\\\": 2, \\\\\\\\\\\\\\\"details\\\\\\\\\\\\\\\": {\\\\\\\\\\\\\\\"selectedColumn\\\\\\\\\\\\\\\": \\\\\\\\\\\\\\\"Column1\\\\\\\\\\\\\\\"}}, \\\\\\\\\\\\\\\"typeProperty\\\\\\\\\\\\\\\": 0}, {\\\\\\\\\\\\\\\"column\\\\\\\\\\\\\\\": {\\\\\\\\\\\\\\\"type\\\\\\\\\\\\\\\": 2, \\\\\\\\\\\\\\\"details\\\\\\\\\\\\\\\": {\\\\\\\\\\\\\\\"selectedColumn\\\\\\\\\\\\\\\": \\\\\\\\\\\\\\\"Column2\\\\\\\\\\\\\\\"}}, \\\\\\\\\\\\\\\"typeProperty\\\\\\\\\\\\\\\": 0}, {\\\\\\\\\\\\\\\"column\\\\\\\\\\\\\\\": {\\\\\\\\\\\\\\\"type\\\\\\\\\\\\\\\": 2, \\\\\\\\\\\\\\\"details\\\\\\\\\\\\\\\": {\\\\\\\\\\\\\\\"selectedColumn\\\\\\\\\\\\\\\": \\\\\\\\\\\\\\\"Column3\\\\\\\\\\\\\\\"}}, \\\\\\\\\\\\\\\"typeProperty\\\\\\\\\\\\\\\": 0}, {\\\\\\\\\\\\\\\"column\\\\\\\\\\\\\\\": {\\\\\\\\\\\\\\\"type\\\\\\\\\\\\\\\": 2, \\\\\\\\\\\\\\\"details\\\\\\\\\\\\\\\": {\\\\\\\\\\\\\\\"selectedColumn\\\\\\\\\\\\\\\": \\\\\\\\\\\\\\\"Column4\\\\\\\\\\\\\\\"}}, \\\\\\\\\\\\\\\"typeProperty\\\\\\\\\\\\\\\": 0}, {\\\\\\\\\\\\\\\"column\\\\\\\\\\\\\\\": {\\\\\\\\\\\\\\\"type\\\\\\\\\\\\\\\": 2, \\\\\\\\\\\\\\\"details\\\\\\\\\\\\\\\": {\\\\\\\\\\\\\\\"selectedColumn\\\\\\\\\\\\\\\": \\\\\\\\\\\\\\\"Column5\\\\\\\\\\\\\\\"}}, \\\\\\\\\\\\\\\"typeProperty\\\\\\\\\\\\\\\": 0}, {\\\\\\\\\\\\\\\"column\\\\\\\\\\\\\\\": {\\\\\\\\\\\\\\\"type\\\\\\\\\\\\\\\": 2, \\\\\\\\\\\\\\\"details\\\\\\\\\\\\\\\": {\\\\\\\\\\\\\\\"selectedColumn\\\\\\\\\\\\\\\": \\\\\\\\\\\\\\\"Column6\\\\\\\\\\\\\\\"}}, \\\\\\\\\\\\\\\"typeProperty\\\\\\\\\\\\\\\": 0}, {\\\\\\\\\\\\\\\"column\\\\\\\\\\\\\\\": {\\\\\\\\\\\\\\\"type\\\\\\\\\\\\\\\": 2, \\\\\\\\\\\\\\\"details\\\\\\\\\\\\\\\": {\\\\\\\\\\\\\\\"selectedColumn\\\\\\\\\\\\\\\": \\\\\\\\\\\\\\\"Column7\\\\\\\\\\\\\\\"}}, \\\\\\\\\\\\\\\"typeProperty\\\\\\\\\\\\\\\": 0}]}, \\\\\\\\\\\\\\\"localData\\\\\\\\\\\\\\\": {}, \\\\\\\\\\\\\\\"isEnabled\\\\\\\\\\\\\\\": true, \\\\\\\\\\\\\\\"name\\\\\\\\\\\\\\\": null, \\\\\\\\\\\\\\\"annotation\\\\\\\\\\\\\\\": null}], \\\\\\\\\\\\\\\"inspectors\\\\\\\\\\\\\\\": [], \\\\\\\\\\\\\\\"meta\\\\\\\\\\\\\\\": {\\\\\\\\\\\\\\\"savedDatasetId\\\\\\\\\\\\\\\": \\\\\\\\\\\\\\\"229d1742-b99b-4d87-bd1b-6d3fceb51606\\\\\\\\\\\\\\\", \\\\\\\\\\\\\\\"datasetType\\\\\\\\\\\\\\\": \\\\\\\\\\\\\\\"tabular\\\\\\\\\\\\\\\", \\\\\\\\\\\\\\\"subscriptionId\\\\\\\\\\\\\\\": \\\\\\\\\\\\\\\"3d1a56d2-7c81-4118-9790-f85d1acf0c77\\\\\\\\\\\\\\\", \\\\\\\\\\\\\\\"workspaceId\\\\\\\\\\\\\\\": \\\\\\\\\\\\\\\"168c25e1-5da8-4307-9fb4-154e69f646a4\\\\\\\\\\\\\\\", \\\\\\\\\\\\\\\"workspaceLocation\\\\\\\\\\\\\\\": \\\\\\\\\\\\\\\"southcentralus\\\\\\\\\\\\\\\"}}\\\\\\\", \\\\\\\"activities\\\\\\\": 0}\", \"EnableSubsampling\": null, \"runTemplate\": \"AutoML\", \"azureml.runsource\": \"automl\", \"display_task_type\": \"classification\", \"dependencies_versions\": \"{\\\"azureml-widgets\\\": \\\"1.20.0\\\", \\\"azureml-train\\\": \\\"1.20.0\\\", \\\"azureml-train-restclients-hyperdrive\\\": \\\"1.20.0\\\", \\\"azureml-train-core\\\": \\\"1.20.0\\\", \\\"azureml-train-automl\\\": \\\"1.20.0\\\", \\\"azureml-train-automl-runtime\\\": \\\"1.20.0\\\", \\\"azureml-train-automl-client\\\": \\\"1.20.0\\\", \\\"azureml-tensorboard\\\": \\\"1.20.0\\\", \\\"azureml-telemetry\\\": \\\"1.20.0\\\", \\\"azureml-sdk\\\": \\\"1.20.0\\\", \\\"azureml-samples\\\": \\\"0+unknown\\\", \\\"azureml-pipeline\\\": \\\"1.20.0\\\", \\\"azureml-pipeline-steps\\\": \\\"1.20.0\\\", \\\"azureml-pipeline-core\\\": \\\"1.20.0\\\", \\\"azureml-opendatasets\\\": \\\"1.20.0\\\", \\\"azureml-model-management-sdk\\\": \\\"1.0.1b6.post1\\\", \\\"azureml-mlflow\\\": \\\"1.20.0.post1\\\", \\\"azureml-interpret\\\": \\\"1.20.0\\\", \\\"azureml-explain-model\\\": \\\"1.20.0\\\", \\\"azureml-defaults\\\": \\\"1.20.0\\\", \\\"azureml-dataset-runtime\\\": \\\"1.20.0\\\", \\\"azureml-dataprep\\\": \\\"2.7.3\\\", \\\"azureml-dataprep-rslex\\\": \\\"1.5.0\\\", \\\"azureml-dataprep-native\\\": \\\"27.0.0\\\", \\\"azureml-datadrift\\\": \\\"1.20.0\\\", \\\"azureml-core\\\": \\\"1.20.0\\\", \\\"azureml-contrib-services\\\": \\\"1.20.0\\\", \\\"azureml-contrib-server\\\": \\\"1.20.0\\\", \\\"azureml-contrib-reinforcementlearning\\\": \\\"1.20.0\\\", \\\"azureml-contrib-pipeline-steps\\\": \\\"1.20.0\\\", \\\"azureml-contrib-notebook\\\": \\\"1.20.0\\\", \\\"azureml-contrib-interpret\\\": \\\"1.20.0\\\", \\\"azureml-contrib-gbdt\\\": \\\"1.20.0\\\", \\\"azureml-contrib-fairness\\\": \\\"1.20.0\\\", \\\"azureml-contrib-dataset\\\": \\\"1.20.0\\\", \\\"azureml-cli-common\\\": \\\"1.20.0\\\", \\\"azureml-automl-runtime\\\": \\\"1.20.0\\\", \\\"azureml-automl-core\\\": \\\"1.20.0\\\", \\\"azureml-accel-models\\\": \\\"1.20.0\\\"}\", \"_aml_system_scenario_identification\": \"Remote.Parent\", \"ClientType\": \"SDK\", \"environment_cpu_name\": \"AzureML-AutoML-DNN\", \"environment_cpu_label\": \"prod\", \"environment_gpu_name\": \"AzureML-AutoML-DNN-GPU\", \"environment_gpu_label\": \"prod\", \"root_attribution\": \"automl\", \"attribution\": \"AutoML\", \"Orchestrator\": \"AutoML\", \"CancelUri\": \"https://southcentralus.experiments.azureml.net/jasmine/v1.0/subscriptions/3d1a56d2-7c81-4118-9790-f85d1acf0c77/resourceGroups/aml-quickstarts-136623/providers/Microsoft.MachineLearningServices/workspaces/quick-starts-ws-136623/experimentids/8e05ff02-8331-4433-bd31-a68edb3f9587/cancel/AutoML_865b9eff-b5a9-4328-9e4c-d7f5cb1c9293\", \"ClientSdkVersion\": \"1.20.0.post1\", \"snapshotId\": \"00000000-0000-0000-0000-000000000000\", \"SetupRunId\": \"AutoML_865b9eff-b5a9-4328-9e4c-d7f5cb1c9293_setup\", \"SetupRunContainerId\": \"dcid.AutoML_865b9eff-b5a9-4328-9e4c-d7f5cb1c9293_setup\", \"FeaturizationRunJsonPath\": \"featurizer_container.json\", \"FeaturizationRunId\": \"AutoML_865b9eff-b5a9-4328-9e4c-d7f5cb1c9293_featurize\", \"ProblemInfoJsonString\": \"{\\\"dataset_num_categorical\\\": 0, \\\"is_sparse\\\": true, \\\"subsampling\\\": false, \\\"dataset_classes\\\": 4, \\\"dataset_features\\\": 21, \\\"dataset_samples\\\": 1728, \\\"single_frequency_class_detected\\\": false}\", \"ModelExplainRunId\": \"AutoML_865b9eff-b5a9-4328-9e4c-d7f5cb1c9293_ModelExplain\"}, \"tags\": {\"model_explain_run\": \"best_run\", \"_aml_system_azureml.automlComponent\": \"AutoML\", \"pipeline_id\": \"\", \"score\": \"\", \"predicted_cost\": \"\", \"fit_time\": \"\", \"training_percent\": \"\", \"iteration\": \"\", \"run_preprocessor\": \"\", \"run_algorithm\": \"\", \"dynamic_whitelisting_iterations\": \"<25>;\", \"automl_best_child_run_id\": \"AutoML_865b9eff-b5a9-4328-9e4c-d7f5cb1c9293_0\", \"model_explain_best_run_child_id\": \"AutoML_865b9eff-b5a9-4328-9e4c-d7f5cb1c9293_0\"}, \"end_time_utc\": \"2021-01-30T18:06:26.256618Z\", \"status\": \"Completed\", \"log_files\": {}, \"log_groups\": [], \"run_duration\": \"0:41:50\"}, \"child_runs\": [{\"run_id\": \"AutoML_865b9eff-b5a9-4328-9e4c-d7f5cb1c9293_0\", \"run_number\": 5, \"metric\": null, \"status\": \"Completed\", \"run_type\": \"azureml.scriptrun\", \"training_percent\": \"100\", \"start_time\": \"2021-01-30T17:35:19.691363Z\", \"end_time\": \"2021-01-30T17:36:19.874224Z\", \"created_time\": \"2021-01-30T17:35:07.377782Z\", \"created_time_dt\": \"2021-01-30T17:35:07.377782Z\", \"duration\": \"0:01:12\", \"iteration\": \"0\", \"goal\": \"accuracy_max\", \"run_name\": \"MaxAbsScaler, LightGBM\", \"run_properties\": \"copy=True\", \"primary_metric\": 0.99016204, \"best_metric\": 0.99016204}, {\"run_id\": \"AutoML_865b9eff-b5a9-4328-9e4c-d7f5cb1c9293_1\", \"run_number\": 6, \"metric\": null, \"status\": \"Completed\", \"run_type\": \"azureml.scriptrun\", \"training_percent\": \"100\", \"start_time\": \"2021-01-30T17:36:31.479486Z\", \"end_time\": \"2021-01-30T17:37:22.316757Z\", \"created_time\": \"2021-01-30T17:36:20.800892Z\", \"created_time_dt\": \"2021-01-30T17:36:20.800892Z\", \"duration\": \"0:01:01\", \"iteration\": \"1\", \"goal\": \"accuracy_max\", \"run_name\": \"MaxAbsScaler, XGBoostClassifier\", \"run_properties\": \"copy=True\", \"primary_metric\": 0.94328704, \"best_metric\": 0.99016204}, {\"run_id\": \"AutoML_865b9eff-b5a9-4328-9e4c-d7f5cb1c9293_2\", \"run_number\": 7, \"metric\": null, \"status\": \"Completed\", \"run_type\": \"azureml.scriptrun\", \"training_percent\": \"100\", \"start_time\": \"2021-01-30T17:37:36.644958Z\", \"end_time\": \"2021-01-30T17:38:29.118191Z\", \"created_time\": \"2021-01-30T17:37:23.587379Z\", \"created_time_dt\": \"2021-01-30T17:37:23.587379Z\", \"duration\": \"0:01:05\", \"iteration\": \"2\", \"goal\": \"accuracy_max\", \"run_name\": \"MaxAbsScaler, RandomForest\", \"run_properties\": \"copy=True\", \"primary_metric\": 0.81828704, \"best_metric\": 0.99016204}, {\"run_id\": \"AutoML_865b9eff-b5a9-4328-9e4c-d7f5cb1c9293_3\", \"run_number\": 8, \"metric\": null, \"status\": \"Completed\", \"run_type\": \"azureml.scriptrun\", \"training_percent\": \"100\", \"start_time\": \"2021-01-30T17:38:43.789478Z\", \"end_time\": \"2021-01-30T17:39:34.114406Z\", \"created_time\": \"2021-01-30T17:38:32.140384Z\", \"created_time_dt\": \"2021-01-30T17:38:32.140384Z\", \"duration\": \"0:01:01\", \"iteration\": \"3\", \"goal\": \"accuracy_max\", \"run_name\": \"MaxAbsScaler, RandomForest\", \"run_properties\": \"copy=True\", \"primary_metric\": 0.77835648, \"best_metric\": 0.99016204}, {\"run_id\": \"AutoML_865b9eff-b5a9-4328-9e4c-d7f5cb1c9293_4\", \"run_number\": 9, \"metric\": null, \"status\": \"Completed\", \"run_type\": \"azureml.scriptrun\", \"training_percent\": \"100\", \"start_time\": \"2021-01-30T17:39:49.160006Z\", \"end_time\": \"2021-01-30T17:40:39.552241Z\", \"created_time\": \"2021-01-30T17:39:37.914958Z\", \"created_time_dt\": \"2021-01-30T17:39:37.914958Z\", \"duration\": \"0:01:01\", \"iteration\": \"4\", \"goal\": \"accuracy_max\", \"run_name\": \"MaxAbsScaler, RandomForest\", \"run_properties\": \"copy=True\", \"primary_metric\": 0.86921296, \"best_metric\": 0.99016204}, {\"run_id\": \"AutoML_865b9eff-b5a9-4328-9e4c-d7f5cb1c9293_5\", \"run_number\": 10, \"metric\": null, \"status\": \"Completed\", \"run_type\": \"azureml.scriptrun\", \"training_percent\": \"100\", \"start_time\": \"2021-01-30T17:40:55.687791Z\", \"end_time\": \"2021-01-30T17:41:45.016375Z\", \"created_time\": \"2021-01-30T17:40:43.156036Z\", \"created_time_dt\": \"2021-01-30T17:40:43.156036Z\", \"duration\": \"0:01:01\", \"iteration\": \"5\", \"goal\": \"accuracy_max\", \"run_name\": \"MaxAbsScaler, RandomForest\", \"run_properties\": \"copy=True\", \"primary_metric\": 0.68229167, \"best_metric\": 0.99016204}, {\"run_id\": \"AutoML_865b9eff-b5a9-4328-9e4c-d7f5cb1c9293_6\", \"run_number\": 11, \"metric\": null, \"status\": \"Completed\", \"run_type\": \"azureml.scriptrun\", \"training_percent\": \"100\", \"start_time\": \"2021-01-30T17:42:03.367738Z\", \"end_time\": \"2021-01-30T17:42:49.497622Z\", \"created_time\": \"2021-01-30T17:41:49.201378Z\", \"created_time_dt\": \"2021-01-30T17:41:49.201378Z\", \"duration\": \"0:01:00\", \"iteration\": \"6\", \"goal\": \"accuracy_max\", \"run_name\": \"SparseNormalizer, XGBoostClassifier\", \"run_properties\": \"<azureml.automl.runtime.shared.model_wrappers.SparseNormalizer object at 0x7f2ba0b39be0\", \"primary_metric\": 0.96527778, \"best_metric\": 0.99016204}, {\"run_id\": \"AutoML_865b9eff-b5a9-4328-9e4c-d7f5cb1c9293_7\", \"run_number\": 12, \"metric\": null, \"status\": \"Completed\", \"run_type\": \"azureml.scriptrun\", \"training_percent\": \"100\", \"start_time\": \"2021-01-30T17:43:05.535725Z\", \"end_time\": \"2021-01-30T17:43:56.07821Z\", \"created_time\": \"2021-01-30T17:42:53.424375Z\", \"created_time_dt\": \"2021-01-30T17:42:53.424375Z\", \"duration\": \"0:01:02\", \"iteration\": \"7\", \"goal\": \"accuracy_max\", \"run_name\": \"StandardScalerWrapper, RandomForest\", \"run_properties\": \"<azureml.automl.runtime.shared.model_wrappers.StandardScalerWrapper object at 0x7fbf00c60828\", \"primary_metric\": 0.82060185, \"best_metric\": 0.99016204}, {\"run_id\": \"AutoML_865b9eff-b5a9-4328-9e4c-d7f5cb1c9293_8\", \"run_number\": 13, \"metric\": null, \"status\": \"Completed\", \"run_type\": \"azureml.scriptrun\", \"training_percent\": \"100\", \"start_time\": \"2021-01-30T17:44:12.257702Z\", \"end_time\": \"2021-01-30T17:45:06.303199Z\", \"created_time\": \"2021-01-30T17:43:59.526866Z\", \"created_time_dt\": \"2021-01-30T17:43:59.526866Z\", \"duration\": \"0:01:06\", \"iteration\": \"8\", \"goal\": \"accuracy_max\", \"run_name\": \"SparseNormalizer, XGBoostClassifier\", \"run_properties\": \"<azureml.automl.runtime.shared.model_wrappers.SparseNormalizer object at 0x7f4179243c50\", \"primary_metric\": 0.9693287, \"best_metric\": 0.99016204}, {\"run_id\": \"AutoML_865b9eff-b5a9-4328-9e4c-d7f5cb1c9293_9\", \"run_number\": 14, \"metric\": null, \"status\": \"Completed\", \"run_type\": \"azureml.scriptrun\", \"training_percent\": \"100\", \"start_time\": \"2021-01-30T17:45:23.635777Z\", \"end_time\": \"2021-01-30T17:46:16.296261Z\", \"created_time\": \"2021-01-30T17:45:09.542132Z\", \"created_time_dt\": \"2021-01-30T17:45:09.542132Z\", \"duration\": \"0:01:06\", \"iteration\": \"9\", \"goal\": \"accuracy_max\", \"run_name\": \"MaxAbsScaler, ExtremeRandomTrees\", \"run_properties\": \"copy=True\", \"primary_metric\": 0.81423611, \"best_metric\": 0.99016204}, {\"run_id\": \"AutoML_865b9eff-b5a9-4328-9e4c-d7f5cb1c9293_10\", \"run_number\": 15, \"metric\": null, \"status\": \"Completed\", \"run_type\": \"azureml.scriptrun\", \"training_percent\": \"100\", \"start_time\": \"2021-01-30T17:46:30.261437Z\", \"end_time\": \"2021-01-30T17:47:19.295911Z\", \"created_time\": \"2021-01-30T17:46:18.149164Z\", \"created_time_dt\": \"2021-01-30T17:46:18.149164Z\", \"duration\": \"0:01:01\", \"iteration\": \"10\", \"goal\": \"accuracy_max\", \"run_name\": \"SparseNormalizer, XGBoostClassifier\", \"run_properties\": \"<azureml.automl.runtime.shared.model_wrappers.SparseNormalizer object at 0x7fd33dd3fa90\", \"primary_metric\": 0.93634259, \"best_metric\": 0.99016204}, {\"run_id\": \"AutoML_865b9eff-b5a9-4328-9e4c-d7f5cb1c9293_11\", \"run_number\": 16, \"metric\": null, \"status\": \"Completed\", \"run_type\": \"azureml.scriptrun\", \"training_percent\": \"100\", \"start_time\": \"2021-01-30T17:47:32.704879Z\", \"end_time\": \"2021-01-30T17:48:30.129437Z\", \"created_time\": \"2021-01-30T17:47:21.260045Z\", \"created_time_dt\": \"2021-01-30T17:47:21.260045Z\", \"duration\": \"0:01:08\", \"iteration\": \"11\", \"goal\": \"accuracy_max\", \"run_name\": \"StandardScalerWrapper, LogisticRegression\", \"run_properties\": \"<azureml.automl.runtime.shared.model_wrappers.StandardScalerWrapper object at 0x7fe5204f4c18\", \"primary_metric\": 0.88946759, \"best_metric\": 0.99016204}, {\"run_id\": \"AutoML_865b9eff-b5a9-4328-9e4c-d7f5cb1c9293_12\", \"run_number\": 17, \"metric\": null, \"status\": \"Completed\", \"run_type\": \"azureml.scriptrun\", \"training_percent\": \"100\", \"start_time\": \"2021-01-30T17:48:48.84667Z\", \"end_time\": \"2021-01-30T17:49:41.780281Z\", \"created_time\": \"2021-01-30T17:48:32.786378Z\", \"created_time_dt\": \"2021-01-30T17:48:32.786378Z\", \"duration\": \"0:01:08\", \"iteration\": \"12\", \"goal\": \"accuracy_max\", \"run_name\": \"SparseNormalizer, XGBoostClassifier\", \"run_properties\": \"<azureml.automl.runtime.shared.model_wrappers.SparseNormalizer object at 0x7f75a6217668\", \"primary_metric\": 0.96238426, \"best_metric\": 0.99016204}, {\"run_id\": \"AutoML_865b9eff-b5a9-4328-9e4c-d7f5cb1c9293_13\", \"run_number\": 18, \"metric\": null, \"status\": \"Completed\", \"run_type\": \"azureml.scriptrun\", \"training_percent\": \"100\", \"start_time\": \"2021-01-30T17:49:57.632982Z\", \"end_time\": \"2021-01-30T17:50:55.952833Z\", \"created_time\": \"2021-01-30T17:49:44.825343Z\", \"created_time_dt\": \"2021-01-30T17:49:44.825343Z\", \"duration\": \"0:01:11\", \"iteration\": \"13\", \"goal\": \"accuracy_max\", \"run_name\": \"SparseNormalizer, XGBoostClassifier\", \"run_properties\": \"<azureml.automl.runtime.shared.model_wrappers.SparseNormalizer object at 0x7ff6e629b860\", \"primary_metric\": 0.97511574, \"best_metric\": 0.99016204}, {\"run_id\": \"AutoML_865b9eff-b5a9-4328-9e4c-d7f5cb1c9293_14\", \"run_number\": 19, \"metric\": null, \"status\": \"Completed\", \"run_type\": \"azureml.scriptrun\", \"training_percent\": \"100\", \"start_time\": \"2021-01-30T17:51:07.847801Z\", \"end_time\": \"2021-01-30T17:52:01.085175Z\", \"created_time\": \"2021-01-30T17:50:57.668122Z\", \"created_time_dt\": \"2021-01-30T17:50:57.668122Z\", \"duration\": \"0:01:03\", \"iteration\": \"14\", \"goal\": \"accuracy_max\", \"run_name\": \"MaxAbsScaler, LightGBM\", \"run_properties\": \"copy=True\", \"primary_metric\": 0.87962963, \"best_metric\": 0.99016204}, {\"run_id\": \"AutoML_865b9eff-b5a9-4328-9e4c-d7f5cb1c9293_15\", \"run_number\": 20, \"metric\": null, \"status\": \"Completed\", \"run_type\": \"azureml.scriptrun\", \"training_percent\": \"100\", \"start_time\": \"2021-01-30T17:52:15.530298Z\", \"end_time\": \"2021-01-30T17:53:10.671617Z\", \"created_time\": \"2021-01-30T17:52:03.139388Z\", \"created_time_dt\": \"2021-01-30T17:52:03.139388Z\", \"duration\": \"0:01:07\", \"iteration\": \"15\", \"goal\": \"accuracy_max\", \"run_name\": \"SparseNormalizer, XGBoostClassifier\", \"run_properties\": \"<azureml.automl.runtime.shared.model_wrappers.SparseNormalizer object at 0x7ff1cb10bbe0\", \"primary_metric\": 0.98032407, \"best_metric\": 0.99016204}, {\"run_id\": \"AutoML_865b9eff-b5a9-4328-9e4c-d7f5cb1c9293_16\", \"run_number\": 21, \"metric\": null, \"status\": \"Completed\", \"run_type\": \"azureml.scriptrun\", \"training_percent\": \"100\", \"start_time\": \"2021-01-30T17:53:24.908837Z\", \"end_time\": \"2021-01-30T17:54:16.821567Z\", \"created_time\": \"2021-01-30T17:53:12.443049Z\", \"created_time_dt\": \"2021-01-30T17:53:12.443049Z\", \"duration\": \"0:01:04\", \"iteration\": \"16\", \"goal\": \"accuracy_max\", \"run_name\": \"SparseNormalizer, XGBoostClassifier\", \"run_properties\": \"<azureml.automl.runtime.shared.model_wrappers.SparseNormalizer object at 0x7f28027dfc50\", \"primary_metric\": 0.94675926, \"best_metric\": 0.99016204}, {\"run_id\": \"AutoML_865b9eff-b5a9-4328-9e4c-d7f5cb1c9293_17\", \"run_number\": 22, \"metric\": null, \"status\": \"Completed\", \"run_type\": \"azureml.scriptrun\", \"training_percent\": \"100\", \"start_time\": \"2021-01-30T17:54:31.578819Z\", \"end_time\": \"2021-01-30T17:55:26.755024Z\", \"created_time\": \"2021-01-30T17:54:18.752451Z\", \"created_time_dt\": \"2021-01-30T17:54:18.752451Z\", \"duration\": \"0:01:08\", \"iteration\": \"17\", \"goal\": \"accuracy_max\", \"run_name\": \"SparseNormalizer, XGBoostClassifier\", \"run_properties\": \"<azureml.automl.runtime.shared.model_wrappers.SparseNormalizer object at 0x7f8d10ac30f0\", \"primary_metric\": 0.80787037, \"best_metric\": 0.99016204}, {\"run_id\": \"AutoML_865b9eff-b5a9-4328-9e4c-d7f5cb1c9293_18\", \"run_number\": 23, \"metric\": null, \"status\": \"Completed\", \"run_type\": \"azureml.scriptrun\", \"training_percent\": \"100\", \"start_time\": \"2021-01-30T17:55:43.712968Z\", \"end_time\": \"2021-01-30T17:56:37.941328Z\", \"created_time\": \"2021-01-30T17:55:29.750791Z\", \"created_time_dt\": \"2021-01-30T17:55:29.750791Z\", \"duration\": \"0:01:08\", \"iteration\": \"18\", \"goal\": \"accuracy_max\", \"run_name\": \"StandardScalerWrapper, XGBoostClassifier\", \"run_properties\": \"<azureml.automl.runtime.shared.model_wrappers.StandardScalerWrapper object at 0x7ff20cd9aac8\", \"primary_metric\": 0.94560185, \"best_metric\": 0.99016204}, {\"run_id\": \"AutoML_865b9eff-b5a9-4328-9e4c-d7f5cb1c9293_19\", \"run_number\": 24, \"metric\": null, \"status\": \"Completed\", \"run_type\": \"azureml.scriptrun\", \"training_percent\": \"100\", \"start_time\": \"2021-01-30T17:56:54.650669Z\", \"end_time\": \"2021-01-30T17:57:46.626378Z\", \"created_time\": \"2021-01-30T17:56:40.50922Z\", \"created_time_dt\": \"2021-01-30T17:56:40.50922Z\", \"duration\": \"0:01:06\", \"iteration\": \"19\", \"goal\": \"accuracy_max\", \"run_name\": \"SparseNormalizer, LightGBM\", \"run_properties\": \"<azureml.automl.runtime.shared.model_wrappers.SparseNormalizer object at 0x7fa8f11304e0\", \"primary_metric\": 0.9375, \"best_metric\": 0.99016204}, {\"run_id\": \"AutoML_865b9eff-b5a9-4328-9e4c-d7f5cb1c9293_20\", \"run_number\": 25, \"metric\": null, \"status\": \"Completed\", \"run_type\": \"azureml.scriptrun\", \"training_percent\": \"100\", \"start_time\": \"2021-01-30T17:58:03.122193Z\", \"end_time\": \"2021-01-30T17:58:57.945185Z\", \"created_time\": \"2021-01-30T17:57:49.264424Z\", \"created_time_dt\": \"2021-01-30T17:57:49.264424Z\", \"duration\": \"0:01:08\", \"iteration\": \"20\", \"goal\": \"accuracy_max\", \"run_name\": \"MaxAbsScaler, ExtremeRandomTrees\", \"run_properties\": \"copy=True\", \"primary_metric\": 0.81481481, \"best_metric\": 0.99016204}, {\"run_id\": \"AutoML_865b9eff-b5a9-4328-9e4c-d7f5cb1c9293_21\", \"run_number\": 26, \"metric\": null, \"status\": \"Completed\", \"run_type\": \"azureml.scriptrun\", \"training_percent\": \"100\", \"start_time\": \"2021-01-30T17:59:12.941386Z\", \"end_time\": \"2021-01-30T18:00:23.906074Z\", \"created_time\": \"2021-01-30T17:59:00.593741Z\", \"created_time_dt\": \"2021-01-30T17:59:00.593741Z\", \"duration\": \"0:01:23\", \"iteration\": \"21\", \"goal\": \"accuracy_max\", \"run_name\": \"SparseNormalizer, XGBoostClassifier\", \"run_properties\": \"<azureml.automl.runtime.shared.model_wrappers.SparseNormalizer object at 0x7fac6106b8d0\", \"primary_metric\": 0.97916667, \"best_metric\": 0.99016204}, {\"run_id\": \"AutoML_865b9eff-b5a9-4328-9e4c-d7f5cb1c9293_22\", \"run_number\": 27, \"metric\": null, \"status\": \"Completed\", \"run_type\": \"azureml.scriptrun\", \"training_percent\": \"100\", \"start_time\": \"2021-01-30T18:00:41.389064Z\", \"end_time\": \"2021-01-30T18:01:34.308058Z\", \"created_time\": \"2021-01-30T18:00:26.776954Z\", \"created_time_dt\": \"2021-01-30T18:00:26.776954Z\", \"duration\": \"0:01:07\", \"iteration\": \"22\", \"goal\": \"accuracy_max\", \"run_name\": \"SparseNormalizer, XGBoostClassifier\", \"run_properties\": \"<azureml.automl.runtime.shared.model_wrappers.SparseNormalizer object at 0x7f5fb464d0b8\", \"primary_metric\": 0.984375, \"best_metric\": 0.99016204}, {\"run_id\": \"AutoML_865b9eff-b5a9-4328-9e4c-d7f5cb1c9293_23\", \"run_number\": 28, \"metric\": null, \"status\": \"Completed\", \"run_type\": \"azureml.scriptrun\", \"training_percent\": \"100\", \"start_time\": \"2021-01-30T18:01:47.021261Z\", \"end_time\": \"2021-01-30T18:02:35.270749Z\", \"created_time\": \"2021-01-30T18:01:36.175266Z\", \"created_time_dt\": \"2021-01-30T18:01:36.175266Z\", \"duration\": \"0:00:59\", \"iteration\": \"23\", \"goal\": \"accuracy_max\", \"run_name\": \"SparseNormalizer, XGBoostClassifier\", \"run_properties\": \"<azureml.automl.runtime.shared.model_wrappers.SparseNormalizer object at 0x7f7d081e3208\", \"primary_metric\": 0.96064815, \"best_metric\": 0.99016204}, {\"run_id\": \"AutoML_865b9eff-b5a9-4328-9e4c-d7f5cb1c9293_24\", \"run_number\": 29, \"metric\": null, \"status\": \"Completed\", \"run_type\": \"azureml.scriptrun\", \"training_percent\": \"100\", \"start_time\": \"2021-01-30T18:02:47.716284Z\", \"end_time\": \"2021-01-30T18:03:41.246096Z\", \"created_time\": \"2021-01-30T18:02:36.942301Z\", \"created_time_dt\": \"2021-01-30T18:02:36.942301Z\", \"duration\": \"0:01:04\", \"iteration\": \"24\", \"goal\": \"accuracy_max\", \"run_name\": \"SparseNormalizer, XGBoostClassifier\", \"run_properties\": \"<azureml.automl.runtime.shared.model_wrappers.SparseNormalizer object at 0x7fa5e0827c18\", \"primary_metric\": 0.97685185, \"best_metric\": 0.99016204}, {\"run_id\": \"AutoML_865b9eff-b5a9-4328-9e4c-d7f5cb1c9293_25\", \"run_number\": 30, \"metric\": null, \"status\": \"Completed\", \"run_type\": \"azureml.scriptrun\", \"training_percent\": \"100\", \"start_time\": \"2021-01-30T18:03:58.648337Z\", \"end_time\": \"2021-01-30T18:04:53.930649Z\", \"created_time\": \"2021-01-30T18:03:45.077845Z\", \"created_time_dt\": \"2021-01-30T18:03:45.077845Z\", \"duration\": \"0:01:08\", \"iteration\": \"25\", \"goal\": \"accuracy_max\", \"run_name\": \"SparseNormalizer, LightGBM\", \"run_properties\": \"<azureml.automl.runtime.shared.model_wrappers.SparseNormalizer object at 0x7f5d54cf93c8\", \"primary_metric\": 0.94155093, \"best_metric\": 0.99016204}, {\"run_id\": \"AutoML_865b9eff-b5a9-4328-9e4c-d7f5cb1c9293_26\", \"run_number\": 31, \"metric\": null, \"status\": \"Completed\", \"run_type\": \"azureml.scriptrun\", \"training_percent\": \"100\", \"start_time\": \"2021-01-30T18:05:13.643874Z\", \"end_time\": \"2021-01-30T18:06:14.808036Z\", \"created_time\": \"2021-01-30T18:04:57.72699Z\", \"created_time_dt\": \"2021-01-30T18:04:57.72699Z\", \"duration\": \"0:01:17\", \"iteration\": \"26\", \"goal\": \"accuracy_max\", \"run_name\": \"StandardScalerWrapper, XGBoostClassifier\", \"run_properties\": \"<azureml.automl.runtime.shared.model_wrappers.StandardScalerWrapper object at 0x7f59527a3d68\", \"primary_metric\": 0.95428241, \"best_metric\": 0.99016204}], \"children_metrics\": {\"categories\": [0], \"series\": {\"AUC_macro\": [{\"categories\": [\"0\", \"1\", \"2\", \"3\", \"4\", \"5\", \"6\", \"7\", \"8\", \"9\", \"10\", \"11\", \"12\", \"13\", \"14\", \"15\", \"16\", \"17\", \"18\", \"19\", \"20\", \"21\", \"22\", \"23\", \"24\", \"25\", \"26\"], \"mode\": \"markers\", \"name\": \"AUC_macro\", \"stepped\": false, \"type\": \"scatter\", \"data\": [0.9994576838019057, 0.9933020081629907, 0.9659401890726217, 0.9423386673191088, 0.9741506407706043, 0.9115720047406035, 0.9966344733156816, 0.9703911538688231, 0.9973265670598902, 0.9641423063485238, 0.9933601949794456, 0.9831485285267655, 0.9962734297179202, 0.9979207811077456, 0.9808747761121523, 0.9979346509438608, 0.9950047423939611, 0.9519050379087468, 0.99467301166879, 0.9917184883565785, 0.9584158681665497, 0.998121938441732, 0.9986597194765895, 0.9965786830089245, 0.9978025923501805, 0.9937591066636949, 0.9954963787336698]}, {\"categories\": [\"0\", \"1\", \"2\", \"3\", \"4\", \"5\", \"6\", \"7\", \"8\", \"9\", \"10\", \"11\", \"12\", \"13\", \"14\", \"15\", \"16\", \"17\", \"18\", \"19\", \"20\", \"21\", \"22\", \"23\", \"24\", \"25\", \"26\"], \"mode\": \"lines\", \"name\": \"AUC_macro_max\", \"stepped\": true, \"type\": \"scatter\", \"data\": [0.9994576838019057, 0.9994576838019057, 0.9994576838019057, 0.9994576838019057, 0.9994576838019057, 0.9994576838019057, 0.9994576838019057, 0.9994576838019057, 0.9994576838019057, 0.9994576838019057, 0.9994576838019057, 0.9994576838019057, 0.9994576838019057, 0.9994576838019057, 0.9994576838019057, 0.9994576838019057, 0.9994576838019057, 0.9994576838019057, 0.9994576838019057, 0.9994576838019057, 0.9994576838019057, 0.9994576838019057, 0.9994576838019057, 0.9994576838019057, 0.9994576838019057, 0.9994576838019057, 0.9994576838019057]}], \"recall_score_micro\": [{\"categories\": [\"0\", \"1\", \"2\", \"3\", \"4\", \"5\", \"6\", \"7\", \"8\", \"9\", \"10\", \"11\", \"12\", \"13\", \"14\", \"15\", \"16\", \"17\", \"18\", \"19\", \"20\", \"21\", \"22\", \"23\", \"24\", \"25\", \"26\"], \"mode\": \"markers\", \"name\": \"recall_score_micro\", \"stepped\": false, \"type\": \"scatter\", \"data\": [0.9901620370370371, 0.9432870370370371, 0.8182870370370369, 0.7783564814814815, 0.8692129629629629, 0.6822916666666666, 0.9652777777777777, 0.8206018518518517, 0.9693287037037037, 0.8142361111111112, 0.9363425925925926, 0.8894675925925926, 0.9623842592592592, 0.9751157407407408, 0.8796296296296297, 0.9803240740740741, 0.9467592592592592, 0.8078703703703703, 0.945601851851852, 0.9375, 0.8148148148148149, 0.9791666666666666, 0.984375, 0.9606481481481483, 0.9768518518518517, 0.9415509259259259, 0.9542824074074074]}, {\"categories\": [\"0\", \"1\", \"2\", \"3\", \"4\", \"5\", \"6\", \"7\", \"8\", \"9\", \"10\", \"11\", \"12\", \"13\", \"14\", \"15\", \"16\", \"17\", \"18\", \"19\", \"20\", \"21\", \"22\", \"23\", \"24\", \"25\", \"26\"], \"mode\": \"lines\", \"name\": \"recall_score_micro_max\", \"stepped\": true, \"type\": \"scatter\", \"data\": [0.9901620370370371, 0.9901620370370371, 0.9901620370370371, 0.9901620370370371, 0.9901620370370371, 0.9901620370370371, 0.9901620370370371, 0.9901620370370371, 0.9901620370370371, 0.9901620370370371, 0.9901620370370371, 0.9901620370370371, 0.9901620370370371, 0.9901620370370371, 0.9901620370370371, 0.9901620370370371, 0.9901620370370371, 0.9901620370370371, 0.9901620370370371, 0.9901620370370371, 0.9901620370370371, 0.9901620370370371, 0.9901620370370371, 0.9901620370370371, 0.9901620370370371, 0.9901620370370371, 0.9901620370370371]}], \"precision_score_micro\": [{\"categories\": [\"0\", \"1\", \"2\", \"3\", \"4\", \"5\", \"6\", \"7\", \"8\", \"9\", \"10\", \"11\", \"12\", \"13\", \"14\", \"15\", \"16\", \"17\", \"18\", \"19\", \"20\", \"21\", \"22\", \"23\", \"24\", \"25\", \"26\"], \"mode\": \"markers\", \"name\": \"precision_score_micro\", \"stepped\": false, \"type\": \"scatter\", \"data\": [0.9901620370370371, 0.9432870370370371, 0.8182870370370369, 0.7783564814814815, 0.8692129629629629, 0.6822916666666666, 0.9652777777777777, 0.8206018518518517, 0.9693287037037037, 0.8142361111111112, 0.9363425925925926, 0.8894675925925926, 0.9623842592592592, 0.9751157407407408, 0.8796296296296297, 0.9803240740740741, 0.9467592592592592, 0.8078703703703703, 0.945601851851852, 0.9375, 0.8148148148148149, 0.9791666666666666, 0.984375, 0.9606481481481483, 0.9768518518518517, 0.9415509259259259, 0.9542824074074074]}, {\"categories\": [\"0\", \"1\", \"2\", \"3\", \"4\", \"5\", \"6\", \"7\", \"8\", \"9\", \"10\", \"11\", \"12\", \"13\", \"14\", \"15\", \"16\", \"17\", \"18\", \"19\", \"20\", \"21\", \"22\", \"23\", \"24\", \"25\", \"26\"], \"mode\": \"lines\", \"name\": \"precision_score_micro_max\", \"stepped\": true, \"type\": \"scatter\", \"data\": [0.9901620370370371, 0.9901620370370371, 0.9901620370370371, 0.9901620370370371, 0.9901620370370371, 0.9901620370370371, 0.9901620370370371, 0.9901620370370371, 0.9901620370370371, 0.9901620370370371, 0.9901620370370371, 0.9901620370370371, 0.9901620370370371, 0.9901620370370371, 0.9901620370370371, 0.9901620370370371, 0.9901620370370371, 0.9901620370370371, 0.9901620370370371, 0.9901620370370371, 0.9901620370370371, 0.9901620370370371, 0.9901620370370371, 0.9901620370370371, 0.9901620370370371, 0.9901620370370371, 0.9901620370370371]}], \"average_precision_score_weighted\": [{\"categories\": [\"0\", \"1\", \"2\", \"3\", \"4\", \"5\", \"6\", \"7\", \"8\", \"9\", \"10\", \"11\", \"12\", \"13\", \"14\", \"15\", \"16\", \"17\", \"18\", \"19\", \"20\", \"21\", \"22\", \"23\", \"24\", \"25\", \"26\"], \"mode\": \"markers\", \"name\": \"average_precision_score_weighted\", \"stepped\": false, \"type\": \"scatter\", \"data\": [0.9984122891680266, 0.9798578293083571, 0.9073640405185323, 0.8722992980822525, 0.9274643967438813, 0.8230721530898442, 0.9886540475982124, 0.9209880309562163, 0.991188951072426, 0.9136600003670471, 0.9791107405737854, 0.9511233358699216, 0.9872869362591742, 0.9923217416167209, 0.9441463349699886, 0.9935990879545132, 0.9834794168852045, 0.882799082876562, 0.9827549326921693, 0.9728852662436557, 0.8980209031368019, 0.9929681376964007, 0.9958255321754853, 0.9882246641635654, 0.9924630860290845, 0.9797148349101482, 0.9849259212907552]}, {\"categories\": [\"0\", \"1\", \"2\", \"3\", \"4\", \"5\", \"6\", \"7\", \"8\", \"9\", \"10\", \"11\", \"12\", \"13\", \"14\", \"15\", \"16\", \"17\", \"18\", \"19\", \"20\", \"21\", \"22\", \"23\", \"24\", \"25\", \"26\"], \"mode\": \"lines\", \"name\": \"average_precision_score_weighted_max\", \"stepped\": true, \"type\": \"scatter\", \"data\": [0.9984122891680266, 0.9984122891680266, 0.9984122891680266, 0.9984122891680266, 0.9984122891680266, 0.9984122891680266, 0.9984122891680266, 0.9984122891680266, 0.9984122891680266, 0.9984122891680266, 0.9984122891680266, 0.9984122891680266, 0.9984122891680266, 0.9984122891680266, 0.9984122891680266, 0.9984122891680266, 0.9984122891680266, 0.9984122891680266, 0.9984122891680266, 0.9984122891680266, 0.9984122891680266, 0.9984122891680266, 0.9984122891680266, 0.9984122891680266, 0.9984122891680266, 0.9984122891680266, 0.9984122891680266]}], \"balanced_accuracy\": [{\"categories\": [\"0\", \"1\", \"2\", \"3\", \"4\", \"5\", \"6\", \"7\", \"8\", \"9\", \"10\", \"11\", \"12\", \"13\", \"14\", \"15\", \"16\", \"17\", \"18\", \"19\", \"20\", \"21\", \"22\", \"23\", \"24\", \"25\", \"26\"], \"mode\": \"markers\", \"name\": \"balanced_accuracy\", \"stepped\": false, \"type\": \"scatter\", \"data\": [0.9716107494264813, 0.871725296359346, 0.40025094020215723, 0.3677381986432932, 0.8838219559214376, 0.681729747607643, 0.9159008513288805, 0.41709979381762957, 0.8940151472175165, 0.4369244738120268, 0.796569281691148, 0.6825567133193272, 0.8897423572779881, 0.9423540052237547, 0.6370961582627152, 0.9287758206362291, 0.84954556103016, 0.4030120852506629, 0.8523131237841403, 0.8072778357487739, 0.43962708204974366, 0.9287989411028915, 0.9400254783094973, 0.8701332244371187, 0.9189998060850769, 0.8013794816450238, 0.8701079951667015]}, {\"categories\": [\"0\", \"1\", \"2\", \"3\", \"4\", \"5\", \"6\", \"7\", \"8\", \"9\", \"10\", \"11\", \"12\", \"13\", \"14\", \"15\", \"16\", \"17\", \"18\", \"19\", \"20\", \"21\", \"22\", \"23\", \"24\", \"25\", \"26\"], \"mode\": \"lines\", \"name\": \"balanced_accuracy_max\", \"stepped\": true, \"type\": \"scatter\", \"data\": [0.9716107494264813, 0.9716107494264813, 0.9716107494264813, 0.9716107494264813, 0.9716107494264813, 0.9716107494264813, 0.9716107494264813, 0.9716107494264813, 0.9716107494264813, 0.9716107494264813, 0.9716107494264813, 0.9716107494264813, 0.9716107494264813, 0.9716107494264813, 0.9716107494264813, 0.9716107494264813, 0.9716107494264813, 0.9716107494264813, 0.9716107494264813, 0.9716107494264813, 0.9716107494264813, 0.9716107494264813, 0.9716107494264813, 0.9716107494264813, 0.9716107494264813, 0.9716107494264813, 0.9716107494264813]}], \"average_precision_score_micro\": [{\"categories\": [\"0\", \"1\", \"2\", \"3\", \"4\", \"5\", \"6\", \"7\", \"8\", \"9\", \"10\", \"11\", \"12\", \"13\", \"14\", \"15\", \"16\", \"17\", \"18\", \"19\", \"20\", \"21\", \"22\", \"23\", \"24\", \"25\", \"26\"], \"mode\": \"markers\", \"name\": \"average_precision_score_micro\", \"stepped\": false, \"type\": \"scatter\", \"data\": [0.9993832531479413, 0.9895771685298556, 0.9336016564094689, 0.9054295905832744, 0.9509635630154527, 0.8242754123818136, 0.9955160475790111, 0.937587827419272, 0.9967618542429341, 0.9369184513673843, 0.9874170456344257, 0.9712167099045542, 0.9952238477347798, 0.9968540290661206, 0.9662062545397747, 0.9979150609756718, 0.9914581857201528, 0.925077579286305, 0.9919217680669138, 0.98734516887114, 0.9272056156179357, 0.997791110409211, 0.9986659803440899, 0.9947813406279143, 0.9973024190600889, 0.9911274825196048, 0.9931860562511617]}, {\"categories\": [\"0\", \"1\", \"2\", \"3\", \"4\", \"5\", \"6\", \"7\", \"8\", \"9\", \"10\", \"11\", \"12\", \"13\", \"14\", \"15\", \"16\", \"17\", \"18\", \"19\", \"20\", \"21\", \"22\", \"23\", \"24\", \"25\", \"26\"], \"mode\": \"lines\", \"name\": \"average_precision_score_micro_max\", \"stepped\": true, \"type\": \"scatter\", \"data\": [0.9993832531479413, 0.9993832531479413, 0.9993832531479413, 0.9993832531479413, 0.9993832531479413, 0.9993832531479413, 0.9993832531479413, 0.9993832531479413, 0.9993832531479413, 0.9993832531479413, 0.9993832531479413, 0.9993832531479413, 0.9993832531479413, 0.9993832531479413, 0.9993832531479413, 0.9993832531479413, 0.9993832531479413, 0.9993832531479413, 0.9993832531479413, 0.9993832531479413, 0.9993832531479413, 0.9993832531479413, 0.9993832531479413, 0.9993832531479413, 0.9993832531479413, 0.9993832531479413, 0.9993832531479413]}], \"f1_score_weighted\": [{\"categories\": [\"0\", \"1\", \"2\", \"3\", \"4\", \"5\", \"6\", \"7\", \"8\", \"9\", \"10\", \"11\", \"12\", \"13\", \"14\", \"15\", \"16\", \"17\", \"18\", \"19\", \"20\", \"21\", \"22\", \"23\", \"24\", \"25\", \"26\"], \"mode\": \"markers\", \"name\": \"f1_score_weighted\", \"stepped\": false, \"type\": \"scatter\", \"data\": [0.9901815761733244, 0.9440891097695366, 0.7828003347802891, 0.7357298842368927, 0.878298127506317, 0.7194264093012676, 0.9655911503066522, 0.7909565200902922, 0.9691417312385907, 0.7929171239037537, 0.9334502403696284, 0.8839258112812513, 0.9626441683964378, 0.9752970760836784, 0.8729497812421525, 0.9801708103395619, 0.9456036363737175, 0.7779265250306766, 0.9457473043360247, 0.9337780948036031, 0.7942696816541513, 0.9791656866511738, 0.98420778049042, 0.960287949212161, 0.9769199011614985, 0.9389726767658528, 0.9539989588075729]}, {\"categories\": [\"0\", \"1\", \"2\", \"3\", \"4\", \"5\", \"6\", \"7\", \"8\", \"9\", \"10\", \"11\", \"12\", \"13\", \"14\", \"15\", \"16\", \"17\", \"18\", \"19\", \"20\", \"21\", \"22\", \"23\", \"24\", \"25\", \"26\"], \"mode\": \"lines\", \"name\": \"f1_score_weighted_max\", \"stepped\": true, \"type\": \"scatter\", \"data\": [0.9901815761733244, 0.9901815761733244, 0.9901815761733244, 0.9901815761733244, 0.9901815761733244, 0.9901815761733244, 0.9901815761733244, 0.9901815761733244, 0.9901815761733244, 0.9901815761733244, 0.9901815761733244, 0.9901815761733244, 0.9901815761733244, 0.9901815761733244, 0.9901815761733244, 0.9901815761733244, 0.9901815761733244, 0.9901815761733244, 0.9901815761733244, 0.9901815761733244, 0.9901815761733244, 0.9901815761733244, 0.9901815761733244, 0.9901815761733244, 0.9901815761733244, 0.9901815761733244, 0.9901815761733244]}], \"weighted_accuracy\": [{\"categories\": [\"0\", \"1\", \"2\", \"3\", \"4\", \"5\", \"6\", \"7\", \"8\", \"9\", \"10\", \"11\", \"12\", \"13\", \"14\", \"15\", \"16\", \"17\", \"18\", \"19\", \"20\", \"21\", \"22\", \"23\", \"24\", \"25\", \"26\"], \"mode\": \"markers\", \"name\": \"weighted_accuracy\", \"stepped\": false, \"type\": \"scatter\", \"data\": [0.9939776766082943, 0.9652630420070856, 0.9346406412800393, 0.9048101032606208, 0.8742411283668933, 0.727985444035475, 0.9784235192082046, 0.9260926235858239, 0.9863277778321949, 0.8845203699477232, 0.9685061501752616, 0.9418927117647785, 0.9795389288898795, 0.982849005217675, 0.9337217018172611, 0.9924577464166067, 0.9706626100826236, 0.9120772151818691, 0.9698153763179467, 0.9682918567873636, 0.8820549987707613, 0.989509596345218, 0.9940990115427805, 0.9807252338378621, 0.9890253286827289, 0.974558014852588, 0.9755237697738915]}, {\"categories\": [\"0\", \"1\", \"2\", \"3\", \"4\", \"5\", \"6\", \"7\", \"8\", \"9\", \"10\", \"11\", \"12\", \"13\", \"14\", \"15\", \"16\", \"17\", \"18\", \"19\", \"20\", \"21\", \"22\", \"23\", \"24\", \"25\", \"26\"], \"mode\": \"lines\", \"name\": \"weighted_accuracy_max\", \"stepped\": true, \"type\": \"scatter\", \"data\": [0.9939776766082943, 0.9939776766082943, 0.9939776766082943, 0.9939776766082943, 0.9939776766082943, 0.9939776766082943, 0.9939776766082943, 0.9939776766082943, 0.9939776766082943, 0.9939776766082943, 0.9939776766082943, 0.9939776766082943, 0.9939776766082943, 0.9939776766082943, 0.9939776766082943, 0.9939776766082943, 0.9939776766082943, 0.9939776766082943, 0.9939776766082943, 0.9939776766082943, 0.9939776766082943, 0.9939776766082943, 0.9940990115427805, 0.9940990115427805, 0.9940990115427805, 0.9940990115427805, 0.9940990115427805]}], \"precision_score_macro\": [{\"categories\": [\"0\", \"1\", \"2\", \"3\", \"4\", \"5\", \"6\", \"7\", \"8\", \"9\", \"10\", \"11\", \"12\", \"13\", \"14\", \"15\", \"16\", \"17\", \"18\", \"19\", \"20\", \"21\", \"22\", \"23\", \"24\", \"25\", \"26\"], \"mode\": \"markers\", \"name\": \"precision_score_macro\", \"stepped\": false, \"type\": \"scatter\", \"data\": [0.9784257927074446, 0.8596567790884659, 0.4575571562841561, 0.34973862573069675, 0.7183259578012087, 0.4831418114676185, 0.9011695253075559, 0.45505806039976743, 0.908345059913484, 0.3753355954767768, 0.8732476510187385, 0.7426402292352821, 0.8878857953767317, 0.9293237438788696, 0.7623507503297384, 0.9396151763271282, 0.855478713499542, 0.36484146143623947, 0.8446399452810253, 0.8323506479666637, 0.3765423450738729, 0.9313147032863163, 0.9511433011433011, 0.8833848953681683, 0.9291027782693506, 0.8223792197771406, 0.8769453751904264]}, {\"categories\": [\"0\", \"1\", \"2\", \"3\", \"4\", \"5\", \"6\", \"7\", \"8\", \"9\", \"10\", \"11\", \"12\", \"13\", \"14\", \"15\", \"16\", \"17\", \"18\", \"19\", \"20\", \"21\", \"22\", \"23\", \"24\", \"25\", \"26\"], \"mode\": \"lines\", \"name\": \"precision_score_macro_max\", \"stepped\": true, \"type\": \"scatter\", \"data\": [0.9784257927074446, 0.9784257927074446, 0.9784257927074446, 0.9784257927074446, 0.9784257927074446, 0.9784257927074446, 0.9784257927074446, 0.9784257927074446, 0.9784257927074446, 0.9784257927074446, 0.9784257927074446, 0.9784257927074446, 0.9784257927074446, 0.9784257927074446, 0.9784257927074446, 0.9784257927074446, 0.9784257927074446, 0.9784257927074446, 0.9784257927074446, 0.9784257927074446, 0.9784257927074446, 0.9784257927074446, 0.9784257927074446, 0.9784257927074446, 0.9784257927074446, 0.9784257927074446, 0.9784257927074446]}], \"recall_score_weighted\": [{\"categories\": [\"0\", \"1\", \"2\", \"3\", \"4\", \"5\", \"6\", \"7\", \"8\", \"9\", \"10\", \"11\", \"12\", \"13\", \"14\", \"15\", \"16\", \"17\", \"18\", \"19\", \"20\", \"21\", \"22\", \"23\", \"24\", \"25\", \"26\"], \"mode\": \"markers\", \"name\": \"recall_score_weighted\", \"stepped\": false, \"type\": \"scatter\", \"data\": [0.9901620370370371, 0.9432870370370371, 0.8182870370370369, 0.7783564814814815, 0.8692129629629629, 0.6822916666666666, 0.9652777777777777, 0.8206018518518517, 0.9693287037037037, 0.8142361111111112, 0.9363425925925926, 0.8894675925925926, 0.9623842592592592, 0.9751157407407408, 0.8796296296296297, 0.9803240740740741, 0.9467592592592592, 0.8078703703703703, 0.945601851851852, 0.9375, 0.8148148148148149, 0.9791666666666666, 0.984375, 0.9606481481481483, 0.9768518518518517, 0.9415509259259259, 0.9542824074074074]}, {\"categories\": [\"0\", \"1\", \"2\", \"3\", \"4\", \"5\", \"6\", \"7\", \"8\", \"9\", \"10\", \"11\", \"12\", \"13\", \"14\", \"15\", \"16\", \"17\", \"18\", \"19\", \"20\", \"21\", \"22\", \"23\", \"24\", \"25\", \"26\"], \"mode\": \"lines\", \"name\": \"recall_score_weighted_max\", \"stepped\": true, \"type\": \"scatter\", \"data\": [0.9901620370370371, 0.9901620370370371, 0.9901620370370371, 0.9901620370370371, 0.9901620370370371, 0.9901620370370371, 0.9901620370370371, 0.9901620370370371, 0.9901620370370371, 0.9901620370370371, 0.9901620370370371, 0.9901620370370371, 0.9901620370370371, 0.9901620370370371, 0.9901620370370371, 0.9901620370370371, 0.9901620370370371, 0.9901620370370371, 0.9901620370370371, 0.9901620370370371, 0.9901620370370371, 0.9901620370370371, 0.9901620370370371, 0.9901620370370371, 0.9901620370370371, 0.9901620370370371, 0.9901620370370371]}], \"accuracy\": [{\"categories\": [\"0\", \"1\", \"2\", \"3\", \"4\", \"5\", \"6\", \"7\", \"8\", \"9\", \"10\", \"11\", \"12\", \"13\", \"14\", \"15\", \"16\", \"17\", \"18\", \"19\", \"20\", \"21\", \"22\", \"23\", \"24\", \"25\", \"26\"], \"mode\": \"markers\", \"name\": \"accuracy\", \"stepped\": false, \"type\": \"scatter\", \"data\": [0.9901620370370371, 0.9432870370370371, 0.8182870370370369, 0.7783564814814815, 0.8692129629629629, 0.6822916666666666, 0.9652777777777777, 0.8206018518518517, 0.9693287037037037, 0.8142361111111112, 0.9363425925925926, 0.8894675925925926, 0.9623842592592592, 0.9751157407407408, 0.8796296296296297, 0.9803240740740741, 0.9467592592592592, 0.8078703703703703, 0.945601851851852, 0.9375, 0.8148148148148149, 0.9791666666666666, 0.984375, 0.9606481481481483, 0.9768518518518517, 0.9415509259259259, 0.9542824074074074]}, {\"categories\": [\"0\", \"1\", \"2\", \"3\", \"4\", \"5\", \"6\", \"7\", \"8\", \"9\", \"10\", \"11\", \"12\", \"13\", \"14\", \"15\", \"16\", \"17\", \"18\", \"19\", \"20\", \"21\", \"22\", \"23\", \"24\", \"25\", \"26\"], \"mode\": \"lines\", \"name\": \"accuracy_max\", \"stepped\": true, \"type\": \"scatter\", \"data\": [0.9901620370370371, 0.9901620370370371, 0.9901620370370371, 0.9901620370370371, 0.9901620370370371, 0.9901620370370371, 0.9901620370370371, 0.9901620370370371, 0.9901620370370371, 0.9901620370370371, 0.9901620370370371, 0.9901620370370371, 0.9901620370370371, 0.9901620370370371, 0.9901620370370371, 0.9901620370370371, 0.9901620370370371, 0.9901620370370371, 0.9901620370370371, 0.9901620370370371, 0.9901620370370371, 0.9901620370370371, 0.9901620370370371, 0.9901620370370371, 0.9901620370370371, 0.9901620370370371, 0.9901620370370371]}], \"log_loss\": [{\"categories\": [\"0\", \"1\", \"2\", \"3\", \"4\", \"5\", \"6\", \"7\", \"8\", \"9\", \"10\", \"11\", \"12\", \"13\", \"14\", \"15\", \"16\", \"17\", \"18\", \"19\", \"20\", \"21\", \"22\", \"23\", \"24\", \"25\", \"26\"], \"mode\": \"markers\", \"name\": \"log_loss\", \"stepped\": false, \"type\": \"scatter\", \"data\": [0.03667583202090915, 0.18664959024249617, 0.45883255459124, 0.5202675494533657, 0.4433395051540275, 0.8296149665690966, 0.20737379935680653, 0.44042908555990473, 0.10077559552318939, 0.382743792944738, 0.6118072208216035, 0.2279391735304511, 0.21965343972248583, 0.1186700055630336, 0.3073909974489255, 0.06017533045610549, 0.19693998503800159, 0.5543453911721773, 0.17530418290294533, 0.18667398475607647, 0.4290198655243656, 0.07493246027361344, 0.04841818031094027, 0.15319277546611296, 0.10009258216018563, 0.16587074600006999, 0.17418470551427304]}, {\"categories\": [\"0\", \"1\", \"2\", \"3\", \"4\", \"5\", \"6\", \"7\", \"8\", \"9\", \"10\", \"11\", \"12\", \"13\", \"14\", \"15\", \"16\", \"17\", \"18\", \"19\", \"20\", \"21\", \"22\", \"23\", \"24\", \"25\", \"26\"], \"mode\": \"lines\", \"name\": \"log_loss_min\", \"stepped\": true, \"type\": \"scatter\", \"data\": [0.03667583202090915, 0.03667583202090915, 0.03667583202090915, 0.03667583202090915, 0.03667583202090915, 0.03667583202090915, 0.03667583202090915, 0.03667583202090915, 0.03667583202090915, 0.03667583202090915, 0.03667583202090915, 0.03667583202090915, 0.03667583202090915, 0.03667583202090915, 0.03667583202090915, 0.03667583202090915, 0.03667583202090915, 0.03667583202090915, 0.03667583202090915, 0.03667583202090915, 0.03667583202090915, 0.03667583202090915, 0.03667583202090915, 0.03667583202090915, 0.03667583202090915, 0.03667583202090915, 0.03667583202090915]}], \"AUC_micro\": [{\"categories\": [\"0\", \"1\", \"2\", \"3\", \"4\", \"5\", \"6\", \"7\", \"8\", \"9\", \"10\", \"11\", \"12\", \"13\", \"14\", \"15\", \"16\", \"17\", \"18\", \"19\", \"20\", \"21\", \"22\", \"23\", \"24\", \"25\", \"26\"], \"mode\": \"markers\", \"name\": \"AUC_micro\", \"stepped\": false, \"type\": \"scatter\", \"data\": [0.9997876746827847, 0.9962846418467078, 0.9718046044453018, 0.9580687639317557, 0.9814911935228051, 0.9173572262945816, 0.9984112439986284, 0.9742205584490741, 0.998867375042867, 0.9753953805512688, 0.9953157820001716, 0.9895920406807269, 0.9983255101165981, 0.9989125862697188, 0.9873515732167353, 0.999240451388889, 0.9969286506558642, 0.968902043681413, 0.9971058116855281, 0.9954745236411179, 0.9704475978437929, 0.9992354279192387, 0.9995174120156035, 0.9981734664351851, 0.9990686487268517, 0.9968419120799039, 0.9975649568115569]}, {\"categories\": [\"0\", \"1\", \"2\", \"3\", \"4\", \"5\", \"6\", \"7\", \"8\", \"9\", \"10\", \"11\", \"12\", \"13\", \"14\", \"15\", \"16\", \"17\", \"18\", \"19\", \"20\", \"21\", \"22\", \"23\", \"24\", \"25\", \"26\"], \"mode\": \"lines\", \"name\": \"AUC_micro_max\", \"stepped\": true, \"type\": \"scatter\", \"data\": [0.9997876746827847, 0.9997876746827847, 0.9997876746827847, 0.9997876746827847, 0.9997876746827847, 0.9997876746827847, 0.9997876746827847, 0.9997876746827847, 0.9997876746827847, 0.9997876746827847, 0.9997876746827847, 0.9997876746827847, 0.9997876746827847, 0.9997876746827847, 0.9997876746827847, 0.9997876746827847, 0.9997876746827847, 0.9997876746827847, 0.9997876746827847, 0.9997876746827847, 0.9997876746827847, 0.9997876746827847, 0.9997876746827847, 0.9997876746827847, 0.9997876746827847, 0.9997876746827847, 0.9997876746827847]}], \"norm_macro_recall\": [{\"categories\": [\"0\", \"1\", \"2\", \"3\", \"4\", \"5\", \"6\", \"7\", \"8\", \"9\", \"10\", \"11\", \"12\", \"13\", \"14\", \"15\", \"16\", \"17\", \"18\", \"19\", \"20\", \"21\", \"22\", \"23\", \"24\", \"25\", \"26\"], \"mode\": \"markers\", \"name\": \"norm_macro_recall\", \"stepped\": false, \"type\": \"scatter\", \"data\": [0.9621476659019751, 0.8289670618124614, 0.20033458693620962, 0.15698426485772424, 0.8450959412285833, 0.5756396634768572, 0.8878678017718408, 0.22279972509017276, 0.8586868629566887, 0.24923263174936916, 0.7287590422548641, 0.5767422844257697, 0.8529898097039842, 0.9231386736316729, 0.5161282110169536, 0.9050344275149723, 0.7993940813735466, 0.20401611366755049, 0.8030841650455204, 0.7430371143316986, 0.2528361093996581, 0.9050652548038554, 0.9200339710793299, 0.8268442992494917, 0.8919997414467692, 0.7351726421933652, 0.8268106602222686]}, {\"categories\": [\"0\", \"1\", \"2\", \"3\", \"4\", \"5\", \"6\", \"7\", \"8\", \"9\", \"10\", \"11\", \"12\", \"13\", \"14\", \"15\", \"16\", \"17\", \"18\", \"19\", \"20\", \"21\", \"22\", \"23\", \"24\", \"25\", \"26\"], \"mode\": \"lines\", \"name\": \"norm_macro_recall_max\", \"stepped\": true, \"type\": \"scatter\", \"data\": [0.9621476659019751, 0.9621476659019751, 0.9621476659019751, 0.9621476659019751, 0.9621476659019751, 0.9621476659019751, 0.9621476659019751, 0.9621476659019751, 0.9621476659019751, 0.9621476659019751, 0.9621476659019751, 0.9621476659019751, 0.9621476659019751, 0.9621476659019751, 0.9621476659019751, 0.9621476659019751, 0.9621476659019751, 0.9621476659019751, 0.9621476659019751, 0.9621476659019751, 0.9621476659019751, 0.9621476659019751, 0.9621476659019751, 0.9621476659019751, 0.9621476659019751, 0.9621476659019751, 0.9621476659019751]}], \"AUC_weighted\": [{\"categories\": [\"0\", \"1\", \"2\", \"3\", \"4\", \"5\", \"6\", \"7\", \"8\", \"9\", \"10\", \"11\", \"12\", \"13\", \"14\", \"15\", \"16\", \"17\", \"18\", \"19\", \"20\", \"21\", \"22\", \"23\", \"24\", \"25\", \"26\"], \"mode\": \"markers\", \"name\": \"AUC_weighted\", \"stepped\": false, \"type\": \"scatter\", \"data\": [0.9997580856730798, 0.9939073919324081, 0.9688290016866677, 0.948924027523821, 0.9761392514377274, 0.917947396253281, 0.9977016603670473, 0.9693816505362682, 0.9985940528922347, 0.9650090739720619, 0.9943969086610212, 0.9839668895497247, 0.9977178678093694, 0.9984504930107736, 0.981531276943233, 0.9991412558481209, 0.9964708620513401, 0.9545764142274602, 0.9965686343912625, 0.9922402338128481, 0.957671915075815, 0.9990076494579566, 0.9994574120721107, 0.9976626015915113, 0.9987623520862744, 0.9955982136371997, 0.9968111517966597]}, {\"categories\": [\"0\", \"1\", \"2\", \"3\", \"4\", \"5\", \"6\", \"7\", \"8\", \"9\", \"10\", \"11\", \"12\", \"13\", \"14\", \"15\", \"16\", \"17\", \"18\", \"19\", \"20\", \"21\", \"22\", \"23\", \"24\", \"25\", \"26\"], \"mode\": \"lines\", \"name\": \"AUC_weighted_max\", \"stepped\": true, \"type\": \"scatter\", \"data\": [0.9997580856730798, 0.9997580856730798, 0.9997580856730798, 0.9997580856730798, 0.9997580856730798, 0.9997580856730798, 0.9997580856730798, 0.9997580856730798, 0.9997580856730798, 0.9997580856730798, 0.9997580856730798, 0.9997580856730798, 0.9997580856730798, 0.9997580856730798, 0.9997580856730798, 0.9997580856730798, 0.9997580856730798, 0.9997580856730798, 0.9997580856730798, 0.9997580856730798, 0.9997580856730798, 0.9997580856730798, 0.9997580856730798, 0.9997580856730798, 0.9997580856730798, 0.9997580856730798, 0.9997580856730798]}], \"recall_score_macro\": [{\"categories\": [\"0\", \"1\", \"2\", \"3\", \"4\", \"5\", \"6\", \"7\", \"8\", \"9\", \"10\", \"11\", \"12\", \"13\", \"14\", \"15\", \"16\", \"17\", \"18\", \"19\", \"20\", \"21\", \"22\", \"23\", \"24\", \"25\", \"26\"], \"mode\": \"markers\", \"name\": \"recall_score_macro\", \"stepped\": false, \"type\": \"scatter\", \"data\": [0.9716107494264813, 0.871725296359346, 0.40025094020215723, 0.3677381986432932, 0.8838219559214376, 0.681729747607643, 0.9159008513288805, 0.41709979381762957, 0.8940151472175165, 0.4369244738120268, 0.796569281691148, 0.6825567133193272, 0.8897423572779881, 0.9423540052237547, 0.6370961582627152, 0.9287758206362291, 0.84954556103016, 0.4030120852506629, 0.8523131237841403, 0.8072778357487739, 0.43962708204974366, 0.9287989411028915, 0.9400254783094973, 0.8701332244371187, 0.9189998060850769, 0.8013794816450238, 0.8701079951667015]}, {\"categories\": [\"0\", \"1\", \"2\", \"3\", \"4\", \"5\", \"6\", \"7\", \"8\", \"9\", \"10\", \"11\", \"12\", \"13\", \"14\", \"15\", \"16\", \"17\", \"18\", \"19\", \"20\", \"21\", \"22\", \"23\", \"24\", \"25\", \"26\"], \"mode\": \"lines\", \"name\": \"recall_score_macro_max\", \"stepped\": true, \"type\": \"scatter\", \"data\": [0.9716107494264813, 0.9716107494264813, 0.9716107494264813, 0.9716107494264813, 0.9716107494264813, 0.9716107494264813, 0.9716107494264813, 0.9716107494264813, 0.9716107494264813, 0.9716107494264813, 0.9716107494264813, 0.9716107494264813, 0.9716107494264813, 0.9716107494264813, 0.9716107494264813, 0.9716107494264813, 0.9716107494264813, 0.9716107494264813, 0.9716107494264813, 0.9716107494264813, 0.9716107494264813, 0.9716107494264813, 0.9716107494264813, 0.9716107494264813, 0.9716107494264813, 0.9716107494264813, 0.9716107494264813]}], \"f1_score_macro\": [{\"categories\": [\"0\", \"1\", \"2\", \"3\", \"4\", \"5\", \"6\", \"7\", \"8\", \"9\", \"10\", \"11\", \"12\", \"13\", \"14\", \"15\", \"16\", \"17\", \"18\", \"19\", \"20\", \"21\", \"22\", \"23\", \"24\", \"25\", \"26\"], \"mode\": \"markers\", \"name\": \"f1_score_macro\", \"stepped\": false, \"type\": \"scatter\", \"data\": [0.973921330718612, 0.8603470180988101, 0.39156228200925264, 0.34938823217032017, 0.7784522875853286, 0.4987982116447134, 0.9063882279586993, 0.4067810334581698, 0.8995762744264034, 0.3972004784918434, 0.8203919689028893, 0.6988201248751054, 0.8867845241655331, 0.9349965344489659, 0.6648598137668359, 0.9312473516111991, 0.8412236634310001, 0.38127431551678076, 0.841351947472729, 0.8063350976358858, 0.39850549820191733, 0.9289338417793381, 0.9435891808794796, 0.8721569752176709, 0.92155625488408, 0.8028162086867026, 0.8709397281822907]}, {\"categories\": [\"0\", \"1\", \"2\", \"3\", \"4\", \"5\", \"6\", \"7\", \"8\", \"9\", \"10\", \"11\", \"12\", \"13\", \"14\", \"15\", \"16\", \"17\", \"18\", \"19\", \"20\", \"21\", \"22\", \"23\", \"24\", \"25\", \"26\"], \"mode\": \"lines\", \"name\": \"f1_score_macro_max\", \"stepped\": true, \"type\": \"scatter\", \"data\": [0.973921330718612, 0.973921330718612, 0.973921330718612, 0.973921330718612, 0.973921330718612, 0.973921330718612, 0.973921330718612, 0.973921330718612, 0.973921330718612, 0.973921330718612, 0.973921330718612, 0.973921330718612, 0.973921330718612, 0.973921330718612, 0.973921330718612, 0.973921330718612, 0.973921330718612, 0.973921330718612, 0.973921330718612, 0.973921330718612, 0.973921330718612, 0.973921330718612, 0.973921330718612, 0.973921330718612, 0.973921330718612, 0.973921330718612, 0.973921330718612]}], \"average_precision_score_macro\": [{\"categories\": [\"0\", \"1\", \"2\", \"3\", \"4\", \"5\", \"6\", \"7\", \"8\", \"9\", \"10\", \"11\", \"12\", \"13\", \"14\", \"15\", \"16\", \"17\", \"18\", \"19\", \"20\", \"21\", \"22\", \"23\", \"24\", \"25\", \"26\"], \"mode\": \"markers\", \"name\": \"average_precision_score_macro\", \"stepped\": false, \"type\": \"scatter\", \"data\": [0.9930661080265687, 0.9333245194892118, 0.76647405560795, 0.6701225093470545, 0.8572065123871645, 0.604767531553902, 0.9525308647534843, 0.8146272338508421, 0.9619012639764022, 0.7878909784192222, 0.9319147997332072, 0.8236982051396035, 0.9435441066413005, 0.9705663813507123, 0.8392395793354628, 0.9717413122037457, 0.9346412156499078, 0.7060949860424476, 0.9271054775549219, 0.9042938751140946, 0.7662865379048599, 0.9654789930448514, 0.9812008097552093, 0.9542652708698555, 0.9692826716208582, 0.9121225673910688, 0.9412058968762809]}, {\"categories\": [\"0\", \"1\", \"2\", \"3\", \"4\", \"5\", \"6\", \"7\", \"8\", \"9\", \"10\", \"11\", \"12\", \"13\", \"14\", \"15\", \"16\", \"17\", \"18\", \"19\", \"20\", \"21\", \"22\", \"23\", \"24\", \"25\", \"26\"], \"mode\": \"lines\", \"name\": \"average_precision_score_macro_max\", \"stepped\": true, \"type\": \"scatter\", \"data\": [0.9930661080265687, 0.9930661080265687, 0.9930661080265687, 0.9930661080265687, 0.9930661080265687, 0.9930661080265687, 0.9930661080265687, 0.9930661080265687, 0.9930661080265687, 0.9930661080265687, 0.9930661080265687, 0.9930661080265687, 0.9930661080265687, 0.9930661080265687, 0.9930661080265687, 0.9930661080265687, 0.9930661080265687, 0.9930661080265687, 0.9930661080265687, 0.9930661080265687, 0.9930661080265687, 0.9930661080265687, 0.9930661080265687, 0.9930661080265687, 0.9930661080265687, 0.9930661080265687, 0.9930661080265687]}], \"f1_score_micro\": [{\"categories\": [\"0\", \"1\", \"2\", \"3\", \"4\", \"5\", \"6\", \"7\", \"8\", \"9\", \"10\", \"11\", \"12\", \"13\", \"14\", \"15\", \"16\", \"17\", \"18\", \"19\", \"20\", \"21\", \"22\", \"23\", \"24\", \"25\", \"26\"], \"mode\": \"markers\", \"name\": \"f1_score_micro\", \"stepped\": false, \"type\": \"scatter\", \"data\": [0.9901620370370371, 0.9432870370370371, 0.8182870370370371, 0.7783564814814815, 0.8692129629629629, 0.6822916666666666, 0.9652777777777777, 0.8206018518518517, 0.9693287037037037, 0.8142361111111112, 0.9363425925925926, 0.8894675925925926, 0.9623842592592592, 0.9751157407407408, 0.8796296296296297, 0.9803240740740741, 0.9467592592592592, 0.8078703703703703, 0.945601851851852, 0.9375, 0.8148148148148149, 0.9791666666666666, 0.984375, 0.9606481481481483, 0.9768518518518517, 0.9415509259259259, 0.9542824074074074]}, {\"categories\": [\"0\", \"1\", \"2\", \"3\", \"4\", \"5\", \"6\", \"7\", \"8\", \"9\", \"10\", \"11\", \"12\", \"13\", \"14\", \"15\", \"16\", \"17\", \"18\", \"19\", \"20\", \"21\", \"22\", \"23\", \"24\", \"25\", \"26\"], \"mode\": \"lines\", \"name\": \"f1_score_micro_max\", \"stepped\": true, \"type\": \"scatter\", \"data\": [0.9901620370370371, 0.9901620370370371, 0.9901620370370371, 0.9901620370370371, 0.9901620370370371, 0.9901620370370371, 0.9901620370370371, 0.9901620370370371, 0.9901620370370371, 0.9901620370370371, 0.9901620370370371, 0.9901620370370371, 0.9901620370370371, 0.9901620370370371, 0.9901620370370371, 0.9901620370370371, 0.9901620370370371, 0.9901620370370371, 0.9901620370370371, 0.9901620370370371, 0.9901620370370371, 0.9901620370370371, 0.9901620370370371, 0.9901620370370371, 0.9901620370370371, 0.9901620370370371, 0.9901620370370371]}], \"precision_score_weighted\": [{\"categories\": [\"0\", \"1\", \"2\", \"3\", \"4\", \"5\", \"6\", \"7\", \"8\", \"9\", \"10\", \"11\", \"12\", \"13\", \"14\", \"15\", \"16\", \"17\", \"18\", \"19\", \"20\", \"21\", \"22\", \"23\", \"24\", \"25\", \"26\"], \"mode\": \"markers\", \"name\": \"precision_score_weighted\", \"stepped\": false, \"type\": \"scatter\", \"data\": [0.9906275567706276, 0.9469561034950367, 0.7628079260510029, 0.7167722691038466, 0.9023256707804004, 0.8118116172946849, 0.9668182791589173, 0.7738837004972399, 0.9696482721866372, 0.787818269866937, 0.9366062067671851, 0.8841340147905768, 0.9638379006455325, 0.9759267973708035, 0.880980823361123, 0.9809129481969882, 0.9503677560832281, 0.7536373099348211, 0.9492674396242663, 0.9357348874005714, 0.7913265209976464, 0.9796476936989745, 0.9846375014686419, 0.9619945935780271, 0.9779895854491416, 0.9409433891465208, 0.9551006518716555]}, {\"categories\": [\"0\", \"1\", \"2\", \"3\", \"4\", \"5\", \"6\", \"7\", \"8\", \"9\", \"10\", \"11\", \"12\", \"13\", \"14\", \"15\", \"16\", \"17\", \"18\", \"19\", \"20\", \"21\", \"22\", \"23\", \"24\", \"25\", \"26\"], \"mode\": \"lines\", \"name\": \"precision_score_weighted_max\", \"stepped\": true, \"type\": \"scatter\", \"data\": [0.9906275567706276, 0.9906275567706276, 0.9906275567706276, 0.9906275567706276, 0.9906275567706276, 0.9906275567706276, 0.9906275567706276, 0.9906275567706276, 0.9906275567706276, 0.9906275567706276, 0.9906275567706276, 0.9906275567706276, 0.9906275567706276, 0.9906275567706276, 0.9906275567706276, 0.9906275567706276, 0.9906275567706276, 0.9906275567706276, 0.9906275567706276, 0.9906275567706276, 0.9906275567706276, 0.9906275567706276, 0.9906275567706276, 0.9906275567706276, 0.9906275567706276, 0.9906275567706276, 0.9906275567706276]}], \"matthews_correlation\": [{\"categories\": [\"0\", \"1\", \"2\", \"3\", \"4\", \"5\", \"6\", \"7\", \"8\", \"9\", \"10\", \"11\", \"12\", \"13\", \"14\", \"15\", \"16\", \"17\", \"18\", \"19\", \"20\", \"21\", \"22\", \"23\", \"24\", \"25\", \"26\"], \"mode\": \"markers\", \"name\": \"matthews_correlation\", \"stepped\": false, \"type\": \"scatter\", \"data\": [0.9783440472028833, 0.8786080540973784, 0.563760084634732, 0.4704690038765547, 0.7516832666550123, 0.46747098887430144, 0.9262275293898954, 0.5810943015288187, 0.9336133034667835, 0.6126192190224201, 0.862387497142688, 0.7588614372108893, 0.9188815092765533, 0.9458063570643508, 0.7408851548375552, 0.9577900469990461, 0.8874938218904885, 0.5574833378068483, 0.8840439253984451, 0.8665715233355445, 0.6174460894561701, 0.9548495575777675, 0.9663149716079635, 0.9162790517953875, 0.9501049146111926, 0.8742077981188686, 0.9022238054052759]}, {\"categories\": [\"0\", \"1\", \"2\", \"3\", \"4\", \"5\", \"6\", \"7\", \"8\", \"9\", \"10\", \"11\", \"12\", \"13\", \"14\", \"15\", \"16\", \"17\", \"18\", \"19\", \"20\", \"21\", \"22\", \"23\", \"24\", \"25\", \"26\"], \"mode\": \"lines\", \"name\": \"matthews_correlation_max\", \"stepped\": true, \"type\": \"scatter\", \"data\": [0.9783440472028833, 0.9783440472028833, 0.9783440472028833, 0.9783440472028833, 0.9783440472028833, 0.9783440472028833, 0.9783440472028833, 0.9783440472028833, 0.9783440472028833, 0.9783440472028833, 0.9783440472028833, 0.9783440472028833, 0.9783440472028833, 0.9783440472028833, 0.9783440472028833, 0.9783440472028833, 0.9783440472028833, 0.9783440472028833, 0.9783440472028833, 0.9783440472028833, 0.9783440472028833, 0.9783440472028833, 0.9783440472028833, 0.9783440472028833, 0.9783440472028833, 0.9783440472028833, 0.9783440472028833]}]}, \"metricName\": null, \"primaryMetricName\": \"accuracy\", \"showLegend\": false}, \"run_metrics\": [{\"name\": \"experiment_status\", \"run_id\": \"AutoML_865b9eff-b5a9-4328-9e4c-d7f5cb1c9293\", \"categories\": [0, 1, 2, 3, 4, 5, 6, 7, 8, 9, 10, 11, 12, 13, 14], \"series\": [{\"data\": [\"DatasetEvaluation\", \"FeaturesGeneration\", \"DatasetFeaturization\", \"DatasetFeaturizationCompleted\", \"DatasetBalancing\", \"DatasetCrossValidationSplit\", \"ModelSelection\", \"BestRunExplainModel\", \"ModelExplanationDataSetSetup\", \"PickSurrogateModel\", \"EngineeredFeatureExplanations\", \"EngineeredFeatureExplanations\", \"RawFeaturesExplanations\", \"RawFeaturesExplanations\", \"BestRunExplainModel\"]}]}, {\"name\": \"experiment_status_description\", \"run_id\": \"AutoML_865b9eff-b5a9-4328-9e4c-d7f5cb1c9293\", \"categories\": [0, 1, 2, 3, 4, 5, 6, 7, 8, 9, 10, 11, 12, 13, 14], \"series\": [{\"data\": [\"Gathering dataset statistics.\", \"Generating features for the dataset.\", \"Beginning to fit featurizers and featurize the dataset.\", \"Completed fit featurizers and featurizing the dataset.\", \"Performing class balancing sweeping\", \"Generating individually featurized CV splits.\", \"Beginning model selection.\", \"Best run model explanations started\", \"Model explanations data setup completed\", \"Choosing LightGBM as the surrogate model for explanations\", \"Computation of engineered features started\", \"Computation of engineered features completed\", \"Computation of raw features started\", \"Computation of raw features completed\", \"Best run model explanations completed\"]}]}, {\"name\": \"AUC_macro\", \"run_id\": \"AutoML_865b9eff-b5a9-4328-9e4c-d7f5cb1c9293\", \"categories\": [0], \"series\": [{\"data\": [0.9994576838019057]}]}, {\"name\": \"AUC_weighted\", \"run_id\": \"AutoML_865b9eff-b5a9-4328-9e4c-d7f5cb1c9293\", \"categories\": [0], \"series\": [{\"data\": [0.9997580856730798]}]}, {\"name\": \"AUC_micro\", \"run_id\": \"AutoML_865b9eff-b5a9-4328-9e4c-d7f5cb1c9293\", \"categories\": [0], \"series\": [{\"data\": [0.9997876746827847]}]}, {\"name\": \"recall_score_macro\", \"run_id\": \"AutoML_865b9eff-b5a9-4328-9e4c-d7f5cb1c9293\", \"categories\": [0], \"series\": [{\"data\": [0.9716107494264813]}]}, {\"name\": \"average_precision_score_macro\", \"run_id\": \"AutoML_865b9eff-b5a9-4328-9e4c-d7f5cb1c9293\", \"categories\": [0], \"series\": [{\"data\": [0.9930661080265687]}]}, {\"name\": \"norm_macro_recall\", \"run_id\": \"AutoML_865b9eff-b5a9-4328-9e4c-d7f5cb1c9293\", \"categories\": [0], \"series\": [{\"data\": [0.9621476659019751]}]}, {\"name\": \"f1_score_micro\", \"run_id\": \"AutoML_865b9eff-b5a9-4328-9e4c-d7f5cb1c9293\", \"categories\": [0], \"series\": [{\"data\": [0.9901620370370371]}]}, {\"name\": \"f1_score_weighted\", \"run_id\": \"AutoML_865b9eff-b5a9-4328-9e4c-d7f5cb1c9293\", \"categories\": [0], \"series\": [{\"data\": [0.9901815761733244]}]}, {\"name\": \"precision_score_micro\", \"run_id\": \"AutoML_865b9eff-b5a9-4328-9e4c-d7f5cb1c9293\", \"categories\": [0], \"series\": [{\"data\": [0.9901620370370371]}]}, {\"name\": \"recall_score_weighted\", \"run_id\": \"AutoML_865b9eff-b5a9-4328-9e4c-d7f5cb1c9293\", \"categories\": [0], \"series\": [{\"data\": [0.9901620370370371]}]}, {\"name\": \"log_loss\", \"run_id\": \"AutoML_865b9eff-b5a9-4328-9e4c-d7f5cb1c9293\", \"categories\": [0], \"series\": [{\"data\": [0.03667583202090915]}]}, {\"name\": \"matthews_correlation\", \"run_id\": \"AutoML_865b9eff-b5a9-4328-9e4c-d7f5cb1c9293\", \"categories\": [0], \"series\": [{\"data\": [0.9783440472028833]}]}, {\"name\": \"precision_score_macro\", \"run_id\": \"AutoML_865b9eff-b5a9-4328-9e4c-d7f5cb1c9293\", \"categories\": [0], \"series\": [{\"data\": [0.9784257927074446]}]}, {\"name\": \"accuracy\", \"run_id\": \"AutoML_865b9eff-b5a9-4328-9e4c-d7f5cb1c9293\", \"categories\": [0], \"series\": [{\"data\": [0.9901620370370371]}]}, {\"name\": \"weighted_accuracy\", \"run_id\": \"AutoML_865b9eff-b5a9-4328-9e4c-d7f5cb1c9293\", \"categories\": [0], \"series\": [{\"data\": [0.9939776766082943]}]}, {\"name\": \"average_precision_score_micro\", \"run_id\": \"AutoML_865b9eff-b5a9-4328-9e4c-d7f5cb1c9293\", \"categories\": [0], \"series\": [{\"data\": [0.9993832531479413]}]}, {\"name\": \"average_precision_score_weighted\", \"run_id\": \"AutoML_865b9eff-b5a9-4328-9e4c-d7f5cb1c9293\", \"categories\": [0], \"series\": [{\"data\": [0.9984122891680266]}]}, {\"name\": \"balanced_accuracy\", \"run_id\": \"AutoML_865b9eff-b5a9-4328-9e4c-d7f5cb1c9293\", \"categories\": [0], \"series\": [{\"data\": [0.9716107494264813]}]}, {\"name\": \"precision_score_weighted\", \"run_id\": \"AutoML_865b9eff-b5a9-4328-9e4c-d7f5cb1c9293\", \"categories\": [0], \"series\": [{\"data\": [0.9906275567706276]}]}, {\"name\": \"f1_score_macro\", \"run_id\": \"AutoML_865b9eff-b5a9-4328-9e4c-d7f5cb1c9293\", \"categories\": [0], \"series\": [{\"data\": [0.973921330718612]}]}, {\"name\": \"recall_score_micro\", \"run_id\": \"AutoML_865b9eff-b5a9-4328-9e4c-d7f5cb1c9293\", \"categories\": [0], \"series\": [{\"data\": [0.9901620370370371]}]}], \"run_logs\": \"\\nRun is completed.\", \"graph\": {}, \"widget_settings\": {\"childWidgetDisplay\": \"popup\", \"send_telemetry\": false, \"log_level\": \"INFO\", \"sdk_version\": \"1.20.0\"}, \"loading\": false}"
          },
          "metadata": {}
        }
      ],
      "execution_count": 21,
      "metadata": {
        "gather": {
          "logged": 1612030043902
        },
        "jupyter": {
          "outputs_hidden": false,
          "source_hidden": false
        },
        "nteract": {
          "transient": {
            "deleting": false
          }
        }
      }
    },
    {
      "cell_type": "code",
      "source": [
        "remote_run.wait_for_completion(show_output=True)"
      ],
      "outputs": [
        {
          "output_type": "stream",
          "name": "stdout",
          "text": [
            "\n",
            "\n",
            "****************************************************************************************************\n",
            "DATA GUARDRAILS: \n",
            "\n",
            "TYPE:         Cross validation\n",
            "STATUS:       DONE\n",
            "DESCRIPTION:  Each iteration of the trained model was validated through cross-validation.\n",
            "              \n",
            "DETAILS:      \n",
            "+---------------------------------+\n",
            "|Number of folds                  |\n",
            "+=================================+\n",
            "|3                                |\n",
            "+---------------------------------+\n",
            "\n",
            "****************************************************************************************************\n",
            "\n",
            "TYPE:         Class balancing detection\n",
            "STATUS:       ALERTED\n",
            "DESCRIPTION:  To decrease model bias, please cancel the current run and fix balancing problem.\n",
            "              Learn more about imbalanced data: https://aka.ms/AutomatedMLImbalancedData\n",
            "DETAILS:      Imbalanced data can lead to a falsely perceived positive effect of a model's accuracy because the input data has bias towards one class.\n",
            "+---------------------------------+---------------------------------+--------------------------------------+\n",
            "|Size of the smallest class       |Name/Label of the smallest class |Number of samples in the training data|\n",
            "+=================================+=================================+======================================+\n",
            "|65                               |vgood                            |1728                                  |\n",
            "+---------------------------------+---------------------------------+--------------------------------------+\n",
            "\n",
            "****************************************************************************************************\n",
            "\n",
            "TYPE:         Missing feature values imputation\n",
            "STATUS:       PASSED\n",
            "DESCRIPTION:  No feature missing values were detected in the training data.\n",
            "              Learn more about missing value imputation: https://aka.ms/AutomatedMLFeaturization\n",
            "\n",
            "****************************************************************************************************\n",
            "\n",
            "TYPE:         High cardinality feature detection\n",
            "STATUS:       PASSED\n",
            "DESCRIPTION:  Your inputs were analyzed, and no high cardinality features were detected.\n",
            "              Learn more about high cardinality feature handling: https://aka.ms/AutomatedMLFeaturization\n",
            "\n",
            "****************************************************************************************************\n",
            "\n",
            "****************************************************************************************************\n",
            "ITERATION: The iteration being evaluated.\n",
            "PIPELINE: A summary description of the pipeline being evaluated.\n",
            "DURATION: Time taken for the current iteration.\n",
            "METRIC: The result of computing score on the fitted pipeline.\n",
            "BEST: The best observed score thus far.\n",
            "****************************************************************************************************\n",
            "\n",
            " ITERATION   PIPELINE                                       DURATION      METRIC      BEST\n",
            "         0   MaxAbsScaler LightGBM                          0:01:00       0.9902    0.9902\n",
            "         1   MaxAbsScaler XGBoostClassifier                 0:00:51       0.9433    0.9902\n",
            "         2   MaxAbsScaler RandomForest                      0:00:52       0.8183    0.9902\n",
            "         3   MaxAbsScaler RandomForest                      0:00:50       0.7784    0.9902\n",
            "         4   MaxAbsScaler RandomForest                      0:00:50       0.8692    0.9902\n",
            "         5   MaxAbsScaler RandomForest                      0:00:49       0.6823    0.9902\n",
            "         6   SparseNormalizer XGBoostClassifier             0:00:46       0.9653    0.9902\n",
            "         7   StandardScalerWrapper RandomForest             0:00:51       0.8206    0.9902\n",
            "         8   SparseNormalizer XGBoostClassifier             0:00:54       0.9693    0.9902\n",
            "         9   MaxAbsScaler ExtremeRandomTrees                0:00:53       0.8142    0.9902\n",
            "        10   SparseNormalizer XGBoostClassifier             0:00:49       0.9363    0.9902\n"
          ]
        }
      ],
      "execution_count": 22,
      "metadata": {
        "collapsed": true,
        "jupyter": {
          "source_hidden": false,
          "outputs_hidden": false
        },
        "nteract": {
          "transient": {
            "deleting": false
          }
        },
        "gather": {
          "logged": 1612030043773
        }
      }
    },
    {
      "cell_type": "markdown",
      "source": [
        "## Best Model\n",
        "\n",
        "Now we extract the best performing model out of the AutoML run and print its properties.\n",
        "\n"
      ],
      "metadata": {}
    },
    {
      "cell_type": "code",
      "source": [
        "best_automl_run, best_automl_model = remote_run.get_output()\r\n",
        "\r\n",
        "print(best_automl_run)\r\n",
        "\r\n",
        "print(best_automl_run.get_metrics()['accuracy'])"
      ],
      "outputs": [
        {
          "output_type": "stream",
          "name": "stdout",
          "text": [
            "Run(Experiment: Car_Evaluation_AutoML,\n",
            "Id: AutoML_865b9eff-b5a9-4328-9e4c-d7f5cb1c9293_0,\n",
            "Type: azureml.scriptrun,\n",
            "Status: Completed)\n",
            "0.9901620370370371\n"
          ]
        }
      ],
      "execution_count": 23,
      "metadata": {
        "gather": {
          "logged": 1612030720676
        },
        "jupyter": {
          "outputs_hidden": false,
          "source_hidden": false
        },
        "nteract": {
          "transient": {
            "deleting": false
          }
        }
      }
    },
    {
      "cell_type": "code",
      "source": [
        "best_automl_model.steps"
      ],
      "outputs": [
        {
          "output_type": "execute_result",
          "execution_count": 24,
          "data": {
            "text/plain": "[('datatransformer',\n  DataTransformer(enable_dnn=None, enable_feature_sweeping=None,\n                  feature_sweeping_config=None, feature_sweeping_timeout=None,\n                  featurization_config=None, force_text_dnn=None,\n                  is_cross_validation=None, is_onnx_compatible=None, logger=None,\n                  observer=None, task=None, working_dir=None)),\n ('MaxAbsScaler', MaxAbsScaler(copy=True)),\n ('LightGBMClassifier',\n  LightGBMClassifier(boosting_type='gbdt', class_weight=None,\n                     colsample_bytree=1.0, importance_type='split',\n                     learning_rate=0.1, max_depth=-1, min_child_samples=20,\n                     min_child_weight=0.001, min_split_gain=0.0, n_estimators=100,\n                     n_jobs=1, num_leaves=31, objective=None, random_state=None,\n                     reg_alpha=0.0, reg_lambda=0.0, silent=True, subsample=1.0,\n                     subsample_for_bin=200000, subsample_freq=0, verbose=-10))]"
          },
          "metadata": {}
        }
      ],
      "execution_count": 24,
      "metadata": {
        "collapsed": true,
        "jupyter": {
          "source_hidden": false,
          "outputs_hidden": false
        },
        "nteract": {
          "transient": {
            "deleting": false
          }
        },
        "gather": {
          "logged": 1612030745717
        }
      }
    },
    {
      "cell_type": "markdown",
      "source": [
        "## Model Deployment\n",
        "\n",
        "Since Azure AutoML generates a model which has accuracy higher than the HyperDrive-optimized model, we deploy this model."
      ],
      "metadata": {}
    },
    {
      "cell_type": "code",
      "source": [
        "model = best_automl_run.register_model(\"car-evaluation-model\", model_path=\"outputs/model.pkl\")"
      ],
      "outputs": [],
      "execution_count": 26,
      "metadata": {
        "collapsed": true,
        "jupyter": {
          "source_hidden": false,
          "outputs_hidden": false
        },
        "nteract": {
          "transient": {
            "deleting": false
          }
        },
        "gather": {
          "logged": 1612030819034
        }
      }
    },
    {
      "cell_type": "code",
      "source": [
        "\r\n",
        "best_automl_run.download_file('outputs/scoring_file_v_1_0_0.py', 'automl_inf/score.py')\r\n",
        "best_automl_run.download_file('outputs/model.pkl', 'automl_inf/model.pkl')"
      ],
      "outputs": [],
      "execution_count": 27,
      "metadata": {
        "collapsed": true,
        "jupyter": {
          "source_hidden": false,
          "outputs_hidden": false
        },
        "nteract": {
          "transient": {
            "deleting": false
          }
        },
        "gather": {
          "logged": 1612030819637
        }
      }
    },
    {
      "cell_type": "code",
      "source": [
        "print(model)"
      ],
      "outputs": [
        {
          "output_type": "stream",
          "name": "stdout",
          "text": [
            "Model(workspace=Workspace.create(name='quick-starts-ws-136623', subscription_id='3d1a56d2-7c81-4118-9790-f85d1acf0c77', resource_group='aml-quickstarts-136623'), name=car-evaluation-model, id=car-evaluation-model:1, version=1, tags={}, properties={})\n"
          ]
        }
      ],
      "execution_count": 28,
      "metadata": {
        "collapsed": true,
        "jupyter": {
          "source_hidden": false,
          "outputs_hidden": false
        },
        "nteract": {
          "transient": {
            "deleting": false
          }
        },
        "gather": {
          "logged": 1612030834429
        }
      }
    },
    {
      "cell_type": "code",
      "source": [
        "from azureml.core.model import InferenceConfig\r\n",
        "\r\n",
        "inference_config = InferenceConfig(entry_script='automl_inf/score.py')"
      ],
      "outputs": [],
      "execution_count": 29,
      "metadata": {
        "collapsed": true,
        "jupyter": {
          "source_hidden": false,
          "outputs_hidden": false
        },
        "nteract": {
          "transient": {
            "deleting": false
          }
        },
        "gather": {
          "logged": 1612030842458
        }
      }
    },
    {
      "cell_type": "code",
      "source": [
        "service = Model.deploy(ws, \"car-evaluation-service\", [model], inference_config, overwrite=True)\r\n",
        "service.wait_for_deployment(show_output = True)\r\n",
        "print(service.state)"
      ],
      "outputs": [
        {
          "output_type": "stream",
          "name": "stdout",
          "text": [
            "Tips: You can try get_logs(): https://aka.ms/debugimage#dockerlog or local deployment: https://aka.ms/debugimage#debug-locally to debug if deployment takes longer than 10 minutes.\n",
            "Running.........................................................\n",
            "Succeeded\n",
            "ACI service creation operation finished, operation \"Succeeded\"\n",
            "Healthy\n"
          ]
        }
      ],
      "execution_count": 30,
      "metadata": {
        "collapsed": true,
        "jupyter": {
          "source_hidden": false,
          "outputs_hidden": false
        },
        "nteract": {
          "transient": {
            "deleting": false
          }
        },
        "gather": {
          "logged": 1612031155671
        }
      }
    },
    {
      "cell_type": "markdown",
      "source": [
        "TODO: In the cell below, send a request to the web service you deployed to test it."
      ],
      "metadata": {
        "collapsed": true,
        "gather": {
          "logged": 1598431657736
        },
        "jupyter": {
          "outputs_hidden": false,
          "source_hidden": false
        },
        "nteract": {
          "transient": {
            "deleting": false
          }
        }
      }
    },
    {
      "cell_type": "code",
      "source": [
        "%run endpoint.py"
      ],
      "outputs": [
        {
          "output_type": "stream",
          "name": "stdout",
          "text": [
            "{\"result\": [\"unacc\", \"acc\"]}\n"
          ]
        }
      ],
      "execution_count": 49,
      "metadata": {
        "collapsed": true,
        "jupyter": {
          "source_hidden": false,
          "outputs_hidden": false
        },
        "nteract": {
          "transient": {
            "deleting": false
          }
        }
      }
    },
    {
      "cell_type": "code",
      "source": [
        "test_data = {\"data\":\r\n",
        "        [\r\n",
        "          {\r\n",
        "            \"Column1\": \"vhigh\",\r\n",
        "            \"Column2\": \"vhigh\",\r\n",
        "            \"Column3\": 2,\r\n",
        "            \"Column4\": 2,\r\n",
        "            \"Column5\": \"small\",\r\n",
        "            \"Column6\": \"low\"\r\n",
        "          },\r\n",
        "          {\r\n",
        "            \"Column1\": \"high\",\r\n",
        "            \"Column2\": \"med\",\r\n",
        "            \"Column3\": 4,\r\n",
        "            \"Column4\": 4,\r\n",
        "            \"Column5\": \"med\",\r\n",
        "            \"Column6\": \"med\"\r\n",
        "          }\r\n",
        "      ]\r\n",
        "    }\r\n",
        "\r\n",
        "# Convert to JSON string\r\n",
        "input_data = json.dumps(test_data)"
      ],
      "outputs": [],
      "execution_count": 47,
      "metadata": {
        "collapsed": true,
        "jupyter": {
          "source_hidden": false,
          "outputs_hidden": false
        },
        "nteract": {
          "transient": {
            "deleting": false
          }
        },
        "gather": {
          "logged": 1612033588713
        }
      }
    },
    {
      "cell_type": "code",
      "source": [
        "service.run(input_data)"
      ],
      "outputs": [
        {
          "output_type": "execute_result",
          "execution_count": 50,
          "data": {
            "text/plain": "'{\"result\": [\"unacc\", \"acc\"]}'"
          },
          "metadata": {}
        }
      ],
      "execution_count": 50,
      "metadata": {
        "collapsed": true,
        "jupyter": {
          "source_hidden": false,
          "outputs_hidden": false
        },
        "nteract": {
          "transient": {
            "deleting": false
          }
        },
        "gather": {
          "logged": 1612033939754
        }
      }
    },
    {
      "cell_type": "markdown",
      "source": [
        "TODO: In the cell below, print the logs of the web service and delete the service"
      ],
      "metadata": {
        "collapsed": true,
        "gather": {
          "logged": 1598432765711
        },
        "jupyter": {
          "outputs_hidden": false,
          "source_hidden": false
        },
        "nteract": {
          "transient": {
            "deleting": false
          }
        }
      }
    },
    {
      "cell_type": "code",
      "source": [
        "service.get_logs()"
      ],
      "outputs": [
        {
          "output_type": "execute_result",
          "execution_count": 34,
          "data": {
            "text/plain": "'2021-01-30T18:23:53,733062400+00:00 - iot-server/run \\n2021-01-30T18:23:53,815139700+00:00 - gunicorn/run \\n2021-01-30T18:23:53,832674000+00:00 - rsyslog/run \\n2021-01-30T18:23:53,923863300+00:00 - nginx/run \\n/usr/sbin/nginx: /azureml-envs/azureml_0fa610eee8d0a5b15925e6959503249d/lib/libcrypto.so.1.0.0: no version information available (required by /usr/sbin/nginx)\\n/usr/sbin/nginx: /azureml-envs/azureml_0fa610eee8d0a5b15925e6959503249d/lib/libcrypto.so.1.0.0: no version information available (required by /usr/sbin/nginx)\\n/usr/sbin/nginx: /azureml-envs/azureml_0fa610eee8d0a5b15925e6959503249d/lib/libssl.so.1.0.0: no version information available (required by /usr/sbin/nginx)\\n/usr/sbin/nginx: /azureml-envs/azureml_0fa610eee8d0a5b15925e6959503249d/lib/libssl.so.1.0.0: no version information available (required by /usr/sbin/nginx)\\n/usr/sbin/nginx: /azureml-envs/azureml_0fa610eee8d0a5b15925e6959503249d/lib/libssl.so.1.0.0: no version information available (required by /usr/sbin/nginx)\\nrsyslogd: /azureml-envs/azureml_0fa610eee8d0a5b15925e6959503249d/lib/libuuid.so.1: no version information available (required by rsyslogd)\\nEdgeHubConnectionString and IOTEDGE_IOTHUBHOSTNAME are not set. Exiting...\\n2021-01-30T18:24:02,415323500+00:00 - iot-server/finish 1 0\\n2021-01-30T18:24:02,431379200+00:00 - Exit code 1 is normal. Not restarting iot-server.\\nStarting gunicorn 19.9.0\\nListening at: http://127.0.0.1:31311 (62)\\nUsing worker: sync\\nworker timeout is set to 300\\nBooting worker with pid: 90\\nSPARK_HOME not set. Skipping PySpark Initialization.\\nGenerating new fontManager, this may take some time...\\nInitializing logger\\n2021-01-30 18:24:30,137 | root | INFO | Starting up app insights client\\n2021-01-30 18:24:30,144 | root | INFO | Starting up request id generator\\n2021-01-30 18:24:30,144 | root | INFO | Starting up app insight hooks\\n2021-01-30 18:24:30,144 | root | INFO | Invoking user\\'s init function\\nBetter speed can be achieved with apex installed from https://www.github.com/nvidia/apex .\\nBetter speed can be achieved with apex installed from https://www.github.com/nvidia/apex .\\n2021-01-30 18:25:40,444 | azureml.core | WARNING | Failure while loading azureml_run_type_providers. Failed to load entrypoint automl = azureml.train.automl.run:AutoMLRun._from_run_dto with exception cannot import name \\'RunType\\'.\\nFailure while loading azureml_run_type_providers. Failed to load entrypoint automl = azureml.train.automl.run:AutoMLRun._from_run_dto with exception cannot import name \\'RunType\\'.\\n2021-01-30 18:25:41,416 | root | INFO | Users\\'s init has completed successfully\\n2021-01-30 18:25:41,524 | root | INFO | Skipping middleware: dbg_model_info as it\\'s not enabled.\\n2021-01-30 18:25:41,524 | root | INFO | Skipping middleware: dbg_resource_usage as it\\'s not enabled.\\n2021-01-30 18:25:41,534 | root | INFO | Scoring timeout is found from os.environ: 60000 ms\\n2021-01-30 18:25:48,973 | root | INFO | 200\\n127.0.0.1 - - [30/Jan/2021:18:25:48 +0000] \"GET /swagger.json HTTP/1.0\" 200 2334 \"-\" \"Go-http-client/1.1\"\\n2021-01-30 18:25:53,289 | root | INFO | 200\\n127.0.0.1 - - [30/Jan/2021:18:25:53 +0000] \"GET /swagger.json HTTP/1.0\" 200 2334 \"-\" \"Go-http-client/1.1\"\\n2021-01-30 18:29:27,009 | root | INFO | Validation Request Content-Type\\n2021-01-30 18:29:27,018 | root | INFO | Scoring Timer is set to 60.0 seconds\\n2021-01-30 18:29:27,345 | root | INFO | 200\\n127.0.0.1 - - [30/Jan/2021:18:29:27 +0000] \"POST /score HTTP/1.0\" 200 36 \"-\" \"python-requests/2.25.1\"\\n'"
          },
          "metadata": {}
        }
      ],
      "execution_count": 34,
      "metadata": {
        "jupyter": {
          "outputs_hidden": false,
          "source_hidden": false
        },
        "nteract": {
          "transient": {
            "deleting": false
          }
        },
        "gather": {
          "logged": 1612031379466
        }
      }
    },
    {
      "cell_type": "code",
      "source": [
        "service.update(enable_app_insights=True)"
      ],
      "outputs": [],
      "execution_count": 43,
      "metadata": {
        "collapsed": true,
        "jupyter": {
          "source_hidden": false,
          "outputs_hidden": false
        },
        "nteract": {
          "transient": {
            "deleting": false
          }
        },
        "gather": {
          "logged": 1612032531961
        }
      }
    },
    {
      "cell_type": "code",
      "source": [
        "service.delete()"
      ],
      "outputs": [],
      "execution_count": 51,
      "metadata": {
        "collapsed": true,
        "jupyter": {
          "source_hidden": false,
          "outputs_hidden": false
        },
        "nteract": {
          "transient": {
            "deleting": false
          }
        },
        "gather": {
          "logged": 1612033996747
        }
      }
    }
  ],
  "metadata": {
    "kernel_info": {
      "name": "python3"
    },
    "kernelspec": {
      "name": "python3",
      "language": "python",
      "display_name": "Python 3"
    },
    "language_info": {
      "name": "python",
      "version": "3.6.9",
      "mimetype": "text/x-python",
      "codemirror_mode": {
        "name": "ipython",
        "version": 3
      },
      "pygments_lexer": "ipython3",
      "nbconvert_exporter": "python",
      "file_extension": ".py"
    },
    "nteract": {
      "version": "nteract-front-end@1.0.0"
    }
  },
  "nbformat": 4,
  "nbformat_minor": 2
}