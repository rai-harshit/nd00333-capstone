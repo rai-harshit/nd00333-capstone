{
  "cells": [
    {
      "cell_type": "markdown",
      "source": [
        "# Automated ML\n",
        "\n",
        "TODO: Import Dependencies. In the cell below, import all the dependencies that you will need to complete the project."
      ],
      "metadata": {}
    },
    {
      "cell_type": "code",
      "source": [
        "from azureml.core import Workspace, Experiment\r\n",
        "from azureml.data.dataset_factory import TabularDatasetFactory\r\n",
        "from train import clean_data\r\n",
        "from azureml.train.automl import AutoMLConfig\r\n",
        "import os\r\n",
        "import joblib\r\n",
        "from azureml.core.webservice import AciWebservice, Webservice\r\n",
        "from azureml.core.model import Model\r\n",
        "import requests"
      ],
      "outputs": [],
      "execution_count": 38,
      "metadata": {
        "gather": {
          "logged": 1611998779098
        },
        "jupyter": {
          "outputs_hidden": false,
          "source_hidden": false
        },
        "nteract": {
          "transient": {
            "deleting": false
          }
        }
      }
    },
    {
      "cell_type": "markdown",
      "source": [
        "## Dataset\n",
        "\n",
        "### Overview\n",
        "TODO: In this markdown cell, give an overview of the dataset you are using. Also mention the task you will be performing.\n",
        "\n",
        "\n",
        "TODO: Get data. In the cell below, write code to access the data you will be using in this project. Remember that the dataset needs to be external."
      ],
      "metadata": {}
    },
    {
      "cell_type": "code",
      "source": [
        "ws = Workspace.from_config()\n",
        "\n",
        "# choose a name for experiment\n",
        "experiment_name = 'Car_Evaluation_AutoML'\n",
        "\n",
        "experiment=Experiment(ws, experiment_name)"
      ],
      "outputs": [],
      "execution_count": 2,
      "metadata": {
        "gather": {
          "logged": 1611994242826
        },
        "jupyter": {
          "outputs_hidden": false,
          "source_hidden": false
        },
        "nteract": {
          "transient": {
            "deleting": false
          }
        }
      }
    },
    {
      "cell_type": "code",
      "source": [
        "from azureml.core.compute import ComputeTarget, AmlCompute\r\n",
        "\r\n",
        "# TODO: Create compute cluster\r\n",
        "# Use vm_size = \"Standard_D2_V2\" in your provisioning configuration.\r\n",
        "# max_nodes should be no greater than 4.\r\n",
        "\r\n",
        "try:\r\n",
        "    cpu_cluster = ComputeTarget(workspace=ws, name=\"capstone-compute\")\r\n",
        "    print('Found existing cluster, use it.')\r\n",
        "except:\r\n",
        "    compute_config = AmlCompute.provisioning_configuration(vm_size='STANDARD_D2_V2', max_nodes=4)\r\n",
        "    cpu_cluster = ComputeTarget.create(ws,\"project-cluster\", compute_config)\r\n",
        "\r\n",
        "cpu_cluster.wait_for_completion(show_output=True)"
      ],
      "outputs": [
        {
          "output_type": "stream",
          "name": "stdout",
          "text": [
            "Found existing cluster, use it.\n",
            "\n",
            "Running\n"
          ]
        }
      ],
      "execution_count": 3,
      "metadata": {
        "collapsed": true,
        "jupyter": {
          "source_hidden": false,
          "outputs_hidden": false
        },
        "nteract": {
          "transient": {
            "deleting": false
          }
        },
        "gather": {
          "logged": 1611994248255
        }
      }
    },
    {
      "cell_type": "markdown",
      "source": [
        "## AutoML Configuration\n",
        "\n",
        "TODO: Explain why you chose the automl settings and cofiguration you used below."
      ],
      "metadata": {}
    },
    {
      "cell_type": "code",
      "source": [
        "ds = TabularDatasetFactory.from_delimited_files(path=\"https://archive.ics.uci.edu/ml/machine-learning-databases/car/car.data\",header=False)\r\n",
        "\r\n",
        "# ds.to_pandas_dataframe().head()"
      ],
      "outputs": [],
      "execution_count": 30,
      "metadata": {
        "collapsed": true,
        "jupyter": {
          "source_hidden": false,
          "outputs_hidden": false
        },
        "nteract": {
          "transient": {
            "deleting": false
          }
        },
        "gather": {
          "logged": 1611997358001
        }
      }
    },
    {
      "cell_type": "code",
      "source": [
        "# TODO: Put your automl settings here\n",
        "automl_settings = {\n",
        "    \"experiment_timeout_minutes\": 30,\n",
        "    \"primary_metric\": 'accuracy',\n",
        "    \"enable_dnn\": True,\n",
        "    \"enable_early_stopping\": True,\n",
        "    \"verbosity\": logging.INFO,\n",
        "    \"enable_voting_ensemble\"=False,\n",
        "    \"enable_stack_ensemble\"=False\n",
        "}\n",
        "\n",
        "# TODO: Put your automl config here\n",
        "automl_config = AutoMLConfig(\n",
        "    task=\"classification\",\n",
        "    compute_target=cpu_cluster,\n",
        "    training_data=ds,\n",
        "    label_column_name=\"Column7\",\n",
        "    **automl_settings\n",
        ")"
      ],
      "outputs": [],
      "execution_count": 9,
      "metadata": {
        "gather": {
          "logged": 1611994414847
        },
        "jupyter": {
          "outputs_hidden": false,
          "source_hidden": false
        },
        "nteract": {
          "transient": {
            "deleting": false
          }
        }
      }
    },
    {
      "cell_type": "code",
      "source": [
        "# TODO: Submit your experiment\n",
        "remote_run = experiment.submit(automl_config)"
      ],
      "outputs": [
        {
          "output_type": "stream",
          "name": "stdout",
          "text": [
            "Running on remote.\n",
            "No run_configuration provided, running on capstone-compute with default configuration\n",
            "Running on remote compute: capstone-compute\n",
            "Parent Run ID: AutoML_b125eb9f-3c1b-46da-8202-6a466679d398\n",
            "\n",
            "Current status: FeaturesGeneration. Generating features for the dataset.\n",
            "Current status: DatasetBalancing. Performing class balancing sweeping\n",
            "Current status: DatasetCrossValidationSplit. Generating individually featurized CV splits.\n",
            "Current status: ModelSelection. Beginning model selection.\n",
            "\n",
            "****************************************************************************************************\n",
            "DATA GUARDRAILS: \n",
            "\n",
            "TYPE:         Cross validation\n",
            "STATUS:       DONE\n",
            "DESCRIPTION:  Each iteration of the trained model was validated through cross-validation.\n",
            "              \n",
            "DETAILS:      \n",
            "+---------------------------------+\n",
            "|Number of folds                  |\n",
            "+=================================+\n",
            "|3                                |\n",
            "+---------------------------------+\n",
            "\n",
            "****************************************************************************************************\n",
            "\n",
            "TYPE:         Class balancing detection\n",
            "STATUS:       ALERTED\n",
            "DESCRIPTION:  To decrease model bias, please cancel the current run and fix balancing problem.\n",
            "              Learn more about imbalanced data: https://aka.ms/AutomatedMLImbalancedData\n",
            "DETAILS:      Imbalanced data can lead to a falsely perceived positive effect of a model's accuracy because the input data has bias towards one class.\n",
            "+---------------------------------+---------------------------------+--------------------------------------+\n",
            "|Size of the smallest class       |Name/Label of the smallest class |Number of samples in the training data|\n",
            "+=================================+=================================+======================================+\n",
            "|65                               |vgood                            |1728                                  |\n",
            "+---------------------------------+---------------------------------+--------------------------------------+\n",
            "\n",
            "****************************************************************************************************\n",
            "\n",
            "TYPE:         Missing feature values imputation\n",
            "STATUS:       PASSED\n",
            "DESCRIPTION:  No feature missing values were detected in the training data.\n",
            "              Learn more about missing value imputation: https://aka.ms/AutomatedMLFeaturization\n",
            "\n",
            "****************************************************************************************************\n",
            "\n",
            "TYPE:         High cardinality feature detection\n",
            "STATUS:       PASSED\n",
            "DESCRIPTION:  Your inputs were analyzed, and no high cardinality features were detected.\n",
            "              Learn more about high cardinality feature handling: https://aka.ms/AutomatedMLFeaturization\n",
            "\n",
            "****************************************************************************************************\n",
            "\n",
            "****************************************************************************************************\n",
            "ITERATION: The iteration being evaluated.\n",
            "PIPELINE: A summary description of the pipeline being evaluated.\n",
            "DURATION: Time taken for the current iteration.\n",
            "METRIC: The result of computing score on the fitted pipeline.\n",
            "BEST: The best observed score thus far.\n",
            "****************************************************************************************************\n",
            "\n",
            " ITERATION   PIPELINE                                       DURATION      METRIC      BEST\n",
            "         0   MaxAbsScaler LightGBM                          0:00:52       0.9902    0.9902\n",
            "         1   MaxAbsScaler XGBoostClassifier                 0:00:56       0.9433    0.9902\n",
            "         2   MaxAbsScaler RandomForest                      0:00:51       0.8119    0.9902\n",
            "         3   MaxAbsScaler RandomForest                      0:00:53       0.7998    0.9902\n",
            "         4   MaxAbsScaler RandomForest                      0:00:49       0.8652    0.9902\n",
            "         5   MaxAbsScaler RandomForest                      0:00:51       0.6800    0.9902\n",
            "         6   SparseNormalizer XGBoostClassifier             0:00:50       0.9653    0.9902\n",
            "         7   StandardScalerWrapper RandomForest             0:01:02       0.8235    0.9902\n",
            "         8   MaxAbsScaler ExtremeRandomTrees                0:00:58       0.8148    0.9902\n",
            "         9   SparseNormalizer XGBoostClassifier             0:00:56       0.9363    0.9902\n",
            "        10   StandardScalerWrapper LogisticRegression       0:00:49       0.8895    0.9902\n",
            "        11   SparseNormalizer XGBoostClassifier             0:00:55       0.9624    0.9902\n",
            "        12   SparseNormalizer XGBoostClassifier             0:00:52       0.9606    0.9902\n",
            "        13   MaxAbsScaler LightGBM                          0:00:56       0.8796    0.9902\n",
            "        14   SparseNormalizer XGBoostClassifier             0:00:54       0.9716    0.9902\n",
            "        15   SparseNormalizer XGBoostClassifier             0:00:50       0.8079    0.9902\n",
            "        16   SparseNormalizer XGBoostClassifier             0:00:58       0.9792    0.9902\n",
            "        17   SparseNormalizer XGBoostClassifier             0:00:57       0.9491    0.9902\n",
            "        18    VotingEnsemble                                0:01:11       0.9902    0.9902\n",
            "        19    StackEnsemble                                 0:01:16       0.9890    0.9902\n"
          ]
        }
      ],
      "execution_count": 10,
      "metadata": {
        "gather": {
          "logged": 1611996213072
        },
        "jupyter": {
          "outputs_hidden": false,
          "source_hidden": false
        },
        "nteract": {
          "transient": {
            "deleting": false
          }
        }
      }
    },
    {
      "cell_type": "markdown",
      "source": [
        "## Run Details\n",
        "\n",
        "OPTIONAL: Write about the different models trained and their performance. Why do you think some models did better than others?\n",
        "\n",
        "TODO: In the cell below, use the `RunDetails` widget to show the different experiments."
      ],
      "metadata": {}
    },
    {
      "cell_type": "code",
      "source": [
        "from azureml.widgets import RunDetails\r\n",
        "RunDetails(remote_run).show()"
      ],
      "outputs": [
        {
          "output_type": "display_data",
          "data": {
            "text/plain": "_AutoMLWidget(widget_settings={'childWidgetDisplay': 'popup', 'send_telemetry': False, 'log_level': 'INFO', 's…",
            "application/vnd.jupyter.widget-view+json": {
              "version_major": 2,
              "version_minor": 0,
              "model_id": "aed225f5a6fb40d3a04b85f8ef61a634"
            }
          },
          "metadata": {}
        },
        {
          "output_type": "display_data",
          "data": {
            "application/aml.mini.widget.v1": "{\"status\": \"Completed\", \"workbench_run_details_uri\": \"https://ml.azure.com/experiments/Car_Evaluation_AutoML/runs/AutoML_b125eb9f-3c1b-46da-8202-6a466679d398?wsid=/subscriptions/61c5c3f0-6dc7-4ed9-a7f3-c704b20e3b30/resourcegroups/aml-quickstarts-136554/workspaces/quick-starts-ws-136554\", \"run_id\": \"AutoML_b125eb9f-3c1b-46da-8202-6a466679d398\", \"run_properties\": {\"run_id\": \"AutoML_b125eb9f-3c1b-46da-8202-6a466679d398\", \"created_utc\": \"2021-01-30T08:13:38.921125Z\", \"properties\": {\"num_iterations\": \"1000\", \"training_type\": \"TrainFull\", \"acquisition_function\": \"EI\", \"primary_metric\": \"accuracy\", \"train_split\": \"0\", \"acquisition_parameter\": \"0\", \"num_cross_validation\": null, \"target\": \"capstone-compute\", \"AMLSettingsJsonString\": \"{\\\"path\\\":null,\\\"name\\\":\\\"Car_Evaluation_AutoML\\\",\\\"subscription_id\\\":\\\"61c5c3f0-6dc7-4ed9-a7f3-c704b20e3b30\\\",\\\"resource_group\\\":\\\"aml-quickstarts-136554\\\",\\\"workspace_name\\\":\\\"quick-starts-ws-136554\\\",\\\"region\\\":\\\"southcentralus\\\",\\\"compute_target\\\":\\\"capstone-compute\\\",\\\"spark_service\\\":null,\\\"azure_service\\\":\\\"remote\\\",\\\"many_models\\\":false,\\\"pipeline_fetch_max_batch_size\\\":1,\\\"iterations\\\":1000,\\\"primary_metric\\\":\\\"accuracy\\\",\\\"task_type\\\":\\\"classification\\\",\\\"data_script\\\":null,\\\"validation_size\\\":0.0,\\\"n_cross_validations\\\":null,\\\"y_min\\\":null,\\\"y_max\\\":null,\\\"num_classes\\\":null,\\\"featurization\\\":\\\"auto\\\",\\\"_ignore_package_version_incompatibilities\\\":false,\\\"is_timeseries\\\":false,\\\"max_cores_per_iteration\\\":1,\\\"max_concurrent_iterations\\\":1,\\\"iteration_timeout_minutes\\\":null,\\\"mem_in_mb\\\":null,\\\"enforce_time_on_windows\\\":false,\\\"experiment_timeout_minutes\\\":20,\\\"experiment_exit_score\\\":null,\\\"whitelist_models\\\":null,\\\"blacklist_algos\\\":[\\\"TensorFlowLinearClassifier\\\",\\\"TensorFlowDNN\\\"],\\\"supported_models\\\":[\\\"RandomForest\\\",\\\"MultinomialNaiveBayes\\\",\\\"TensorFlowDNN\\\",\\\"TensorFlowLinearClassifier\\\",\\\"ExtremeRandomTrees\\\",\\\"DecisionTree\\\",\\\"SVM\\\",\\\"BernoulliNaiveBayes\\\",\\\"LightGBM\\\",\\\"XGBoostClassifier\\\",\\\"AveragedPerceptronClassifier\\\",\\\"SGD\\\",\\\"LogisticRegression\\\",\\\"GradientBoosting\\\",\\\"KNN\\\",\\\"LinearSVM\\\"],\\\"auto_blacklist\\\":true,\\\"blacklist_samples_reached\\\":false,\\\"exclude_nan_labels\\\":true,\\\"verbosity\\\":20,\\\"_debug_log\\\":\\\"azureml_automl.log\\\",\\\"show_warnings\\\":false,\\\"model_explainability\\\":true,\\\"service_url\\\":null,\\\"sdk_url\\\":null,\\\"sdk_packages\\\":null,\\\"enable_onnx_compatible_models\\\":false,\\\"enable_split_onnx_featurizer_estimator_models\\\":false,\\\"vm_type\\\":\\\"STANDARD_DS3_V2\\\",\\\"telemetry_verbosity\\\":20,\\\"send_telemetry\\\":true,\\\"enable_dnn\\\":true,\\\"scenario\\\":\\\"SDK-1.13.0\\\",\\\"environment_label\\\":null,\\\"force_text_dnn\\\":false,\\\"enable_feature_sweeping\\\":true,\\\"enable_early_stopping\\\":true,\\\"early_stopping_n_iters\\\":10,\\\"metrics\\\":null,\\\"enable_ensembling\\\":true,\\\"enable_stack_ensembling\\\":true,\\\"ensemble_iterations\\\":15,\\\"enable_tf\\\":false,\\\"enable_subsampling\\\":null,\\\"subsample_seed\\\":null,\\\"enable_nimbusml\\\":false,\\\"enable_streaming\\\":false,\\\"force_streaming\\\":false,\\\"track_child_runs\\\":true,\\\"allowed_private_models\\\":[],\\\"label_column_name\\\":\\\"Column7\\\",\\\"weight_column_name\\\":null,\\\"cv_split_column_names\\\":null,\\\"enable_local_managed\\\":false,\\\"_local_managed_run_id\\\":null,\\\"cost_mode\\\":1,\\\"lag_length\\\":0,\\\"metric_operation\\\":\\\"maximize\\\",\\\"preprocess\\\":true}\", \"DataPrepJsonString\": \"{\\\\\\\"training_data\\\\\\\": \\\\\\\"{\\\\\\\\\\\\\\\"blocks\\\\\\\\\\\\\\\": [{\\\\\\\\\\\\\\\"id\\\\\\\\\\\\\\\": \\\\\\\\\\\\\\\"75dabc88-eb77-4b42-9764-1d6a5354b7f0\\\\\\\\\\\\\\\", \\\\\\\\\\\\\\\"type\\\\\\\\\\\\\\\": \\\\\\\\\\\\\\\"Microsoft.DPrep.GetFilesBlock\\\\\\\\\\\\\\\", \\\\\\\\\\\\\\\"arguments\\\\\\\\\\\\\\\": {\\\\\\\\\\\\\\\"isArchive\\\\\\\\\\\\\\\": false, \\\\\\\\\\\\\\\"path\\\\\\\\\\\\\\\": {\\\\\\\\\\\\\\\"target\\\\\\\\\\\\\\\": 4, \\\\\\\\\\\\\\\"resourceDetails\\\\\\\\\\\\\\\": [{\\\\\\\\\\\\\\\"path\\\\\\\\\\\\\\\": \\\\\\\\\\\\\\\"https://archive.ics.uci.edu/ml/machine-learning-databases/car/car.data\\\\\\\\\\\\\\\"}]}}, \\\\\\\\\\\\\\\"localData\\\\\\\\\\\\\\\": {}, \\\\\\\\\\\\\\\"isEnabled\\\\\\\\\\\\\\\": true, \\\\\\\\\\\\\\\"name\\\\\\\\\\\\\\\": null, \\\\\\\\\\\\\\\"annotation\\\\\\\\\\\\\\\": null}, {\\\\\\\\\\\\\\\"id\\\\\\\\\\\\\\\": \\\\\\\\\\\\\\\"006ce409-f42b-4686-93cf-7fdc7ec4a591\\\\\\\\\\\\\\\", \\\\\\\\\\\\\\\"type\\\\\\\\\\\\\\\": \\\\\\\\\\\\\\\"Microsoft.DPrep.ParseDelimitedBlock\\\\\\\\\\\\\\\", \\\\\\\\\\\\\\\"arguments\\\\\\\\\\\\\\\": {\\\\\\\\\\\\\\\"columnHeadersMode\\\\\\\\\\\\\\\": 0, \\\\\\\\\\\\\\\"fileEncoding\\\\\\\\\\\\\\\": 0, \\\\\\\\\\\\\\\"handleQuotedLineBreaks\\\\\\\\\\\\\\\": false, \\\\\\\\\\\\\\\"preview\\\\\\\\\\\\\\\": false, \\\\\\\\\\\\\\\"separator\\\\\\\\\\\\\\\": \\\\\\\\\\\\\\\",\\\\\\\\\\\\\\\", \\\\\\\\\\\\\\\"skipRows\\\\\\\\\\\\\\\": 0, \\\\\\\\\\\\\\\"skipRowsMode\\\\\\\\\\\\\\\": 0}, \\\\\\\\\\\\\\\"localData\\\\\\\\\\\\\\\": {}, \\\\\\\\\\\\\\\"isEnabled\\\\\\\\\\\\\\\": true, \\\\\\\\\\\\\\\"name\\\\\\\\\\\\\\\": null, \\\\\\\\\\\\\\\"annotation\\\\\\\\\\\\\\\": null}, {\\\\\\\\\\\\\\\"id\\\\\\\\\\\\\\\": \\\\\\\\\\\\\\\"814e76e0-33f3-4fb7-a32c-f2a35addc2c8\\\\\\\\\\\\\\\", \\\\\\\\\\\\\\\"type\\\\\\\\\\\\\\\": \\\\\\\\\\\\\\\"Microsoft.DPrep.DropColumnsBlock\\\\\\\\\\\\\\\", \\\\\\\\\\\\\\\"arguments\\\\\\\\\\\\\\\": {\\\\\\\\\\\\\\\"columns\\\\\\\\\\\\\\\": {\\\\\\\\\\\\\\\"type\\\\\\\\\\\\\\\": 0, \\\\\\\\\\\\\\\"details\\\\\\\\\\\\\\\": {\\\\\\\\\\\\\\\"selectedColumns\\\\\\\\\\\\\\\": [\\\\\\\\\\\\\\\"Path\\\\\\\\\\\\\\\"]}}}, \\\\\\\\\\\\\\\"localData\\\\\\\\\\\\\\\": {}, \\\\\\\\\\\\\\\"isEnabled\\\\\\\\\\\\\\\": true, \\\\\\\\\\\\\\\"name\\\\\\\\\\\\\\\": null, \\\\\\\\\\\\\\\"annotation\\\\\\\\\\\\\\\": null}, {\\\\\\\\\\\\\\\"id\\\\\\\\\\\\\\\": \\\\\\\\\\\\\\\"0fa26a75-5087-49f4-83b7-84d56b1fef5c\\\\\\\\\\\\\\\", \\\\\\\\\\\\\\\"type\\\\\\\\\\\\\\\": \\\\\\\\\\\\\\\"Microsoft.DPrep.SetColumnTypesBlock\\\\\\\\\\\\\\\", \\\\\\\\\\\\\\\"arguments\\\\\\\\\\\\\\\": {\\\\\\\\\\\\\\\"columnConversion\\\\\\\\\\\\\\\": [{\\\\\\\\\\\\\\\"column\\\\\\\\\\\\\\\": {\\\\\\\\\\\\\\\"type\\\\\\\\\\\\\\\": 2, \\\\\\\\\\\\\\\"details\\\\\\\\\\\\\\\": {\\\\\\\\\\\\\\\"selectedColumn\\\\\\\\\\\\\\\": \\\\\\\\\\\\\\\"Column1\\\\\\\\\\\\\\\"}}, \\\\\\\\\\\\\\\"typeProperty\\\\\\\\\\\\\\\": 0}, {\\\\\\\\\\\\\\\"column\\\\\\\\\\\\\\\": {\\\\\\\\\\\\\\\"type\\\\\\\\\\\\\\\": 2, \\\\\\\\\\\\\\\"details\\\\\\\\\\\\\\\": {\\\\\\\\\\\\\\\"selectedColumn\\\\\\\\\\\\\\\": \\\\\\\\\\\\\\\"Column2\\\\\\\\\\\\\\\"}}, \\\\\\\\\\\\\\\"typeProperty\\\\\\\\\\\\\\\": 0}, {\\\\\\\\\\\\\\\"column\\\\\\\\\\\\\\\": {\\\\\\\\\\\\\\\"type\\\\\\\\\\\\\\\": 2, \\\\\\\\\\\\\\\"details\\\\\\\\\\\\\\\": {\\\\\\\\\\\\\\\"selectedColumn\\\\\\\\\\\\\\\": \\\\\\\\\\\\\\\"Column3\\\\\\\\\\\\\\\"}}, \\\\\\\\\\\\\\\"typeProperty\\\\\\\\\\\\\\\": 0}, {\\\\\\\\\\\\\\\"column\\\\\\\\\\\\\\\": {\\\\\\\\\\\\\\\"type\\\\\\\\\\\\\\\": 2, \\\\\\\\\\\\\\\"details\\\\\\\\\\\\\\\": {\\\\\\\\\\\\\\\"selectedColumn\\\\\\\\\\\\\\\": \\\\\\\\\\\\\\\"Column4\\\\\\\\\\\\\\\"}}, \\\\\\\\\\\\\\\"typeProperty\\\\\\\\\\\\\\\": 0}, {\\\\\\\\\\\\\\\"column\\\\\\\\\\\\\\\": {\\\\\\\\\\\\\\\"type\\\\\\\\\\\\\\\": 2, \\\\\\\\\\\\\\\"details\\\\\\\\\\\\\\\": {\\\\\\\\\\\\\\\"selectedColumn\\\\\\\\\\\\\\\": \\\\\\\\\\\\\\\"Column5\\\\\\\\\\\\\\\"}}, \\\\\\\\\\\\\\\"typeProperty\\\\\\\\\\\\\\\": 0}, {\\\\\\\\\\\\\\\"column\\\\\\\\\\\\\\\": {\\\\\\\\\\\\\\\"type\\\\\\\\\\\\\\\": 2, \\\\\\\\\\\\\\\"details\\\\\\\\\\\\\\\": {\\\\\\\\\\\\\\\"selectedColumn\\\\\\\\\\\\\\\": \\\\\\\\\\\\\\\"Column6\\\\\\\\\\\\\\\"}}, \\\\\\\\\\\\\\\"typeProperty\\\\\\\\\\\\\\\": 0}, {\\\\\\\\\\\\\\\"column\\\\\\\\\\\\\\\": {\\\\\\\\\\\\\\\"type\\\\\\\\\\\\\\\": 2, \\\\\\\\\\\\\\\"details\\\\\\\\\\\\\\\": {\\\\\\\\\\\\\\\"selectedColumn\\\\\\\\\\\\\\\": \\\\\\\\\\\\\\\"Column7\\\\\\\\\\\\\\\"}}, \\\\\\\\\\\\\\\"typeProperty\\\\\\\\\\\\\\\": 0}]}, \\\\\\\\\\\\\\\"localData\\\\\\\\\\\\\\\": {}, \\\\\\\\\\\\\\\"isEnabled\\\\\\\\\\\\\\\": true, \\\\\\\\\\\\\\\"name\\\\\\\\\\\\\\\": null, \\\\\\\\\\\\\\\"annotation\\\\\\\\\\\\\\\": null}], \\\\\\\\\\\\\\\"inspectors\\\\\\\\\\\\\\\": [], \\\\\\\\\\\\\\\"meta\\\\\\\\\\\\\\\": {\\\\\\\\\\\\\\\"savedDatasetId\\\\\\\\\\\\\\\": \\\\\\\\\\\\\\\"a999516d-877d-4678-9dc8-70e5937e7f92\\\\\\\\\\\\\\\", \\\\\\\\\\\\\\\"datasetType\\\\\\\\\\\\\\\": \\\\\\\\\\\\\\\"tabular\\\\\\\\\\\\\\\", \\\\\\\\\\\\\\\"subscriptionId\\\\\\\\\\\\\\\": \\\\\\\\\\\\\\\"61c5c3f0-6dc7-4ed9-a7f3-c704b20e3b30\\\\\\\\\\\\\\\", \\\\\\\\\\\\\\\"workspaceId\\\\\\\\\\\\\\\": \\\\\\\\\\\\\\\"693ac4a3-7548-45f9-995b-91e210058c57\\\\\\\\\\\\\\\", \\\\\\\\\\\\\\\"workspaceLocation\\\\\\\\\\\\\\\": \\\\\\\\\\\\\\\"southcentralus\\\\\\\\\\\\\\\"}}\\\\\\\", \\\\\\\"activities\\\\\\\": 0}\", \"EnableSubsampling\": null, \"runTemplate\": \"AutoML\", \"azureml.runsource\": \"automl\", \"display_task_type\": \"classification\", \"dependencies_versions\": \"{\\\"azureml-widgets\\\": \\\"1.20.0\\\", \\\"azureml-train\\\": \\\"1.20.0\\\", \\\"azureml-train-restclients-hyperdrive\\\": \\\"1.20.0\\\", \\\"azureml-train-core\\\": \\\"1.20.0\\\", \\\"azureml-train-automl\\\": \\\"1.20.0\\\", \\\"azureml-train-automl-runtime\\\": \\\"1.20.0\\\", \\\"azureml-train-automl-client\\\": \\\"1.20.0\\\", \\\"azureml-tensorboard\\\": \\\"1.20.0\\\", \\\"azureml-telemetry\\\": \\\"1.20.0\\\", \\\"azureml-sdk\\\": \\\"1.20.0\\\", \\\"azureml-samples\\\": \\\"0+unknown\\\", \\\"azureml-pipeline\\\": \\\"1.20.0\\\", \\\"azureml-pipeline-steps\\\": \\\"1.20.0\\\", \\\"azureml-pipeline-core\\\": \\\"1.20.0\\\", \\\"azureml-opendatasets\\\": \\\"1.20.0\\\", \\\"azureml-model-management-sdk\\\": \\\"1.0.1b6.post1\\\", \\\"azureml-mlflow\\\": \\\"1.20.0.post1\\\", \\\"azureml-interpret\\\": \\\"1.20.0\\\", \\\"azureml-explain-model\\\": \\\"1.20.0\\\", \\\"azureml-defaults\\\": \\\"1.20.0\\\", \\\"azureml-dataset-runtime\\\": \\\"1.20.0\\\", \\\"azureml-dataprep\\\": \\\"2.7.3\\\", \\\"azureml-dataprep-rslex\\\": \\\"1.5.0\\\", \\\"azureml-dataprep-native\\\": \\\"27.0.0\\\", \\\"azureml-datadrift\\\": \\\"1.20.0\\\", \\\"azureml-core\\\": \\\"1.20.0\\\", \\\"azureml-contrib-services\\\": \\\"1.20.0\\\", \\\"azureml-contrib-server\\\": \\\"1.20.0\\\", \\\"azureml-contrib-reinforcementlearning\\\": \\\"1.20.0\\\", \\\"azureml-contrib-pipeline-steps\\\": \\\"1.20.0\\\", \\\"azureml-contrib-notebook\\\": \\\"1.20.0\\\", \\\"azureml-contrib-interpret\\\": \\\"1.20.0\\\", \\\"azureml-contrib-gbdt\\\": \\\"1.20.0\\\", \\\"azureml-contrib-fairness\\\": \\\"1.20.0\\\", \\\"azureml-contrib-dataset\\\": \\\"1.20.0\\\", \\\"azureml-cli-common\\\": \\\"1.20.0\\\", \\\"azureml-automl-runtime\\\": \\\"1.20.0\\\", \\\"azureml-automl-core\\\": \\\"1.20.0\\\", \\\"azureml-accel-models\\\": \\\"1.20.0\\\"}\", \"_aml_system_scenario_identification\": \"Remote.Parent\", \"ClientType\": \"SDK\", \"environment_cpu_name\": \"AzureML-AutoML-DNN\", \"environment_cpu_label\": \"prod\", \"environment_gpu_name\": \"AzureML-AutoML-DNN-GPU\", \"environment_gpu_label\": \"prod\", \"root_attribution\": \"automl\", \"attribution\": \"AutoML\", \"Orchestrator\": \"AutoML\", \"CancelUri\": \"https://southcentralus.experiments.azureml.net/jasmine/v1.0/subscriptions/61c5c3f0-6dc7-4ed9-a7f3-c704b20e3b30/resourceGroups/aml-quickstarts-136554/providers/Microsoft.MachineLearningServices/workspaces/quick-starts-ws-136554/experimentids/383ba7bb-8524-4376-9665-8a90f28c2a4f/cancel/AutoML_b125eb9f-3c1b-46da-8202-6a466679d398\", \"ClientSdkVersion\": \"1.20.0.post1\", \"snapshotId\": \"00000000-0000-0000-0000-000000000000\", \"SetupRunId\": \"AutoML_b125eb9f-3c1b-46da-8202-6a466679d398_setup\", \"SetupRunContainerId\": \"dcid.AutoML_b125eb9f-3c1b-46da-8202-6a466679d398_setup\", \"FeaturizationRunJsonPath\": \"featurizer_container.json\", \"FeaturizationRunId\": \"AutoML_b125eb9f-3c1b-46da-8202-6a466679d398_featurize\", \"ProblemInfoJsonString\": \"{\\\"dataset_num_categorical\\\": 0, \\\"is_sparse\\\": true, \\\"subsampling\\\": false, \\\"dataset_classes\\\": 4, \\\"dataset_features\\\": 21, \\\"dataset_samples\\\": 1728, \\\"single_frequency_class_detected\\\": false}\", \"ModelExplainRunId\": \"AutoML_b125eb9f-3c1b-46da-8202-6a466679d398_ModelExplain\"}, \"tags\": {\"model_explain_run\": \"best_run\", \"_aml_system_azureml.automlComponent\": \"AutoML\", \"pipeline_id\": \"\", \"score\": \"\", \"predicted_cost\": \"\", \"fit_time\": \"\", \"training_percent\": \"\", \"iteration\": \"\", \"run_preprocessor\": \"\", \"run_algorithm\": \"\", \"automl_best_child_run_id\": \"AutoML_b125eb9f-3c1b-46da-8202-6a466679d398_18\", \"model_explain_best_run_child_id\": \"AutoML_b125eb9f-3c1b-46da-8202-6a466679d398_18\"}, \"end_time_utc\": \"2021-01-30T08:43:26.364939Z\", \"status\": \"Completed\", \"log_files\": {}, \"log_groups\": [], \"run_duration\": \"0:29:47\"}, \"child_runs\": [{\"run_id\": \"AutoML_b125eb9f-3c1b-46da-8202-6a466679d398_0\", \"run_number\": 16, \"metric\": null, \"status\": \"Completed\", \"run_type\": \"azureml.scriptrun\", \"training_percent\": \"100\", \"start_time\": \"2021-01-30T08:19:31.805992Z\", \"end_time\": \"2021-01-30T08:20:23.739139Z\", \"created_time\": \"2021-01-30T08:19:17.699152Z\", \"created_time_dt\": \"2021-01-30T08:19:17.699152Z\", \"duration\": \"0:01:06\", \"iteration\": \"0\", \"goal\": \"accuracy_max\", \"run_name\": \"MaxAbsScaler, LightGBM\", \"run_properties\": \"copy=True\", \"primary_metric\": 0.99016204, \"best_metric\": 0.99016204}, {\"run_id\": \"AutoML_b125eb9f-3c1b-46da-8202-6a466679d398_1\", \"run_number\": 17, \"metric\": null, \"status\": \"Completed\", \"run_type\": \"azureml.scriptrun\", \"training_percent\": \"100\", \"start_time\": \"2021-01-30T08:20:41.492188Z\", \"end_time\": \"2021-01-30T08:21:37.619696Z\", \"created_time\": \"2021-01-30T08:20:25.431917Z\", \"created_time_dt\": \"2021-01-30T08:20:25.431917Z\", \"duration\": \"0:01:12\", \"iteration\": \"1\", \"goal\": \"accuracy_max\", \"run_name\": \"MaxAbsScaler, XGBoostClassifier\", \"run_properties\": \"copy=True\", \"primary_metric\": 0.94328704, \"best_metric\": 0.99016204}, {\"run_id\": \"AutoML_b125eb9f-3c1b-46da-8202-6a466679d398_2\", \"run_number\": 18, \"metric\": null, \"status\": \"Completed\", \"run_type\": \"azureml.scriptrun\", \"training_percent\": \"100\", \"start_time\": \"2021-01-30T08:21:58.538684Z\", \"end_time\": \"2021-01-30T08:22:49.468235Z\", \"created_time\": \"2021-01-30T08:21:39.75798Z\", \"created_time_dt\": \"2021-01-30T08:21:39.75798Z\", \"duration\": \"0:01:09\", \"iteration\": \"2\", \"goal\": \"accuracy_max\", \"run_name\": \"MaxAbsScaler, RandomForest\", \"run_properties\": \"copy=True\", \"primary_metric\": 0.8119213, \"best_metric\": 0.99016204}, {\"run_id\": \"AutoML_b125eb9f-3c1b-46da-8202-6a466679d398_3\", \"run_number\": 19, \"metric\": null, \"status\": \"Completed\", \"run_type\": \"azureml.scriptrun\", \"training_percent\": \"100\", \"start_time\": \"2021-01-30T08:23:06.721804Z\", \"end_time\": \"2021-01-30T08:23:59.485223Z\", \"created_time\": \"2021-01-30T08:22:52.511933Z\", \"created_time_dt\": \"2021-01-30T08:22:52.511933Z\", \"duration\": \"0:01:06\", \"iteration\": \"3\", \"goal\": \"accuracy_max\", \"run_name\": \"MaxAbsScaler, RandomForest\", \"run_properties\": \"copy=True\", \"primary_metric\": 0.79976852, \"best_metric\": 0.99016204}, {\"run_id\": \"AutoML_b125eb9f-3c1b-46da-8202-6a466679d398_4\", \"run_number\": 20, \"metric\": null, \"status\": \"Completed\", \"run_type\": \"azureml.scriptrun\", \"training_percent\": \"100\", \"start_time\": \"2021-01-30T08:24:17.244423Z\", \"end_time\": \"2021-01-30T08:25:06.459277Z\", \"created_time\": \"2021-01-30T08:24:02.550559Z\", \"created_time_dt\": \"2021-01-30T08:24:02.550559Z\", \"duration\": \"0:01:03\", \"iteration\": \"4\", \"goal\": \"accuracy_max\", \"run_name\": \"MaxAbsScaler, RandomForest\", \"run_properties\": \"copy=True\", \"primary_metric\": 0.86516204, \"best_metric\": 0.99016204}, {\"run_id\": \"AutoML_b125eb9f-3c1b-46da-8202-6a466679d398_5\", \"run_number\": 21, \"metric\": null, \"status\": \"Completed\", \"run_type\": \"azureml.scriptrun\", \"training_percent\": \"100\", \"start_time\": \"2021-01-30T08:25:21.619781Z\", \"end_time\": \"2021-01-30T08:26:12.775869Z\", \"created_time\": \"2021-01-30T08:25:09.336801Z\", \"created_time_dt\": \"2021-01-30T08:25:09.336801Z\", \"duration\": \"0:01:03\", \"iteration\": \"5\", \"goal\": \"accuracy_max\", \"run_name\": \"MaxAbsScaler, RandomForest\", \"run_properties\": \"copy=True\", \"primary_metric\": 0.67997685, \"best_metric\": 0.99016204}, {\"run_id\": \"AutoML_b125eb9f-3c1b-46da-8202-6a466679d398_6\", \"run_number\": 22, \"metric\": null, \"status\": \"Completed\", \"run_type\": \"azureml.scriptrun\", \"training_percent\": \"100\", \"start_time\": \"2021-01-30T08:26:30.923903Z\", \"end_time\": \"2021-01-30T08:27:21.217641Z\", \"created_time\": \"2021-01-30T08:26:15.326899Z\", \"created_time_dt\": \"2021-01-30T08:26:15.326899Z\", \"duration\": \"0:01:05\", \"iteration\": \"6\", \"goal\": \"accuracy_max\", \"run_name\": \"SparseNormalizer, XGBoostClassifier\", \"run_properties\": \"<azureml.automl.runtime.shared.model_wrappers.SparseNormalizer object at 0x7f89f1147a90\", \"primary_metric\": 0.96527778, \"best_metric\": 0.99016204}, {\"run_id\": \"AutoML_b125eb9f-3c1b-46da-8202-6a466679d398_7\", \"run_number\": 23, \"metric\": null, \"status\": \"Completed\", \"run_type\": \"azureml.scriptrun\", \"training_percent\": \"100\", \"start_time\": \"2021-01-30T08:27:39.657493Z\", \"end_time\": \"2021-01-30T08:28:41.749172Z\", \"created_time\": \"2021-01-30T08:27:24.038152Z\", \"created_time_dt\": \"2021-01-30T08:27:24.038152Z\", \"duration\": \"0:01:17\", \"iteration\": \"7\", \"goal\": \"accuracy_max\", \"run_name\": \"StandardScalerWrapper, RandomForest\", \"run_properties\": \"<azureml.automl.runtime.shared.model_wrappers.StandardScalerWrapper object at 0x7f9a9c6888d0\", \"primary_metric\": 0.82349537, \"best_metric\": 0.99016204}, {\"run_id\": \"AutoML_b125eb9f-3c1b-46da-8202-6a466679d398_8\", \"run_number\": 24, \"metric\": null, \"status\": \"Completed\", \"run_type\": \"azureml.scriptrun\", \"training_percent\": \"100\", \"start_time\": \"2021-01-30T08:28:56.505107Z\", \"end_time\": \"2021-01-30T08:29:54.987144Z\", \"created_time\": \"2021-01-30T08:28:43.993508Z\", \"created_time_dt\": \"2021-01-30T08:28:43.993508Z\", \"duration\": \"0:01:10\", \"iteration\": \"8\", \"goal\": \"accuracy_max\", \"run_name\": \"MaxAbsScaler, ExtremeRandomTrees\", \"run_properties\": \"copy=True\", \"primary_metric\": 0.81481481, \"best_metric\": 0.99016204}, {\"run_id\": \"AutoML_b125eb9f-3c1b-46da-8202-6a466679d398_9\", \"run_number\": 25, \"metric\": null, \"status\": \"Completed\", \"run_type\": \"azureml.scriptrun\", \"training_percent\": \"100\", \"start_time\": \"2021-01-30T08:30:14.123474Z\", \"end_time\": \"2021-01-30T08:31:09.861858Z\", \"created_time\": \"2021-01-30T08:29:56.858848Z\", \"created_time_dt\": \"2021-01-30T08:29:56.858848Z\", \"duration\": \"0:01:13\", \"iteration\": \"9\", \"goal\": \"accuracy_max\", \"run_name\": \"SparseNormalizer, XGBoostClassifier\", \"run_properties\": \"<azureml.automl.runtime.shared.model_wrappers.SparseNormalizer object at 0x7f7035f43c18\", \"primary_metric\": 0.93634259, \"best_metric\": 0.99016204}, {\"run_id\": \"AutoML_b125eb9f-3c1b-46da-8202-6a466679d398_10\", \"run_number\": 26, \"metric\": null, \"status\": \"Completed\", \"run_type\": \"azureml.scriptrun\", \"training_percent\": \"100\", \"start_time\": \"2021-01-30T08:31:25.27991Z\", \"end_time\": \"2021-01-30T08:32:13.814792Z\", \"created_time\": \"2021-01-30T08:31:12.777482Z\", \"created_time_dt\": \"2021-01-30T08:31:12.777482Z\", \"duration\": \"0:01:01\", \"iteration\": \"10\", \"goal\": \"accuracy_max\", \"run_name\": \"StandardScalerWrapper, LogisticRegression\", \"run_properties\": \"<azureml.automl.runtime.shared.model_wrappers.StandardScalerWrapper object at 0x7fcf08253ba8\", \"primary_metric\": 0.88946759, \"best_metric\": 0.99016204}, {\"run_id\": \"AutoML_b125eb9f-3c1b-46da-8202-6a466679d398_11\", \"run_number\": 27, \"metric\": null, \"status\": \"Completed\", \"run_type\": \"azureml.scriptrun\", \"training_percent\": \"100\", \"start_time\": \"2021-01-30T08:32:30.349005Z\", \"end_time\": \"2021-01-30T08:33:25.135041Z\", \"created_time\": \"2021-01-30T08:32:16.109079Z\", \"created_time_dt\": \"2021-01-30T08:32:16.109079Z\", \"duration\": \"0:01:09\", \"iteration\": \"11\", \"goal\": \"accuracy_max\", \"run_name\": \"SparseNormalizer, XGBoostClassifier\", \"run_properties\": \"<azureml.automl.runtime.shared.model_wrappers.SparseNormalizer object at 0x7f2112a52630\", \"primary_metric\": 0.96238426, \"best_metric\": 0.99016204}, {\"run_id\": \"AutoML_b125eb9f-3c1b-46da-8202-6a466679d398_12\", \"run_number\": 28, \"metric\": null, \"status\": \"Completed\", \"run_type\": \"azureml.scriptrun\", \"training_percent\": \"100\", \"start_time\": \"2021-01-30T08:33:40.179376Z\", \"end_time\": \"2021-01-30T08:34:31.709719Z\", \"created_time\": \"2021-01-30T08:33:26.706105Z\", \"created_time_dt\": \"2021-01-30T08:33:26.706105Z\", \"duration\": \"0:01:05\", \"iteration\": \"12\", \"goal\": \"accuracy_max\", \"run_name\": \"SparseNormalizer, XGBoostClassifier\", \"run_properties\": \"<azureml.automl.runtime.shared.model_wrappers.SparseNormalizer object at 0x7fc39aba0390\", \"primary_metric\": 0.96064815, \"best_metric\": 0.99016204}, {\"run_id\": \"AutoML_b125eb9f-3c1b-46da-8202-6a466679d398_13\", \"run_number\": 29, \"metric\": null, \"status\": \"Completed\", \"run_type\": \"azureml.scriptrun\", \"training_percent\": \"100\", \"start_time\": \"2021-01-30T08:34:48.70553Z\", \"end_time\": \"2021-01-30T08:35:44.76819Z\", \"created_time\": \"2021-01-30T08:34:33.415499Z\", \"created_time_dt\": \"2021-01-30T08:34:33.415499Z\", \"duration\": \"0:01:11\", \"iteration\": \"13\", \"goal\": \"accuracy_max\", \"run_name\": \"MaxAbsScaler, LightGBM\", \"run_properties\": \"copy=True\", \"primary_metric\": 0.87962963, \"best_metric\": 0.99016204}, {\"run_id\": \"AutoML_b125eb9f-3c1b-46da-8202-6a466679d398_14\", \"run_number\": 30, \"metric\": null, \"status\": \"Completed\", \"run_type\": \"azureml.scriptrun\", \"training_percent\": \"100\", \"start_time\": \"2021-01-30T08:35:57.004443Z\", \"end_time\": \"2021-01-30T08:36:50.817602Z\", \"created_time\": \"2021-01-30T08:35:46.777796Z\", \"created_time_dt\": \"2021-01-30T08:35:46.777796Z\", \"duration\": \"0:01:04\", \"iteration\": \"14\", \"goal\": \"accuracy_max\", \"run_name\": \"SparseNormalizer, XGBoostClassifier\", \"run_properties\": \"<azureml.automl.runtime.shared.model_wrappers.SparseNormalizer object at 0x7f8b6940afd0\", \"primary_metric\": 0.97164352, \"best_metric\": 0.99016204}, {\"run_id\": \"AutoML_b125eb9f-3c1b-46da-8202-6a466679d398_15\", \"run_number\": 31, \"metric\": null, \"status\": \"Completed\", \"run_type\": \"azureml.scriptrun\", \"training_percent\": \"100\", \"start_time\": \"2021-01-30T08:37:04.863757Z\", \"end_time\": \"2021-01-30T08:37:55.079845Z\", \"created_time\": \"2021-01-30T08:36:54.587623Z\", \"created_time_dt\": \"2021-01-30T08:36:54.587623Z\", \"duration\": \"0:01:00\", \"iteration\": \"15\", \"goal\": \"accuracy_max\", \"run_name\": \"SparseNormalizer, XGBoostClassifier\", \"run_properties\": \"<azureml.automl.runtime.shared.model_wrappers.SparseNormalizer object at 0x7f3b32403780\", \"primary_metric\": 0.80787037, \"best_metric\": 0.99016204}, {\"run_id\": \"AutoML_b125eb9f-3c1b-46da-8202-6a466679d398_16\", \"run_number\": 32, \"metric\": null, \"status\": \"Completed\", \"run_type\": \"azureml.scriptrun\", \"training_percent\": \"100\", \"start_time\": \"2021-01-30T08:38:12.877647Z\", \"end_time\": \"2021-01-30T08:39:10.866709Z\", \"created_time\": \"2021-01-30T08:37:57.523734Z\", \"created_time_dt\": \"2021-01-30T08:37:57.523734Z\", \"duration\": \"0:01:13\", \"iteration\": \"16\", \"goal\": \"accuracy_max\", \"run_name\": \"SparseNormalizer, XGBoostClassifier\", \"run_properties\": \"<azureml.automl.runtime.shared.model_wrappers.SparseNormalizer object at 0x7f8e2c30ad68\", \"primary_metric\": 0.97916667, \"best_metric\": 0.99016204}, {\"run_id\": \"AutoML_b125eb9f-3c1b-46da-8202-6a466679d398_17\", \"run_number\": 33, \"metric\": null, \"status\": \"Completed\", \"run_type\": \"azureml.scriptrun\", \"training_percent\": \"100\", \"start_time\": \"2021-01-30T08:39:25.387106Z\", \"end_time\": \"2021-01-30T08:40:22.861699Z\", \"created_time\": \"2021-01-30T08:39:13.307319Z\", \"created_time_dt\": \"2021-01-30T08:39:13.307319Z\", \"duration\": \"0:01:09\", \"iteration\": \"17\", \"goal\": \"accuracy_max\", \"run_name\": \"SparseNormalizer, XGBoostClassifier\", \"run_properties\": \"<azureml.automl.runtime.shared.model_wrappers.SparseNormalizer object at 0x7f72c9f49208\", \"primary_metric\": 0.94907407, \"best_metric\": 0.99016204}, {\"run_id\": \"AutoML_b125eb9f-3c1b-46da-8202-6a466679d398_18\", \"run_number\": 34, \"metric\": null, \"status\": \"Completed\", \"run_type\": \"azureml.scriptrun\", \"training_percent\": \"100\", \"start_time\": \"2021-01-30T08:40:36.953553Z\", \"end_time\": \"2021-01-30T08:41:48.184539Z\", \"created_time\": \"2021-01-30T08:40:24.160367Z\", \"created_time_dt\": \"2021-01-30T08:40:24.160367Z\", \"duration\": \"0:01:24\", \"iteration\": \"18\", \"goal\": \"accuracy_max\", \"run_name\": \"VotingEnsemble\", \"run_properties\": \"classification_labels=None,\\n                              estimators=[('0',\\n                                           Pipeline(memory=None,\\n                                                    steps=[('maxabsscaler',\\n                                                            MaxAbsScaler(copy=True\", \"primary_metric\": 0.99016204, \"best_metric\": 0.99016204}, {\"run_id\": \"AutoML_b125eb9f-3c1b-46da-8202-6a466679d398_19\", \"run_number\": 35, \"metric\": null, \"status\": \"Completed\", \"run_type\": \"azureml.scriptrun\", \"training_percent\": \"100\", \"start_time\": \"2021-01-30T08:42:01.815674Z\", \"end_time\": \"2021-01-30T08:43:18.120556Z\", \"created_time\": \"2021-01-30T08:41:49.84793Z\", \"created_time_dt\": \"2021-01-30T08:41:49.84793Z\", \"duration\": \"0:01:28\", \"iteration\": \"19\", \"goal\": \"accuracy_max\", \"run_name\": \"StackEnsemble\", \"run_properties\": \"base_learners=[('0',\\n                                        Pipeline(memory=None,\\n                                                 steps=[('maxabsscaler',\\n                                                         MaxAbsScaler(copy=True\", \"primary_metric\": 0.98900463, \"best_metric\": 0.99016204}], \"children_metrics\": {\"categories\": [0], \"series\": {\"precision_score_macro\": [{\"categories\": [\"0\", \"1\", \"2\", \"3\", \"4\", \"5\", \"6\", \"7\", \"8\", \"9\", \"10\", \"11\", \"12\", \"13\", \"14\", \"15\", \"16\", \"17\", \"18\", \"19\"], \"mode\": \"markers\", \"name\": \"precision_score_macro\", \"stepped\": false, \"type\": \"scatter\", \"data\": [0.9784257927074446, 0.8596567790884659, 0.36621838987451955, 0.36151125688887537, 0.7108634491179422, 0.4584819607315323, 0.9011695253075559, 0.4482176862459992, 0.3751274930380076, 0.8732476510187385, 0.7426402292352821, 0.8878857953767317, 0.8833848953681683, 0.7623507503297384, 0.9155050677428339, 0.36484146143623947, 0.9293535071693343, 0.8675101849754396, 0.975046036452634, 0.9779267223967215]}, {\"categories\": [\"0\", \"1\", \"2\", \"3\", \"4\", \"5\", \"6\", \"7\", \"8\", \"9\", \"10\", \"11\", \"12\", \"13\", \"14\", \"15\", \"16\", \"17\", \"18\", \"19\"], \"mode\": \"lines\", \"name\": \"precision_score_macro_max\", \"stepped\": true, \"type\": \"scatter\", \"data\": [0.9784257927074446, 0.9784257927074446, 0.9784257927074446, 0.9784257927074446, 0.9784257927074446, 0.9784257927074446, 0.9784257927074446, 0.9784257927074446, 0.9784257927074446, 0.9784257927074446, 0.9784257927074446, 0.9784257927074446, 0.9784257927074446, 0.9784257927074446, 0.9784257927074446, 0.9784257927074446, 0.9784257927074446, 0.9784257927074446, 0.9784257927074446, 0.9784257927074446]}], \"matthews_correlation\": [{\"categories\": [\"0\", \"1\", \"2\", \"3\", \"4\", \"5\", \"6\", \"7\", \"8\", \"9\", \"10\", \"11\", \"12\", \"13\", \"14\", \"15\", \"16\", \"17\", \"18\", \"19\"], \"mode\": \"markers\", \"name\": \"matthews_correlation\", \"stepped\": false, \"type\": \"scatter\", \"data\": [0.9783440472028833, 0.8786080540973784, 0.545165514567593, 0.5269345661006393, 0.7440490980949154, 0.47037192595288096, 0.9262275293898954, 0.5813694587504535, 0.611422080958815, 0.862387497142688, 0.7588614372108893, 0.9188815092765533, 0.9162790517953875, 0.7408851548375552, 0.9390403161843915, 0.5574833378068483, 0.9551170429361431, 0.8914771218720072, 0.9786721711337601, 0.9761178648241428]}, {\"categories\": [\"0\", \"1\", \"2\", \"3\", \"4\", \"5\", \"6\", \"7\", \"8\", \"9\", \"10\", \"11\", \"12\", \"13\", \"14\", \"15\", \"16\", \"17\", \"18\", \"19\"], \"mode\": \"lines\", \"name\": \"matthews_correlation_max\", \"stepped\": true, \"type\": \"scatter\", \"data\": [0.9783440472028833, 0.9783440472028833, 0.9783440472028833, 0.9783440472028833, 0.9783440472028833, 0.9783440472028833, 0.9783440472028833, 0.9783440472028833, 0.9783440472028833, 0.9783440472028833, 0.9783440472028833, 0.9783440472028833, 0.9783440472028833, 0.9783440472028833, 0.9783440472028833, 0.9783440472028833, 0.9783440472028833, 0.9783440472028833, 0.9786721711337601, 0.9786721711337601]}], \"f1_score_weighted\": [{\"categories\": [\"0\", \"1\", \"2\", \"3\", \"4\", \"5\", \"6\", \"7\", \"8\", \"9\", \"10\", \"11\", \"12\", \"13\", \"14\", \"15\", \"16\", \"17\", \"18\", \"19\"], \"mode\": \"markers\", \"name\": \"f1_score_weighted\", \"stepped\": false, \"type\": \"scatter\", \"data\": [0.9901815761733244, 0.9440891097695366, 0.7705638950712054, 0.7679320181315404, 0.8744348763147772, 0.7189861197590476, 0.9655911503066522, 0.7918412993646174, 0.7931893200689893, 0.9334502403696284, 0.8839258112812513, 0.9626441683964378, 0.960287949212161, 0.8729497812421525, 0.9718203954756596, 0.7779265250306766, 0.9791921099313811, 0.9465429483240241, 0.9901861862865365, 0.9888450036420573]}, {\"categories\": [\"0\", \"1\", \"2\", \"3\", \"4\", \"5\", \"6\", \"7\", \"8\", \"9\", \"10\", \"11\", \"12\", \"13\", \"14\", \"15\", \"16\", \"17\", \"18\", \"19\"], \"mode\": \"lines\", \"name\": \"f1_score_weighted_max\", \"stepped\": true, \"type\": \"scatter\", \"data\": [0.9901815761733244, 0.9901815761733244, 0.9901815761733244, 0.9901815761733244, 0.9901815761733244, 0.9901815761733244, 0.9901815761733244, 0.9901815761733244, 0.9901815761733244, 0.9901815761733244, 0.9901815761733244, 0.9901815761733244, 0.9901815761733244, 0.9901815761733244, 0.9901815761733244, 0.9901815761733244, 0.9901815761733244, 0.9901815761733244, 0.9901861862865365, 0.9901861862865365]}], \"norm_macro_recall\": [{\"categories\": [\"0\", \"1\", \"2\", \"3\", \"4\", \"5\", \"6\", \"7\", \"8\", \"9\", \"10\", \"11\", \"12\", \"13\", \"14\", \"15\", \"16\", \"17\", \"18\", \"19\"], \"mode\": \"markers\", \"name\": \"norm_macro_recall\", \"stepped\": false, \"type\": \"scatter\", \"data\": [0.9621476659019751, 0.8289670618124614, 0.18027524522865154, 0.1913096026436063, 0.8387092912363993, 0.5711148815375281, 0.8878678017718408, 0.24776005362664624, 0.24793379541268254, 0.7287590422548641, 0.5767422844257697, 0.8529898097039842, 0.8268442992494917, 0.5161282110169536, 0.8894916222785517, 0.20401611366755049, 0.9063521051188944, 0.771112959701147, 0.9711800703244503, 0.9414705423593137]}, {\"categories\": [\"0\", \"1\", \"2\", \"3\", \"4\", \"5\", \"6\", \"7\", \"8\", \"9\", \"10\", \"11\", \"12\", \"13\", \"14\", \"15\", \"16\", \"17\", \"18\", \"19\"], \"mode\": \"lines\", \"name\": \"norm_macro_recall_max\", \"stepped\": true, \"type\": \"scatter\", \"data\": [0.9621476659019751, 0.9621476659019751, 0.9621476659019751, 0.9621476659019751, 0.9621476659019751, 0.9621476659019751, 0.9621476659019751, 0.9621476659019751, 0.9621476659019751, 0.9621476659019751, 0.9621476659019751, 0.9621476659019751, 0.9621476659019751, 0.9621476659019751, 0.9621476659019751, 0.9621476659019751, 0.9621476659019751, 0.9621476659019751, 0.9711800703244503, 0.9711800703244503]}], \"AUC_micro\": [{\"categories\": [\"0\", \"1\", \"2\", \"3\", \"4\", \"5\", \"6\", \"7\", \"8\", \"9\", \"10\", \"11\", \"12\", \"13\", \"14\", \"15\", \"16\", \"17\", \"18\", \"19\"], \"mode\": \"markers\", \"name\": \"AUC_micro\", \"stepped\": false, \"type\": \"scatter\", \"data\": [0.9997876746827847, 0.9962846418467078, 0.9687014397933814, 0.96337589216821, 0.9819772979359568, 0.9121977880658436, 0.9984112439986284, 0.9725658275462963, 0.9749077690972223, 0.9953157820001716, 0.9895947198645404, 0.9983255101165981, 0.9981734664351851, 0.9873515732167353, 0.9986888744212963, 0.968902043681413, 0.9992742760845337, 0.9971778147505144, 0.9996972522290809, 0.9989591370884773]}, {\"categories\": [\"0\", \"1\", \"2\", \"3\", \"4\", \"5\", \"6\", \"7\", \"8\", \"9\", \"10\", \"11\", \"12\", \"13\", \"14\", \"15\", \"16\", \"17\", \"18\", \"19\"], \"mode\": \"lines\", \"name\": \"AUC_micro_max\", \"stepped\": true, \"type\": \"scatter\", \"data\": [0.9997876746827847, 0.9997876746827847, 0.9997876746827847, 0.9997876746827847, 0.9997876746827847, 0.9997876746827847, 0.9997876746827847, 0.9997876746827847, 0.9997876746827847, 0.9997876746827847, 0.9997876746827847, 0.9997876746827847, 0.9997876746827847, 0.9997876746827847, 0.9997876746827847, 0.9997876746827847, 0.9997876746827847, 0.9997876746827847, 0.9997876746827847, 0.9997876746827847]}], \"recall_score_macro\": [{\"categories\": [\"0\", \"1\", \"2\", \"3\", \"4\", \"5\", \"6\", \"7\", \"8\", \"9\", \"10\", \"11\", \"12\", \"13\", \"14\", \"15\", \"16\", \"17\", \"18\", \"19\"], \"mode\": \"markers\", \"name\": \"recall_score_macro\", \"stepped\": false, \"type\": \"scatter\", \"data\": [0.9716107494264813, 0.871725296359346, 0.3852064339214887, 0.3934822019827047, 0.8790319684272995, 0.6783361611531461, 0.9159008513288805, 0.4358200402199847, 0.435950346559512, 0.796569281691148, 0.6825567133193272, 0.8897423572779881, 0.8701332244371187, 0.6370961582627152, 0.9171187167089138, 0.4030120852506629, 0.9297640788391709, 0.8283347197758602, 0.9783850527433376, 0.9561029067694853]}, {\"categories\": [\"0\", \"1\", \"2\", \"3\", \"4\", \"5\", \"6\", \"7\", \"8\", \"9\", \"10\", \"11\", \"12\", \"13\", \"14\", \"15\", \"16\", \"17\", \"18\", \"19\"], \"mode\": \"lines\", \"name\": \"recall_score_macro_max\", \"stepped\": true, \"type\": \"scatter\", \"data\": [0.9716107494264813, 0.9716107494264813, 0.9716107494264813, 0.9716107494264813, 0.9716107494264813, 0.9716107494264813, 0.9716107494264813, 0.9716107494264813, 0.9716107494264813, 0.9716107494264813, 0.9716107494264813, 0.9716107494264813, 0.9716107494264813, 0.9716107494264813, 0.9716107494264813, 0.9716107494264813, 0.9716107494264813, 0.9716107494264813, 0.9783850527433376, 0.9783850527433376]}], \"precision_score_weighted\": [{\"categories\": [\"0\", \"1\", \"2\", \"3\", \"4\", \"5\", \"6\", \"7\", \"8\", \"9\", \"10\", \"11\", \"12\", \"13\", \"14\", \"15\", \"16\", \"17\", \"18\", \"19\"], \"mode\": \"markers\", \"name\": \"precision_score_weighted\", \"stepped\": false, \"type\": \"scatter\", \"data\": [0.9906275567706276, 0.9469561034950367, 0.7404997663451175, 0.7409236533693653, 0.8981028837837263, 0.8125520228464844, 0.9668182791589173, 0.7663180408086205, 0.7865313011053211, 0.9366062067671851, 0.8841340147905768, 0.9638379006455325, 0.9619945935780271, 0.880980823361123, 0.9726237980144767, 0.7536373099348211, 0.9800034764246957, 0.9501875699010535, 0.990543023614396, 0.9894801902760152]}, {\"categories\": [\"0\", \"1\", \"2\", \"3\", \"4\", \"5\", \"6\", \"7\", \"8\", \"9\", \"10\", \"11\", \"12\", \"13\", \"14\", \"15\", \"16\", \"17\", \"18\", \"19\"], \"mode\": \"lines\", \"name\": \"precision_score_weighted_max\", \"stepped\": true, \"type\": \"scatter\", \"data\": [0.9906275567706276, 0.9906275567706276, 0.9906275567706276, 0.9906275567706276, 0.9906275567706276, 0.9906275567706276, 0.9906275567706276, 0.9906275567706276, 0.9906275567706276, 0.9906275567706276, 0.9906275567706276, 0.9906275567706276, 0.9906275567706276, 0.9906275567706276, 0.9906275567706276, 0.9906275567706276, 0.9906275567706276, 0.9906275567706276, 0.9906275567706276, 0.9906275567706276]}], \"weighted_accuracy\": [{\"categories\": [\"0\", \"1\", \"2\", \"3\", \"4\", \"5\", \"6\", \"7\", \"8\", \"9\", \"10\", \"11\", \"12\", \"13\", \"14\", \"15\", \"16\", \"17\", \"18\", \"19\"], \"mode\": \"markers\", \"name\": \"weighted_accuracy\", \"stepped\": false, \"type\": \"scatter\", \"data\": [0.9939776766082943, 0.9652630420070856, 0.9378447095753777, 0.9079285685318522, 0.8705649818097916, 0.7284564920707924, 0.9784235192082046, 0.9338596428286552, 0.8863093146102304, 0.9685061501752616, 0.9418927117647785, 0.9795389288898795, 0.9807252338378621, 0.9337217018172611, 0.9850888987813268, 0.9120772151818691, 0.9893641238923826, 0.9762001743741543, 0.9930441939613256, 0.9958043388686995]}, {\"categories\": [\"0\", \"1\", \"2\", \"3\", \"4\", \"5\", \"6\", \"7\", \"8\", \"9\", \"10\", \"11\", \"12\", \"13\", \"14\", \"15\", \"16\", \"17\", \"18\", \"19\"], \"mode\": \"lines\", \"name\": \"weighted_accuracy_max\", \"stepped\": true, \"type\": \"scatter\", \"data\": [0.9939776766082943, 0.9939776766082943, 0.9939776766082943, 0.9939776766082943, 0.9939776766082943, 0.9939776766082943, 0.9939776766082943, 0.9939776766082943, 0.9939776766082943, 0.9939776766082943, 0.9939776766082943, 0.9939776766082943, 0.9939776766082943, 0.9939776766082943, 0.9939776766082943, 0.9939776766082943, 0.9939776766082943, 0.9939776766082943, 0.9939776766082943, 0.9958043388686995]}], \"precision_score_micro\": [{\"categories\": [\"0\", \"1\", \"2\", \"3\", \"4\", \"5\", \"6\", \"7\", \"8\", \"9\", \"10\", \"11\", \"12\", \"13\", \"14\", \"15\", \"16\", \"17\", \"18\", \"19\"], \"mode\": \"markers\", \"name\": \"precision_score_micro\", \"stepped\": false, \"type\": \"scatter\", \"data\": [0.9901620370370371, 0.9432870370370371, 0.8119212962962963, 0.7997685185185185, 0.8651620370370371, 0.6799768518518517, 0.9652777777777777, 0.8234953703703703, 0.8148148148148148, 0.9363425925925926, 0.8894675925925926, 0.9623842592592592, 0.9606481481481483, 0.8796296296296297, 0.9716435185185185, 0.8078703703703703, 0.9791666666666666, 0.9490740740740741, 0.9901620370370371, 0.9890046296296297]}, {\"categories\": [\"0\", \"1\", \"2\", \"3\", \"4\", \"5\", \"6\", \"7\", \"8\", \"9\", \"10\", \"11\", \"12\", \"13\", \"14\", \"15\", \"16\", \"17\", \"18\", \"19\"], \"mode\": \"lines\", \"name\": \"precision_score_micro_max\", \"stepped\": true, \"type\": \"scatter\", \"data\": [0.9901620370370371, 0.9901620370370371, 0.9901620370370371, 0.9901620370370371, 0.9901620370370371, 0.9901620370370371, 0.9901620370370371, 0.9901620370370371, 0.9901620370370371, 0.9901620370370371, 0.9901620370370371, 0.9901620370370371, 0.9901620370370371, 0.9901620370370371, 0.9901620370370371, 0.9901620370370371, 0.9901620370370371, 0.9901620370370371, 0.9901620370370371, 0.9901620370370371]}], \"AUC_weighted\": [{\"categories\": [\"0\", \"1\", \"2\", \"3\", \"4\", \"5\", \"6\", \"7\", \"8\", \"9\", \"10\", \"11\", \"12\", \"13\", \"14\", \"15\", \"16\", \"17\", \"18\", \"19\"], \"mode\": \"markers\", \"name\": \"AUC_weighted\", \"stepped\": false, \"type\": \"scatter\", \"data\": [0.9997580856730798, 0.9939073919324081, 0.9674826564444633, 0.946951757978386, 0.9759834398714395, 0.9188881725227657, 0.9977016603670473, 0.9699729606502253, 0.9628491418381048, 0.9943969086610212, 0.9839668895497247, 0.9977178678093694, 0.9976626015915113, 0.981531276943233, 0.9984170820465058, 0.9545764142274602, 0.9991198209956478, 0.9966247647165551, 0.9996231267032026, 0.9986651577641442]}, {\"categories\": [\"0\", \"1\", \"2\", \"3\", \"4\", \"5\", \"6\", \"7\", \"8\", \"9\", \"10\", \"11\", \"12\", \"13\", \"14\", \"15\", \"16\", \"17\", \"18\", \"19\"], \"mode\": \"lines\", \"name\": \"AUC_weighted_max\", \"stepped\": true, \"type\": \"scatter\", \"data\": [0.9997580856730798, 0.9997580856730798, 0.9997580856730798, 0.9997580856730798, 0.9997580856730798, 0.9997580856730798, 0.9997580856730798, 0.9997580856730798, 0.9997580856730798, 0.9997580856730798, 0.9997580856730798, 0.9997580856730798, 0.9997580856730798, 0.9997580856730798, 0.9997580856730798, 0.9997580856730798, 0.9997580856730798, 0.9997580856730798, 0.9997580856730798, 0.9997580856730798]}], \"f1_score_micro\": [{\"categories\": [\"0\", \"1\", \"2\", \"3\", \"4\", \"5\", \"6\", \"7\", \"8\", \"9\", \"10\", \"11\", \"12\", \"13\", \"14\", \"15\", \"16\", \"17\", \"18\", \"19\"], \"mode\": \"markers\", \"name\": \"f1_score_micro\", \"stepped\": false, \"type\": \"scatter\", \"data\": [0.9901620370370371, 0.9432870370370371, 0.8119212962962963, 0.7997685185185185, 0.8651620370370371, 0.6799768518518517, 0.9652777777777777, 0.8234953703703703, 0.8148148148148149, 0.9363425925925926, 0.8894675925925926, 0.9623842592592592, 0.9606481481481483, 0.8796296296296297, 0.9716435185185185, 0.8078703703703703, 0.9791666666666666, 0.9490740740740741, 0.9901620370370371, 0.9890046296296297]}, {\"categories\": [\"0\", \"1\", \"2\", \"3\", \"4\", \"5\", \"6\", \"7\", \"8\", \"9\", \"10\", \"11\", \"12\", \"13\", \"14\", \"15\", \"16\", \"17\", \"18\", \"19\"], \"mode\": \"lines\", \"name\": \"f1_score_micro_max\", \"stepped\": true, \"type\": \"scatter\", \"data\": [0.9901620370370371, 0.9901620370370371, 0.9901620370370371, 0.9901620370370371, 0.9901620370370371, 0.9901620370370371, 0.9901620370370371, 0.9901620370370371, 0.9901620370370371, 0.9901620370370371, 0.9901620370370371, 0.9901620370370371, 0.9901620370370371, 0.9901620370370371, 0.9901620370370371, 0.9901620370370371, 0.9901620370370371, 0.9901620370370371, 0.9901620370370371, 0.9901620370370371]}], \"recall_score_weighted\": [{\"categories\": [\"0\", \"1\", \"2\", \"3\", \"4\", \"5\", \"6\", \"7\", \"8\", \"9\", \"10\", \"11\", \"12\", \"13\", \"14\", \"15\", \"16\", \"17\", \"18\", \"19\"], \"mode\": \"markers\", \"name\": \"recall_score_weighted\", \"stepped\": false, \"type\": \"scatter\", \"data\": [0.9901620370370371, 0.9432870370370371, 0.8119212962962963, 0.7997685185185185, 0.8651620370370371, 0.6799768518518517, 0.9652777777777777, 0.8234953703703703, 0.8148148148148148, 0.9363425925925926, 0.8894675925925926, 0.9623842592592592, 0.9606481481481483, 0.8796296296296297, 0.9716435185185185, 0.8078703703703703, 0.9791666666666666, 0.9490740740740741, 0.9901620370370371, 0.9890046296296297]}, {\"categories\": [\"0\", \"1\", \"2\", \"3\", \"4\", \"5\", \"6\", \"7\", \"8\", \"9\", \"10\", \"11\", \"12\", \"13\", \"14\", \"15\", \"16\", \"17\", \"18\", \"19\"], \"mode\": \"lines\", \"name\": \"recall_score_weighted_max\", \"stepped\": true, \"type\": \"scatter\", \"data\": [0.9901620370370371, 0.9901620370370371, 0.9901620370370371, 0.9901620370370371, 0.9901620370370371, 0.9901620370370371, 0.9901620370370371, 0.9901620370370371, 0.9901620370370371, 0.9901620370370371, 0.9901620370370371, 0.9901620370370371, 0.9901620370370371, 0.9901620370370371, 0.9901620370370371, 0.9901620370370371, 0.9901620370370371, 0.9901620370370371, 0.9901620370370371, 0.9901620370370371]}], \"recall_score_micro\": [{\"categories\": [\"0\", \"1\", \"2\", \"3\", \"4\", \"5\", \"6\", \"7\", \"8\", \"9\", \"10\", \"11\", \"12\", \"13\", \"14\", \"15\", \"16\", \"17\", \"18\", \"19\"], \"mode\": \"markers\", \"name\": \"recall_score_micro\", \"stepped\": false, \"type\": \"scatter\", \"data\": [0.9901620370370371, 0.9432870370370371, 0.8119212962962963, 0.7997685185185185, 0.8651620370370371, 0.6799768518518517, 0.9652777777777777, 0.8234953703703703, 0.8148148148148148, 0.9363425925925926, 0.8894675925925926, 0.9623842592592592, 0.9606481481481483, 0.8796296296296297, 0.9716435185185185, 0.8078703703703703, 0.9791666666666666, 0.9490740740740741, 0.9901620370370371, 0.9890046296296297]}, {\"categories\": [\"0\", \"1\", \"2\", \"3\", \"4\", \"5\", \"6\", \"7\", \"8\", \"9\", \"10\", \"11\", \"12\", \"13\", \"14\", \"15\", \"16\", \"17\", \"18\", \"19\"], \"mode\": \"lines\", \"name\": \"recall_score_micro_max\", \"stepped\": true, \"type\": \"scatter\", \"data\": [0.9901620370370371, 0.9901620370370371, 0.9901620370370371, 0.9901620370370371, 0.9901620370370371, 0.9901620370370371, 0.9901620370370371, 0.9901620370370371, 0.9901620370370371, 0.9901620370370371, 0.9901620370370371, 0.9901620370370371, 0.9901620370370371, 0.9901620370370371, 0.9901620370370371, 0.9901620370370371, 0.9901620370370371, 0.9901620370370371, 0.9901620370370371, 0.9901620370370371]}], \"log_loss\": [{\"categories\": [\"0\", \"1\", \"2\", \"3\", \"4\", \"5\", \"6\", \"7\", \"8\", \"9\", \"10\", \"11\", \"12\", \"13\", \"14\", \"15\", \"16\", \"17\", \"18\", \"19\"], \"mode\": \"markers\", \"name\": \"log_loss\", \"stepped\": false, \"type\": \"scatter\", \"data\": [0.03667583202090915, 0.18664959024249617, 0.4684133771732924, 0.4994342462900582, 0.44250878634080015, 0.8471671457272146, 0.20737379935680653, 0.45359784718261914, 0.38528958346317826, 0.6118072208216035, 0.22793778140786194, 0.21965343972248583, 0.15319277546611296, 0.3073909974489255, 0.11514302009060284, 0.5543453911721773, 0.06978598788486294, 0.18465905586252995, 0.10139552569965138, 0.0813527176871869]}, {\"categories\": [\"0\", \"1\", \"2\", \"3\", \"4\", \"5\", \"6\", \"7\", \"8\", \"9\", \"10\", \"11\", \"12\", \"13\", \"14\", \"15\", \"16\", \"17\", \"18\", \"19\"], \"mode\": \"lines\", \"name\": \"log_loss_min\", \"stepped\": true, \"type\": \"scatter\", \"data\": [0.03667583202090915, 0.03667583202090915, 0.03667583202090915, 0.03667583202090915, 0.03667583202090915, 0.03667583202090915, 0.03667583202090915, 0.03667583202090915, 0.03667583202090915, 0.03667583202090915, 0.03667583202090915, 0.03667583202090915, 0.03667583202090915, 0.03667583202090915, 0.03667583202090915, 0.03667583202090915, 0.03667583202090915, 0.03667583202090915, 0.03667583202090915, 0.03667583202090915]}], \"balanced_accuracy\": [{\"categories\": [\"0\", \"1\", \"2\", \"3\", \"4\", \"5\", \"6\", \"7\", \"8\", \"9\", \"10\", \"11\", \"12\", \"13\", \"14\", \"15\", \"16\", \"17\", \"18\", \"19\"], \"mode\": \"markers\", \"name\": \"balanced_accuracy\", \"stepped\": false, \"type\": \"scatter\", \"data\": [0.9716107494264813, 0.871725296359346, 0.3852064339214887, 0.3934822019827047, 0.8790319684272995, 0.6783361611531461, 0.9159008513288805, 0.4358200402199847, 0.435950346559512, 0.796569281691148, 0.6825567133193272, 0.8897423572779881, 0.8701332244371187, 0.6370961582627152, 0.9171187167089138, 0.4030120852506629, 0.9297640788391709, 0.8283347197758602, 0.9783850527433376, 0.9561029067694853]}, {\"categories\": [\"0\", \"1\", \"2\", \"3\", \"4\", \"5\", \"6\", \"7\", \"8\", \"9\", \"10\", \"11\", \"12\", \"13\", \"14\", \"15\", \"16\", \"17\", \"18\", \"19\"], \"mode\": \"lines\", \"name\": \"balanced_accuracy_max\", \"stepped\": true, \"type\": \"scatter\", \"data\": [0.9716107494264813, 0.9716107494264813, 0.9716107494264813, 0.9716107494264813, 0.9716107494264813, 0.9716107494264813, 0.9716107494264813, 0.9716107494264813, 0.9716107494264813, 0.9716107494264813, 0.9716107494264813, 0.9716107494264813, 0.9716107494264813, 0.9716107494264813, 0.9716107494264813, 0.9716107494264813, 0.9716107494264813, 0.9716107494264813, 0.9783850527433376, 0.9783850527433376]}], \"average_precision_score_macro\": [{\"categories\": [\"0\", \"1\", \"2\", \"3\", \"4\", \"5\", \"6\", \"7\", \"8\", \"9\", \"10\", \"11\", \"12\", \"13\", \"14\", \"15\", \"16\", \"17\", \"18\", \"19\"], \"mode\": \"markers\", \"name\": \"average_precision_score_macro\", \"stepped\": false, \"type\": \"scatter\", \"data\": [0.9930661080265687, 0.9333245194892118, 0.7493906108450711, 0.674151298737297, 0.8417480263184954, 0.5634575450675899, 0.9525308647534843, 0.816527331781231, 0.7788460283629809, 0.9319147997332072, 0.8236982051396035, 0.9435441066413005, 0.9542652708698555, 0.8392395793354628, 0.9622809740326286, 0.7060949860424476, 0.9674631127922311, 0.9394355716661007, 0.9892196390401716, 0.9742903690309639]}, {\"categories\": [\"0\", \"1\", \"2\", \"3\", \"4\", \"5\", \"6\", \"7\", \"8\", \"9\", \"10\", \"11\", \"12\", \"13\", \"14\", \"15\", \"16\", \"17\", \"18\", \"19\"], \"mode\": \"lines\", \"name\": \"average_precision_score_macro_max\", \"stepped\": true, \"type\": \"scatter\", \"data\": [0.9930661080265687, 0.9930661080265687, 0.9930661080265687, 0.9930661080265687, 0.9930661080265687, 0.9930661080265687, 0.9930661080265687, 0.9930661080265687, 0.9930661080265687, 0.9930661080265687, 0.9930661080265687, 0.9930661080265687, 0.9930661080265687, 0.9930661080265687, 0.9930661080265687, 0.9930661080265687, 0.9930661080265687, 0.9930661080265687, 0.9930661080265687, 0.9930661080265687]}], \"AUC_macro\": [{\"categories\": [\"0\", \"1\", \"2\", \"3\", \"4\", \"5\", \"6\", \"7\", \"8\", \"9\", \"10\", \"11\", \"12\", \"13\", \"14\", \"15\", \"16\", \"17\", \"18\", \"19\"], \"mode\": \"markers\", \"name\": \"AUC_macro\", \"stepped\": false, \"type\": \"scatter\", \"data\": [0.9994576838019057, 0.9933020081629907, 0.9639260625496296, 0.9446010032644319, 0.9737877686144297, 0.9025718977027687, 0.9966344733156816, 0.970157494909739, 0.9624200425782027, 0.9933601949794456, 0.9831485285267655, 0.9962734297179202, 0.9965786830089245, 0.9808747761121523, 0.9973876127821444, 0.9519050379087468, 0.9979165046045431, 0.9953044236745353, 0.9992229344043212, 0.9969556687381975]}, {\"categories\": [\"0\", \"1\", \"2\", \"3\", \"4\", \"5\", \"6\", \"7\", \"8\", \"9\", \"10\", \"11\", \"12\", \"13\", \"14\", \"15\", \"16\", \"17\", \"18\", \"19\"], \"mode\": \"lines\", \"name\": \"AUC_macro_max\", \"stepped\": true, \"type\": \"scatter\", \"data\": [0.9994576838019057, 0.9994576838019057, 0.9994576838019057, 0.9994576838019057, 0.9994576838019057, 0.9994576838019057, 0.9994576838019057, 0.9994576838019057, 0.9994576838019057, 0.9994576838019057, 0.9994576838019057, 0.9994576838019057, 0.9994576838019057, 0.9994576838019057, 0.9994576838019057, 0.9994576838019057, 0.9994576838019057, 0.9994576838019057, 0.9994576838019057, 0.9994576838019057]}], \"average_precision_score_micro\": [{\"categories\": [\"0\", \"1\", \"2\", \"3\", \"4\", \"5\", \"6\", \"7\", \"8\", \"9\", \"10\", \"11\", \"12\", \"13\", \"14\", \"15\", \"16\", \"17\", \"18\", \"19\"], \"mode\": \"markers\", \"name\": \"average_precision_score_micro\", \"stepped\": false, \"type\": \"scatter\", \"data\": [0.9993832531479413, 0.9895771685298556, 0.9282461496086949, 0.9136084286425502, 0.9518189860252516, 0.8089358950105566, 0.9955160475790111, 0.9339279360674744, 0.9355480500591771, 0.9874170456344257, 0.9712250040620999, 0.9952238477347798, 0.9947813406279143, 0.9662062545397747, 0.9962473495636214, 0.925077579286305, 0.9979209249871749, 0.9920445993135422, 0.9991313637463085, 0.9971871676789398]}, {\"categories\": [\"0\", \"1\", \"2\", \"3\", \"4\", \"5\", \"6\", \"7\", \"8\", \"9\", \"10\", \"11\", \"12\", \"13\", \"14\", \"15\", \"16\", \"17\", \"18\", \"19\"], \"mode\": \"lines\", \"name\": \"average_precision_score_micro_max\", \"stepped\": true, \"type\": \"scatter\", \"data\": [0.9993832531479413, 0.9993832531479413, 0.9993832531479413, 0.9993832531479413, 0.9993832531479413, 0.9993832531479413, 0.9993832531479413, 0.9993832531479413, 0.9993832531479413, 0.9993832531479413, 0.9993832531479413, 0.9993832531479413, 0.9993832531479413, 0.9993832531479413, 0.9993832531479413, 0.9993832531479413, 0.9993832531479413, 0.9993832531479413, 0.9993832531479413, 0.9993832531479413]}], \"average_precision_score_weighted\": [{\"categories\": [\"0\", \"1\", \"2\", \"3\", \"4\", \"5\", \"6\", \"7\", \"8\", \"9\", \"10\", \"11\", \"12\", \"13\", \"14\", \"15\", \"16\", \"17\", \"18\", \"19\"], \"mode\": \"markers\", \"name\": \"average_precision_score_weighted\", \"stepped\": false, \"type\": \"scatter\", \"data\": [0.9984122891680266, 0.9798578293083571, 0.906266381843146, 0.8753697195852013, 0.9236867385985305, 0.8157014414472887, 0.9886540475982124, 0.9170793803684104, 0.9101287840084193, 0.9791107405737854, 0.9511233358699216, 0.9872869362591742, 0.9882246641635654, 0.9441463349699886, 0.9906231383033116, 0.882799082876562, 0.9929781386806029, 0.9844873785756073, 0.9974709225578177, 0.990815307543941]}, {\"categories\": [\"0\", \"1\", \"2\", \"3\", \"4\", \"5\", \"6\", \"7\", \"8\", \"9\", \"10\", \"11\", \"12\", \"13\", \"14\", \"15\", \"16\", \"17\", \"18\", \"19\"], \"mode\": \"lines\", \"name\": \"average_precision_score_weighted_max\", \"stepped\": true, \"type\": \"scatter\", \"data\": [0.9984122891680266, 0.9984122891680266, 0.9984122891680266, 0.9984122891680266, 0.9984122891680266, 0.9984122891680266, 0.9984122891680266, 0.9984122891680266, 0.9984122891680266, 0.9984122891680266, 0.9984122891680266, 0.9984122891680266, 0.9984122891680266, 0.9984122891680266, 0.9984122891680266, 0.9984122891680266, 0.9984122891680266, 0.9984122891680266, 0.9984122891680266, 0.9984122891680266]}], \"accuracy\": [{\"categories\": [\"0\", \"1\", \"2\", \"3\", \"4\", \"5\", \"6\", \"7\", \"8\", \"9\", \"10\", \"11\", \"12\", \"13\", \"14\", \"15\", \"16\", \"17\", \"18\", \"19\"], \"mode\": \"markers\", \"name\": \"accuracy\", \"stepped\": false, \"type\": \"scatter\", \"data\": [0.9901620370370371, 0.9432870370370371, 0.8119212962962963, 0.7997685185185185, 0.8651620370370371, 0.6799768518518517, 0.9652777777777777, 0.8234953703703703, 0.8148148148148148, 0.9363425925925926, 0.8894675925925926, 0.9623842592592592, 0.9606481481481483, 0.8796296296296297, 0.9716435185185185, 0.8078703703703703, 0.9791666666666666, 0.9490740740740741, 0.9901620370370371, 0.9890046296296297]}, {\"categories\": [\"0\", \"1\", \"2\", \"3\", \"4\", \"5\", \"6\", \"7\", \"8\", \"9\", \"10\", \"11\", \"12\", \"13\", \"14\", \"15\", \"16\", \"17\", \"18\", \"19\"], \"mode\": \"lines\", \"name\": \"accuracy_max\", \"stepped\": true, \"type\": \"scatter\", \"data\": [0.9901620370370371, 0.9901620370370371, 0.9901620370370371, 0.9901620370370371, 0.9901620370370371, 0.9901620370370371, 0.9901620370370371, 0.9901620370370371, 0.9901620370370371, 0.9901620370370371, 0.9901620370370371, 0.9901620370370371, 0.9901620370370371, 0.9901620370370371, 0.9901620370370371, 0.9901620370370371, 0.9901620370370371, 0.9901620370370371, 0.9901620370370371, 0.9901620370370371]}], \"f1_score_macro\": [{\"categories\": [\"0\", \"1\", \"2\", \"3\", \"4\", \"5\", \"6\", \"7\", \"8\", \"9\", \"10\", \"11\", \"12\", \"13\", \"14\", \"15\", \"16\", \"17\", \"18\", \"19\"], \"mode\": \"markers\", \"name\": \"f1_score_macro\", \"stepped\": false, \"type\": \"scatter\", \"data\": [0.973921330718612, 0.8603470180988101, 0.37216482644384524, 0.37565289168589633, 0.7723676183703398, 0.47322975736084644, 0.9063882279586993, 0.43466114184671034, 0.39723022841713845, 0.8203919689028893, 0.6988201248751054, 0.8867845241655331, 0.8721569752176709, 0.6648598137668359, 0.9149372074482242, 0.38127431551678076, 0.9275239273758396, 0.8359210383742885, 0.975782150286701, 0.9647177261431104]}, {\"categories\": [\"0\", \"1\", \"2\", \"3\", \"4\", \"5\", \"6\", \"7\", \"8\", \"9\", \"10\", \"11\", \"12\", \"13\", \"14\", \"15\", \"16\", \"17\", \"18\", \"19\"], \"mode\": \"lines\", \"name\": \"f1_score_macro_max\", \"stepped\": true, \"type\": \"scatter\", \"data\": [0.973921330718612, 0.973921330718612, 0.973921330718612, 0.973921330718612, 0.973921330718612, 0.973921330718612, 0.973921330718612, 0.973921330718612, 0.973921330718612, 0.973921330718612, 0.973921330718612, 0.973921330718612, 0.973921330718612, 0.973921330718612, 0.973921330718612, 0.973921330718612, 0.973921330718612, 0.973921330718612, 0.975782150286701, 0.975782150286701]}]}, \"metricName\": null, \"primaryMetricName\": \"accuracy\", \"showLegend\": false}, \"run_metrics\": [{\"name\": \"experiment_status\", \"run_id\": \"AutoML_b125eb9f-3c1b-46da-8202-6a466679d398\", \"categories\": [0, 1, 2, 3, 4, 5, 6, 7, 8, 9, 10, 11, 12, 13, 14], \"series\": [{\"data\": [\"DatasetEvaluation\", \"FeaturesGeneration\", \"DatasetFeaturization\", \"DatasetFeaturizationCompleted\", \"DatasetBalancing\", \"DatasetCrossValidationSplit\", \"ModelSelection\", \"BestRunExplainModel\", \"ModelExplanationDataSetSetup\", \"PickSurrogateModel\", \"EngineeredFeatureExplanations\", \"EngineeredFeatureExplanations\", \"RawFeaturesExplanations\", \"RawFeaturesExplanations\", \"BestRunExplainModel\"]}]}, {\"name\": \"experiment_status_description\", \"run_id\": \"AutoML_b125eb9f-3c1b-46da-8202-6a466679d398\", \"categories\": [0, 1, 2, 3, 4, 5, 6, 7, 8, 9, 10, 11, 12, 13, 14], \"series\": [{\"data\": [\"Gathering dataset statistics.\", \"Generating features for the dataset.\", \"Beginning to fit featurizers and featurize the dataset.\", \"Completed fit featurizers and featurizing the dataset.\", \"Performing class balancing sweeping\", \"Generating individually featurized CV splits.\", \"Beginning model selection.\", \"Best run model explanations started\", \"Model explanations data setup completed\", \"Choosing LightGBM as the surrogate model for explanations\", \"Computation of engineered features started\", \"Computation of engineered features completed\", \"Computation of raw features started\", \"Computation of raw features completed\", \"Best run model explanations completed\"]}]}, {\"name\": \"norm_macro_recall\", \"run_id\": \"AutoML_b125eb9f-3c1b-46da-8202-6a466679d398\", \"categories\": [0], \"series\": [{\"data\": [0.9711800703244503]}]}, {\"name\": \"log_loss\", \"run_id\": \"AutoML_b125eb9f-3c1b-46da-8202-6a466679d398\", \"categories\": [0], \"series\": [{\"data\": [0.10139552569965138]}]}, {\"name\": \"precision_score_weighted\", \"run_id\": \"AutoML_b125eb9f-3c1b-46da-8202-6a466679d398\", \"categories\": [0], \"series\": [{\"data\": [0.990543023614396]}]}, {\"name\": \"f1_score_macro\", \"run_id\": \"AutoML_b125eb9f-3c1b-46da-8202-6a466679d398\", \"categories\": [0], \"series\": [{\"data\": [0.975782150286701]}]}, {\"name\": \"AUC_micro\", \"run_id\": \"AutoML_b125eb9f-3c1b-46da-8202-6a466679d398\", \"categories\": [0], \"series\": [{\"data\": [0.9996972522290809]}]}, {\"name\": \"f1_score_weighted\", \"run_id\": \"AutoML_b125eb9f-3c1b-46da-8202-6a466679d398\", \"categories\": [0], \"series\": [{\"data\": [0.9901861862865365]}]}, {\"name\": \"f1_score_micro\", \"run_id\": \"AutoML_b125eb9f-3c1b-46da-8202-6a466679d398\", \"categories\": [0], \"series\": [{\"data\": [0.9901620370370371]}]}, {\"name\": \"precision_score_micro\", \"run_id\": \"AutoML_b125eb9f-3c1b-46da-8202-6a466679d398\", \"categories\": [0], \"series\": [{\"data\": [0.9901620370370371]}]}, {\"name\": \"weighted_accuracy\", \"run_id\": \"AutoML_b125eb9f-3c1b-46da-8202-6a466679d398\", \"categories\": [0], \"series\": [{\"data\": [0.9930441939613256]}]}, {\"name\": \"recall_score_macro\", \"run_id\": \"AutoML_b125eb9f-3c1b-46da-8202-6a466679d398\", \"categories\": [0], \"series\": [{\"data\": [0.9783850527433376]}]}, {\"name\": \"average_precision_score_weighted\", \"run_id\": \"AutoML_b125eb9f-3c1b-46da-8202-6a466679d398\", \"categories\": [0], \"series\": [{\"data\": [0.9974709225578177]}]}, {\"name\": \"precision_score_macro\", \"run_id\": \"AutoML_b125eb9f-3c1b-46da-8202-6a466679d398\", \"categories\": [0], \"series\": [{\"data\": [0.975046036452634]}]}, {\"name\": \"AUC_weighted\", \"run_id\": \"AutoML_b125eb9f-3c1b-46da-8202-6a466679d398\", \"categories\": [0], \"series\": [{\"data\": [0.9996231267032026]}]}, {\"name\": \"accuracy\", \"run_id\": \"AutoML_b125eb9f-3c1b-46da-8202-6a466679d398\", \"categories\": [0], \"series\": [{\"data\": [0.9901620370370371]}]}, {\"name\": \"AUC_macro\", \"run_id\": \"AutoML_b125eb9f-3c1b-46da-8202-6a466679d398\", \"categories\": [0], \"series\": [{\"data\": [0.9992229344043212]}]}, {\"name\": \"average_precision_score_micro\", \"run_id\": \"AutoML_b125eb9f-3c1b-46da-8202-6a466679d398\", \"categories\": [0], \"series\": [{\"data\": [0.9991313637463085]}]}, {\"name\": \"balanced_accuracy\", \"run_id\": \"AutoML_b125eb9f-3c1b-46da-8202-6a466679d398\", \"categories\": [0], \"series\": [{\"data\": [0.9783850527433376]}]}, {\"name\": \"recall_score_weighted\", \"run_id\": \"AutoML_b125eb9f-3c1b-46da-8202-6a466679d398\", \"categories\": [0], \"series\": [{\"data\": [0.9901620370370371]}]}, {\"name\": \"recall_score_micro\", \"run_id\": \"AutoML_b125eb9f-3c1b-46da-8202-6a466679d398\", \"categories\": [0], \"series\": [{\"data\": [0.9901620370370371]}]}, {\"name\": \"matthews_correlation\", \"run_id\": \"AutoML_b125eb9f-3c1b-46da-8202-6a466679d398\", \"categories\": [0], \"series\": [{\"data\": [0.9786721711337601]}]}, {\"name\": \"average_precision_score_macro\", \"run_id\": \"AutoML_b125eb9f-3c1b-46da-8202-6a466679d398\", \"categories\": [0], \"series\": [{\"data\": [0.9892196390401716]}]}], \"run_logs\": \"\\nRun is completed.\", \"graph\": {}, \"widget_settings\": {\"childWidgetDisplay\": \"popup\", \"send_telemetry\": false, \"log_level\": \"INFO\", \"sdk_version\": \"1.20.0\"}, \"loading\": false}"
          },
          "metadata": {}
        }
      ],
      "execution_count": 11,
      "metadata": {
        "gather": {
          "logged": 1611996255293
        },
        "jupyter": {
          "outputs_hidden": false,
          "source_hidden": false
        },
        "nteract": {
          "transient": {
            "deleting": false
          }
        }
      }
    },
    {
      "cell_type": "markdown",
      "source": [
        "## Best Model\n",
        "\n",
        "TODO: In the cell below, get the best model from the automl experiments and display all the properties of the model.\n",
        "\n"
      ],
      "metadata": {}
    },
    {
      "cell_type": "code",
      "source": [
        "best_automl_run, best_automl_model = remote_run.get_output()\r\n",
        "\r\n",
        "print(best_automl_run)\r\n",
        "\r\n",
        "print(best_automl_run.get_metrics()['accuracy'])"
      ],
      "outputs": [
        {
          "output_type": "stream",
          "name": "stdout",
          "text": [
            "Run(Experiment: Car_Evaluation_AutoML,\n",
            "Id: AutoML_b125eb9f-3c1b-46da-8202-6a466679d398_18,\n",
            "Type: azureml.scriptrun,\n",
            "Status: Completed)\n",
            "0.9901620370370371\n"
          ]
        }
      ],
      "execution_count": 16,
      "metadata": {
        "gather": {
          "logged": 1611996484059
        },
        "jupyter": {
          "outputs_hidden": false,
          "source_hidden": false
        },
        "nteract": {
          "transient": {
            "deleting": false
          }
        }
      }
    },
    {
      "cell_type": "code",
      "source": [
        "best_automl_model.steps"
      ],
      "outputs": [
        {
          "output_type": "execute_result",
          "execution_count": 19,
          "data": {
            "text/plain": "[('datatransformer',\n  DataTransformer(enable_dnn=None, enable_feature_sweeping=None,\n                  feature_sweeping_config=None, feature_sweeping_timeout=None,\n                  featurization_config=None, force_text_dnn=None,\n                  is_cross_validation=None, is_onnx_compatible=None, logger=None,\n                  observer=None, task=None, working_dir=None)),\n ('prefittedsoftvotingclassifier',\n  PreFittedSoftVotingClassifier(classification_labels=None,\n                                estimators=[('0',\n                                             Pipeline(memory=None,\n                                                      steps=[('maxabsscaler',\n                                                              MaxAbsScaler(copy=True)),\n                                                             ('lightgbmclassifier',\n                                                              LightGBMClassifier(boosting_type='gbdt',\n                                                                                 class_weight=None,\n                                                                                 colsample_bytree=1.0,\n                                                                                 importance_type='split',\n                                                                                 learning_rate=0.1,\n                                                                                 max_depth=-1,\n                                                                                 min_child_samples=20,\n                                                                                 min_child_weight=0.001,\n                                                                                 min_spl...\n                                                                                     min_impurity_split=None,\n                                                                                     min_samples_leaf=0.035789473684210524,\n                                                                                     min_samples_split=0.01,\n                                                                                     min_weight_fraction_leaf=0.0,\n                                                                                     n_estimators=10,\n                                                                                     n_jobs=1,\n                                                                                     oob_score=True,\n                                                                                     random_state=None,\n                                                                                     verbose=0,\n                                                                                     warm_start=False))],\n                                                      verbose=False))],\n                                flatten_transform=None,\n                                weights=[0.5454545454545454, 0.09090909090909091,\n                                         0.09090909090909091, 0.09090909090909091,\n                                         0.09090909090909091,\n                                         0.09090909090909091]))]"
          },
          "metadata": {}
        }
      ],
      "execution_count": 19,
      "metadata": {
        "collapsed": true,
        "jupyter": {
          "source_hidden": false,
          "outputs_hidden": false
        },
        "nteract": {
          "transient": {
            "deleting": false
          }
        },
        "gather": {
          "logged": 1611996634083
        }
      }
    },
    {
      "cell_type": "code",
      "source": [
        "#TODO: Save the best model\r\n",
        "\r\n",
        "best_automl_run.register_model(model_name=\"car-evaluation-automl-best-model\", model_path=\"./outputs\")"
      ],
      "outputs": [
        {
          "output_type": "execute_result",
          "execution_count": 18,
          "data": {
            "text/plain": "Model(workspace=Workspace.create(name='quick-starts-ws-136554', subscription_id='61c5c3f0-6dc7-4ed9-a7f3-c704b20e3b30', resource_group='aml-quickstarts-136554'), name=car-evaluation-automl-best-model, id=car-evaluation-automl-best-model:1, version=1, tags={}, properties={})"
          },
          "metadata": {}
        }
      ],
      "execution_count": 18,
      "metadata": {
        "gather": {
          "logged": 1611996532851
        },
        "jupyter": {
          "outputs_hidden": false,
          "source_hidden": false
        },
        "nteract": {
          "transient": {
            "deleting": false
          }
        }
      }
    },
    {
      "cell_type": "markdown",
      "source": [
        "## Model Deployment\n",
        "\n",
        "Remember you have to deploy only one of the two models you trained.. Perform the steps in the rest of this notebook only if you wish to deploy this model.\n",
        "\n",
        "TODO: In the cell below, register the model, create an inference config and deploy the model as a web service."
      ],
      "metadata": {}
    },
    {
      "cell_type": "code",
      "source": [
        "from azureml.core.environment import Environment\r\n",
        "from azureml.core.model import InferenceConfig\r\n",
        "\r\n",
        "env = Environment.get(ws, \"AzureML-Minimal\")\r\n",
        "\r\n",
        "for pip_package in [\"scikit-learn\"]:\r\n",
        "    env.python.conda_dependencies.add_pip_package(pip_package)\r\n",
        "\r\n",
        "inference_config = InferenceConfig(entry_script='./inference_script.py', environment=env)"
      ],
      "outputs": [],
      "execution_count": 41,
      "metadata": {
        "collapsed": true,
        "jupyter": {
          "source_hidden": false,
          "outputs_hidden": false
        },
        "nteract": {
          "transient": {
            "deleting": false
          }
        },
        "gather": {
          "logged": 1611998847835
        }
      }
    },
    {
      "cell_type": "code",
      "source": [
        "deployment_config = AciWebservice.deploy_configuration(cpu_cores = 1, memory_gb = 1)"
      ],
      "outputs": [],
      "execution_count": 42,
      "metadata": {
        "collapsed": true,
        "jupyter": {
          "source_hidden": false,
          "outputs_hidden": false
        },
        "nteract": {
          "transient": {
            "deleting": false
          }
        },
        "gather": {
          "logged": 1611998855648
        }
      }
    },
    {
      "cell_type": "code",
      "source": [
        "service = Model.deploy(ws, \"car-evaluation-service\", [model], inference_config, deployment_config)\r\n",
        "service.wait_for_deployment(show_output = True)\r\n",
        "print(service.state)"
      ],
      "outputs": [
        {
          "output_type": "error",
          "ename": "AttributeError",
          "evalue": "'RandomForestClassifier' object has no attribute 'id'",
          "traceback": [
            "\u001b[0;31m---------------------------------------------------------------------------\u001b[0m",
            "\u001b[0;31mAttributeError\u001b[0m                            Traceback (most recent call last)",
            "\u001b[0;32m<ipython-input-43-5c3afffd64a5>\u001b[0m in \u001b[0;36m<module>\u001b[0;34m\u001b[0m\n\u001b[0;32m----> 1\u001b[0;31m \u001b[0mservice\u001b[0m \u001b[0;34m=\u001b[0m \u001b[0mModel\u001b[0m\u001b[0;34m.\u001b[0m\u001b[0mdeploy\u001b[0m\u001b[0;34m(\u001b[0m\u001b[0mws\u001b[0m\u001b[0;34m,\u001b[0m \u001b[0;34m\"car-evaluation-service\"\u001b[0m\u001b[0;34m,\u001b[0m \u001b[0;34m[\u001b[0m\u001b[0mmodel\u001b[0m\u001b[0;34m]\u001b[0m\u001b[0;34m,\u001b[0m \u001b[0minference_config\u001b[0m\u001b[0;34m,\u001b[0m \u001b[0mdeployment_config\u001b[0m\u001b[0;34m)\u001b[0m\u001b[0;34m\u001b[0m\u001b[0;34m\u001b[0m\u001b[0m\n\u001b[0m\u001b[1;32m      2\u001b[0m \u001b[0mservice\u001b[0m\u001b[0;34m.\u001b[0m\u001b[0mwait_for_deployment\u001b[0m\u001b[0;34m(\u001b[0m\u001b[0mshow_output\u001b[0m \u001b[0;34m=\u001b[0m \u001b[0;32mTrue\u001b[0m\u001b[0;34m)\u001b[0m\u001b[0;34m\u001b[0m\u001b[0;34m\u001b[0m\u001b[0m\n\u001b[1;32m      3\u001b[0m \u001b[0mprint\u001b[0m\u001b[0;34m(\u001b[0m\u001b[0mservice\u001b[0m\u001b[0;34m.\u001b[0m\u001b[0mstate\u001b[0m\u001b[0;34m)\u001b[0m\u001b[0;34m\u001b[0m\u001b[0;34m\u001b[0m\u001b[0m\n",
            "\u001b[0;32m/anaconda/envs/azureml_py36/lib/python3.6/site-packages/azureml/core/model.py\u001b[0m in \u001b[0;36mdeploy\u001b[0;34m(workspace, name, models, inference_config, deployment_config, deployment_target, overwrite)\u001b[0m\n\u001b[1;32m   1614\u001b[0m         \u001b[0;32mif\u001b[0m \u001b[0muse_env_path\u001b[0m\u001b[0;34m:\u001b[0m\u001b[0;34m\u001b[0m\u001b[0;34m\u001b[0m\u001b[0m\n\u001b[1;32m   1615\u001b[0m             return Model._deploy_with_environment(workspace, name, models, inference_config, deployment_config,\n\u001b[0;32m-> 1616\u001b[0;31m                                                   deployment_target, overwrite)\n\u001b[0m\u001b[1;32m   1617\u001b[0m \u001b[0;34m\u001b[0m\u001b[0m\n\u001b[1;32m   1618\u001b[0m         \u001b[0;31m# ContainerImage-based webservice.\u001b[0m\u001b[0;34m\u001b[0m\u001b[0;34m\u001b[0m\u001b[0;34m\u001b[0m\u001b[0m\n",
            "\u001b[0;32m/anaconda/envs/azureml_py36/lib/python3.6/site-packages/azureml/core/model.py\u001b[0m in \u001b[0;36m_deploy_with_environment\u001b[0;34m(workspace, name, models, inference_config, deployment_config, deployment_target, overwrite)\u001b[0m\n\u001b[1;32m   1811\u001b[0m         \"\"\"\n\u001b[1;32m   1812\u001b[0m         \u001b[0menvironment_image_request\u001b[0m \u001b[0;34m=\u001b[0m\u001b[0;31m \u001b[0m\u001b[0;31m\\\u001b[0m\u001b[0;34m\u001b[0m\u001b[0;34m\u001b[0m\u001b[0m\n\u001b[0;32m-> 1813\u001b[0;31m             \u001b[0minference_config\u001b[0m\u001b[0;34m.\u001b[0m\u001b[0m_build_environment_image_request\u001b[0m\u001b[0;34m(\u001b[0m\u001b[0mworkspace\u001b[0m\u001b[0;34m,\u001b[0m \u001b[0;34m[\u001b[0m\u001b[0mmodel\u001b[0m\u001b[0;34m.\u001b[0m\u001b[0mid\u001b[0m \u001b[0;32mfor\u001b[0m \u001b[0mmodel\u001b[0m \u001b[0;32min\u001b[0m \u001b[0mmodels\u001b[0m\u001b[0;34m]\u001b[0m\u001b[0;34m)\u001b[0m\u001b[0;34m\u001b[0m\u001b[0;34m\u001b[0m\u001b[0m\n\u001b[0m\u001b[1;32m   1814\u001b[0m \u001b[0;34m\u001b[0m\u001b[0m\n\u001b[1;32m   1815\u001b[0m         return Model._deploy_with_environment_image_request(workspace, name, environment_image_request,\n",
            "\u001b[0;32m/anaconda/envs/azureml_py36/lib/python3.6/site-packages/azureml/core/model.py\u001b[0m in \u001b[0;36m<listcomp>\u001b[0;34m(.0)\u001b[0m\n\u001b[1;32m   1811\u001b[0m         \"\"\"\n\u001b[1;32m   1812\u001b[0m         \u001b[0menvironment_image_request\u001b[0m \u001b[0;34m=\u001b[0m\u001b[0;31m \u001b[0m\u001b[0;31m\\\u001b[0m\u001b[0;34m\u001b[0m\u001b[0;34m\u001b[0m\u001b[0m\n\u001b[0;32m-> 1813\u001b[0;31m             \u001b[0minference_config\u001b[0m\u001b[0;34m.\u001b[0m\u001b[0m_build_environment_image_request\u001b[0m\u001b[0;34m(\u001b[0m\u001b[0mworkspace\u001b[0m\u001b[0;34m,\u001b[0m \u001b[0;34m[\u001b[0m\u001b[0mmodel\u001b[0m\u001b[0;34m.\u001b[0m\u001b[0mid\u001b[0m \u001b[0;32mfor\u001b[0m \u001b[0mmodel\u001b[0m \u001b[0;32min\u001b[0m \u001b[0mmodels\u001b[0m\u001b[0;34m]\u001b[0m\u001b[0;34m)\u001b[0m\u001b[0;34m\u001b[0m\u001b[0;34m\u001b[0m\u001b[0m\n\u001b[0m\u001b[1;32m   1814\u001b[0m \u001b[0;34m\u001b[0m\u001b[0m\n\u001b[1;32m   1815\u001b[0m         return Model._deploy_with_environment_image_request(workspace, name, environment_image_request,\n",
            "\u001b[0;31mAttributeError\u001b[0m: 'RandomForestClassifier' object has no attribute 'id'"
          ]
        }
      ],
      "execution_count": 43,
      "metadata": {
        "collapsed": true,
        "jupyter": {
          "source_hidden": false,
          "outputs_hidden": false
        },
        "nteract": {
          "transient": {
            "deleting": false
          }
        }
      }
    },
    {
      "cell_type": "markdown",
      "source": [
        "TODO: In the cell below, send a request to the web service you deployed to test it."
      ],
      "metadata": {
        "collapsed": true,
        "gather": {
          "logged": 1598431657736
        },
        "jupyter": {
          "outputs_hidden": false,
          "source_hidden": false
        },
        "nteract": {
          "transient": {
            "deleting": false
          }
        }
      }
    },
    {
      "cell_type": "code",
      "source": [],
      "outputs": [],
      "execution_count": null,
      "metadata": {
        "collapsed": true,
        "jupyter": {
          "source_hidden": false,
          "outputs_hidden": false
        },
        "nteract": {
          "transient": {
            "deleting": false
          }
        }
      }
    },
    {
      "cell_type": "markdown",
      "source": [
        "TODO: In the cell below, print the logs of the web service and delete the service"
      ],
      "metadata": {
        "collapsed": true,
        "gather": {
          "logged": 1598432765711
        },
        "jupyter": {
          "outputs_hidden": false,
          "source_hidden": false
        },
        "nteract": {
          "transient": {
            "deleting": false
          }
        }
      }
    },
    {
      "cell_type": "code",
      "source": [
        "service.delete()"
      ],
      "outputs": [],
      "execution_count": 34,
      "metadata": {
        "jupyter": {
          "outputs_hidden": false,
          "source_hidden": false
        },
        "nteract": {
          "transient": {
            "deleting": false
          }
        },
        "gather": {
          "logged": 1611997424086
        }
      }
    }
  ],
  "metadata": {
    "kernel_info": {
      "name": "python3"
    },
    "kernelspec": {
      "name": "python3",
      "language": "python",
      "display_name": "Python 3"
    },
    "language_info": {
      "name": "python",
      "version": "3.6.9",
      "mimetype": "text/x-python",
      "codemirror_mode": {
        "name": "ipython",
        "version": 3
      },
      "pygments_lexer": "ipython3",
      "nbconvert_exporter": "python",
      "file_extension": ".py"
    },
    "nteract": {
      "version": "nteract-front-end@1.0.0"
    }
  },
  "nbformat": 4,
  "nbformat_minor": 2
}